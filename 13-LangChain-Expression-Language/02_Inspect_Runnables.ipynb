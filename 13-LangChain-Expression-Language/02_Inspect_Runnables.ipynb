{
 "cells": [
  {
   "cell_type": "markdown",
   "metadata": {},
   "source": [
    "## Runnables 구조 검토"
   ]
  },
  {
   "cell_type": "code",
   "execution_count": 1,
   "metadata": {},
   "outputs": [],
   "source": [
    "# !pip install -qU langchain langchain-openai faiss-cpu tiktoken"
   ]
  },
  {
   "cell_type": "code",
   "execution_count": 2,
   "metadata": {},
   "outputs": [],
   "source": [
    "# !pip install -qU grandalf"
   ]
  },
  {
   "cell_type": "code",
   "execution_count": 4,
   "metadata": {},
   "outputs": [
    {
     "data": {
      "text/plain": [
       "True"
      ]
     },
     "execution_count": 4,
     "metadata": {},
     "output_type": "execute_result"
    }
   ],
   "source": [
    "from dotenv import load_dotenv\n",
    "\n",
    "load_dotenv()"
   ]
  },
  {
   "cell_type": "code",
   "execution_count": 5,
   "metadata": {},
   "outputs": [],
   "source": [
    "from langchain.prompts import ChatPromptTemplate\n",
    "from langchain.vectorstores import FAISS\n",
    "from langchain_core.output_parsers import StrOutputParser\n",
    "from langchain_core.runnables import RunnableLambda, RunnablePassthrough\n",
    "from langchain_openai import ChatOpenAI, OpenAIEmbeddings\n",
    "\n",
    "vectorstore = FAISS.from_texts(\n",
    "    # 텍스트 데이터로부터 FAISS 벡터 저장소를 생성합니다.\n",
    "    [\"Teddy is an AI engineer who loves programming!\"],\n",
    "    embedding=OpenAIEmbeddings(),\n",
    ")\n",
    "\n",
    "# 벡터 저장소를 기반으로 retriever를 생성합니다.\n",
    "retriever = vectorstore.as_retriever()\n",
    "\n",
    "template = \"\"\"Answer the question based only on the following context:\n",
    "{context}  \n",
    "\n",
    "Question: {question}\"\"\"\n",
    "\n",
    "prompt = ChatPromptTemplate.from_template(\n",
    "    template\n",
    ")  # 템플릿을 기반으로 ChatPromptTemplate을 생성합니다.\n",
    "\n",
    "model = ChatOpenAI()  # ChatOpenAI 모델을 초기화합니다.\n",
    "\n",
    "# chain 을 생성합니다.\n",
    "chain = (\n",
    "    # 검색 컨텍스트와 질문을 지정합니다.\n",
    "    {\"context\": retriever, \"question\": RunnablePassthrough()}\n",
    "    | prompt  # 프롬프트를 생성합니다.\n",
    "    | model  # 언어 모델을 실행합니다.\n",
    "    | StrOutputParser()  # 출력 결과를 문자열로 파싱합니다.\n",
    ")"
   ]
  },
  {
   "cell_type": "markdown",
   "metadata": {},
   "source": [
    "### 그래프 구성 확인"
   ]
  },
  {
   "cell_type": "markdown",
   "metadata": {},
   "source": [
    "chain.get_graph() 메서드는 체인의 실행 그래프를 반환합니다.\n",
    "\n",
    "- 이 메서드는 체인의 각 노드와 노드 간의 연결을 나타내는 그래프 객체를 반환합니다.\n",
    "- 그래프의 노드는 체인의 각 단계를 나타내며, 에지(edge)는 단계 간의 데이터 흐름을 나타냅니다."
   ]
  },
  {
   "cell_type": "code",
   "execution_count": 6,
   "metadata": {},
   "outputs": [
    {
     "data": {
      "text/plain": [
       "{'697115a949f848319851f8c238a247e8': Node(id='697115a949f848319851f8c238a247e8', name='Parallel<context,question>Input', data=<class 'pydantic.v1.main.RunnableParallel<context,question>Input'>, metadata=None),\n",
       " '01e4274e37f947fc912c8aff8c2dcb23': Node(id='01e4274e37f947fc912c8aff8c2dcb23', name='Parallel<context,question>Output', data=<class 'pydantic.v1.main.RunnableParallel<context,question>Output'>, metadata=None),\n",
       " '9755830b34d5432c9e030d821e9cb28d': Node(id='9755830b34d5432c9e030d821e9cb28d', name='VectorStoreRetriever', data=VectorStoreRetriever(tags=['FAISS', 'OpenAIEmbeddings'], vectorstore=<langchain_community.vectorstores.faiss.FAISS object at 0x0000024417B61E70>), metadata=None),\n",
       " 'd638c2cc0a5c4091af77f71756a8402a': Node(id='d638c2cc0a5c4091af77f71756a8402a', name='Passthrough', data=RunnablePassthrough(), metadata=None),\n",
       " 'f7f20490b72f4f53bceae67da6590bcd': Node(id='f7f20490b72f4f53bceae67da6590bcd', name='ChatPromptTemplate', data=ChatPromptTemplate(input_variables=['context', 'question'], messages=[HumanMessagePromptTemplate(prompt=PromptTemplate(input_variables=['context', 'question'], template='Answer the question based only on the following context:\\n{context}  \\n\\nQuestion: {question}'))]), metadata=None),\n",
       " 'ec2e9b7c44774372a3b24dd9f4c7705d': Node(id='ec2e9b7c44774372a3b24dd9f4c7705d', name='ChatOpenAI', data=ChatOpenAI(client=<openai.resources.chat.completions.Completions object at 0x0000024417AD3DF0>, async_client=<openai.resources.chat.completions.AsyncCompletions object at 0x0000024417AD1CF0>, openai_api_key=SecretStr('**********'), openai_proxy=''), metadata=None),\n",
       " '2020dd89409346e284b031f4aae6b276': Node(id='2020dd89409346e284b031f4aae6b276', name='StrOutputParser', data=StrOutputParser(), metadata=None),\n",
       " '902186cdfa5a42358f0fc12255583917': Node(id='902186cdfa5a42358f0fc12255583917', name='StrOutputParserOutput', data=<class 'pydantic.v1.main.StrOutputParserOutput'>, metadata=None)}"
      ]
     },
     "execution_count": 6,
     "metadata": {},
     "output_type": "execute_result"
    }
   ],
   "source": [
    "# 체인의 그래프에서 노드를 가져옵니다.\n",
    "chain.get_graph().nodes"
   ]
  },
  {
   "cell_type": "code",
   "execution_count": 7,
   "metadata": {},
   "outputs": [
    {
     "data": {
      "text/plain": [
       "[Edge(source='3ba7ee11b55642eea7c3cbc3081395ff', target='95289e88cf34467db1b877dc466d1b99', data=None, conditional=False),\n",
       " Edge(source='95289e88cf34467db1b877dc466d1b99', target='a53c585d3b37450c97277d6ddec6a2bb', data=None, conditional=False),\n",
       " Edge(source='3ba7ee11b55642eea7c3cbc3081395ff', target='6ccaee407e97468da64353f105d6ce88', data=None, conditional=False),\n",
       " Edge(source='6ccaee407e97468da64353f105d6ce88', target='a53c585d3b37450c97277d6ddec6a2bb', data=None, conditional=False),\n",
       " Edge(source='a53c585d3b37450c97277d6ddec6a2bb', target='1ea5230656dd47e98e05314011f45d06', data=None, conditional=False),\n",
       " Edge(source='1ea5230656dd47e98e05314011f45d06', target='9afe7fcc0cf44648ad16f865046a618b', data=None, conditional=False),\n",
       " Edge(source='68468d967f3c46cc86a91ebf57b65ccf', target='eea817947a3344d18eab2aa52ce1773b', data=None, conditional=False),\n",
       " Edge(source='9afe7fcc0cf44648ad16f865046a618b', target='68468d967f3c46cc86a91ebf57b65ccf', data=None, conditional=False)]"
      ]
     },
     "execution_count": 7,
     "metadata": {},
     "output_type": "execute_result"
    }
   ],
   "source": [
    "# 체인의 그래프에서 엣지를 가져옵니다.\n",
    "chain.get_graph().edges"
   ]
  },
  {
   "cell_type": "markdown",
   "metadata": {},
   "source": [
    "### 그래프 출력"
   ]
  },
  {
   "cell_type": "code",
   "execution_count": 8,
   "metadata": {},
   "outputs": [
    {
     "name": "stdout",
     "output_type": "stream",
     "text": [
      "           +---------------------------------+         \n",
      "           | Parallel<context,question>Input |         \n",
      "           +---------------------------------+         \n",
      "                    **               **                \n",
      "                 ***                   ***             \n",
      "               **                         **           \n",
      "+----------------------+              +-------------+  \n",
      "| VectorStoreRetriever |              | Passthrough |  \n",
      "+----------------------+              +-------------+  \n",
      "                    **               **                \n",
      "                      ***         ***                  \n",
      "                         **     **                     \n",
      "           +----------------------------------+        \n",
      "           | Parallel<context,question>Output |        \n",
      "           +----------------------------------+        \n",
      "                             *                         \n",
      "                             *                         \n",
      "                             *                         \n",
      "                  +--------------------+               \n",
      "                  | ChatPromptTemplate |               \n",
      "                  +--------------------+               \n",
      "                             *                         \n",
      "                             *                         \n",
      "                             *                         \n",
      "                      +------------+                   \n",
      "                      | ChatOpenAI |                   \n",
      "                      +------------+                   \n",
      "                             *                         \n",
      "                             *                         \n",
      "                             *                         \n",
      "                   +-----------------+                 \n",
      "                   | StrOutputParser |                 \n",
      "                   +-----------------+                 \n",
      "                             *                         \n",
      "                             *                         \n",
      "                             *                         \n",
      "                +-----------------------+              \n",
      "                | StrOutputParserOutput |              \n",
      "                +-----------------------+              \n"
     ]
    }
   ],
   "source": [
    "# 체인의 그래프를 ASCII 형식으로 출력합니다.\n",
    "chain.get_graph().print_ascii()"
   ]
  },
  {
   "cell_type": "markdown",
   "metadata": {},
   "source": [
    "### 프롬프트 가져오기"
   ]
  },
  {
   "cell_type": "code",
   "execution_count": 9,
   "metadata": {},
   "outputs": [
    {
     "data": {
      "text/plain": [
       "[ChatPromptTemplate(input_variables=['context', 'question'], messages=[HumanMessagePromptTemplate(prompt=PromptTemplate(input_variables=['context', 'question'], template='Answer the question based only on the following context:\\n{context}  \\n\\nQuestion: {question}'))])]"
      ]
     },
     "execution_count": 9,
     "metadata": {},
     "output_type": "execute_result"
    }
   ],
   "source": [
    "chain.get_prompts()  # 체인에서 사용되는 프롬프트를 가져옵니다."
   ]
  }
 ],
 "metadata": {
  "kernelspec": {
   "display_name": "rag",
   "language": "python",
   "name": "python3"
  },
  "language_info": {
   "codemirror_mode": {
    "name": "ipython",
    "version": 3
   },
   "file_extension": ".py",
   "mimetype": "text/x-python",
   "name": "python",
   "nbconvert_exporter": "python",
   "pygments_lexer": "ipython3",
   "version": "3.10.14"
  }
 },
 "nbformat": 4,
 "nbformat_minor": 2
}
