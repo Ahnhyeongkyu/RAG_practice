{
 "cells": [
  {
   "cell_type": "markdown",
   "metadata": {},
   "source": [
    "## 폴백(fallback)"
   ]
  },
  {
   "cell_type": "markdown",
   "metadata": {},
   "source": [
    "### LLM API Error 에 대처 방법"
   ]
  },
  {
   "cell_type": "markdown",
   "metadata": {},
   "source": [
    "중요: 기본적으로 많은 LLM 래퍼(wrapper)는 오류를 포착하고 재시도합니다. fallback 을 사용할 때는 이러한 기본 동작을 해제하는 것이 좋습니다. 그렇지 않으면 첫 번째 래퍼가 계속 재시도하고 실패하지 않을 것입니다."
   ]
  },
  {
   "cell_type": "code",
   "execution_count": 1,
   "metadata": {},
   "outputs": [],
   "source": [
    "# !pip install -qU langchain langchain-openai"
   ]
  },
  {
   "cell_type": "code",
   "execution_count": 2,
   "metadata": {},
   "outputs": [],
   "source": [
    "from langchain_anthropic import ChatAnthropic\n",
    "from langchain_openai import ChatOpenAI"
   ]
  },
  {
   "cell_type": "code",
   "execution_count": 3,
   "metadata": {},
   "outputs": [],
   "source": [
    "from unittest.mock import patch\n",
    "\n",
    "import httpx\n",
    "from openai import RateLimitError\n",
    "\n",
    "request = httpx.Request(\"GET\", \"/\")  # GET 요청을 생성합니다.\n",
    "response = httpx.Response(\n",
    "    200, request=request\n",
    ")  # 200 상태 코드와 함께 응답을 생성합니다.\n",
    "# \"rate limit\" 메시지와 응답 및 빈 본문을 포함하는 RateLimitError를 생성합니다.\n",
    "error = RateLimitError(\"rate limit\", response=response, body=\"\")"
   ]
  },
  {
   "cell_type": "markdown",
   "metadata": {},
   "source": [
    "- openai_llm 변수에 ChatOpenAI 객체를 생성하고, max_retries 매개변수를 0으로 설정하여 API 호출비용 제한 등으로 인한 재시도를 방지 합니다.\n",
    "\n",
    "- with_fallbacks 메서드를 사용하여 anthropic_llm을 fallback LLM으로 설정하고, 이를 llm 변수에 할당합니다."
   ]
  },
  {
   "cell_type": "code",
   "execution_count": 5,
   "metadata": {},
   "outputs": [
    {
     "data": {
      "text/plain": [
       "True"
      ]
     },
     "execution_count": 5,
     "metadata": {},
     "output_type": "execute_result"
    }
   ],
   "source": [
    "from dotenv import load_dotenv\n",
    "\n",
    "load_dotenv()"
   ]
  },
  {
   "cell_type": "code",
   "execution_count": 6,
   "metadata": {},
   "outputs": [],
   "source": [
    "# OpenAI의 ChatOpenAI 모델을 사용하여 openai_llm 객체를 생성합니다.\n",
    "# max_retries를 0으로 설정하여 속도 제한 등으로 인한 재시도를 방지합니다.\n",
    "openai_llm = ChatOpenAI(max_retries=0)\n",
    "\n",
    "# Anthropic의 ChatAnthropic 모델을 사용하여 anthropic_llm 객체를 생성합니다.\n",
    "anthropic_llm = ChatAnthropic(model=\"claude-3-opus-20240229\")\n",
    "\n",
    "# openai_llm을 기본으로 사용하고, 실패 시 anthropic_llm을 대체로 사용하도록 설정합니다.\n",
    "llm = openai_llm.with_fallbacks([anthropic_llm])"
   ]
  },
  {
   "cell_type": "code",
   "execution_count": 7,
   "metadata": {},
   "outputs": [
    {
     "name": "stdout",
     "output_type": "stream",
     "text": [
      "에러 발생\n"
     ]
    }
   ],
   "source": [
    "# OpenAI LLM을 먼저 사용하여 오류가 발생하는 것을 보여줍니다.\n",
    "with patch(\"openai.resources.chat.completions.Completions.create\", side_effect=error):\n",
    "    try:\n",
    "        # \"닭이 길을 건넌 이유는 무엇일까요?\"라는 질문을 OpenAI LLM에 전달합니다.\n",
    "        print(openai_llm.invoke(\"Why did the chicken cross the road?\"))\n",
    "    except RateLimitError:\n",
    "        # 오류가 발생하면 오류를 출력합니다.\n",
    "        print(\"에러 발생\")"
   ]
  },
  {
   "cell_type": "code",
   "execution_count": 8,
   "metadata": {},
   "outputs": [
    {
     "name": "stdout",
     "output_type": "stream",
     "text": [
      "에러 발생\n"
     ]
    }
   ],
   "source": [
    "# OpenAI API 호출 시 에러가 발생하는 경우 Anthropic 으로 대체하는 코드\n",
    "with patch(\"openai.resources.chat.completions.Completions.create\", side_effect=error):\n",
    "    try:\n",
    "        # \"대한민국의 수도는 어디야?\"라는 질문을 언어 모델에 전달하여 응답을 출력합니다.\n",
    "        print(llm.invoke(\"대한민국의 수도는 어디야?\"))\n",
    "    except RateLimitError:\n",
    "        # RateLimitError가 발생하면 \"에러 발생\"를 출력합니다.\n",
    "        print(\"에러 발생\")"
   ]
  },
  {
   "cell_type": "code",
   "execution_count": 9,
   "metadata": {},
   "outputs": [
    {
     "name": "stdout",
     "output_type": "stream",
     "text": [
      "오류 발생\n"
     ]
    }
   ],
   "source": [
    "from langchain_core.prompts import ChatPromptTemplate\n",
    "\n",
    "prompt = ChatPromptTemplate.from_messages(\n",
    "    [\n",
    "        (\n",
    "            \"system\",\n",
    "            \"질문에 짧고 간결하게 답변해 주세요.\",  # 시스템 역할 설명\n",
    "        ),\n",
    "        (\"human\", \"{country} 의 수도는 어디입니까?\"),  # 사용자 질문 템플릿\n",
    "    ]\n",
    ")\n",
    "chain = prompt | llm  # 프롬프트와 언어 모델을 연결하여 체인 생성\n",
    "# chain = prompt | ChatOpenAI() # 이 코드이 주석을 풀고 실행하면 \"오류 발생\" 문구가 출력됩니다.\n",
    "with patch(\"openai.resources.chat.completions.Completions.create\", side_effect=error):\n",
    "    try:\n",
    "        print(chain.invoke({\"country\": \"대한민국\"}))  # 체인을 호출하여 결과 출력\n",
    "    except RateLimitError:  # API 비용 제한 오류 처리\n",
    "        print(\"오류 발생\")"
   ]
  },
  {
   "cell_type": "markdown",
   "metadata": {},
   "source": [
    "### 처리해야할 오류를 구체적으로 명시한 경우"
   ]
  },
  {
   "cell_type": "code",
   "execution_count": 10,
   "metadata": {},
   "outputs": [
    {
     "name": "stdout",
     "output_type": "stream",
     "text": [
      "오류 발생\n"
     ]
    }
   ],
   "source": [
    "llm = openai_llm.with_fallbacks(\n",
    "    # 대체 LLM으로 anthropic_llm을 사용하고, 예외 처리할 대상으로 KeyboardInterrupt를 지정합니다.\n",
    "    [anthropic_llm],\n",
    "    exceptions_to_handle=(KeyboardInterrupt,),  # 예외 처리 대상을 지정합니다.\n",
    ")\n",
    "\n",
    "# 프롬프트와 LLM을 연결하여 체인을 생성합니다.\n",
    "chain = prompt | llm\n",
    "with patch(\"openai.resources.chat.completions.Completions.create\", side_effect=error):\n",
    "    try:\n",
    "        # 체인을 호출하여 결과를 출력합니다.\n",
    "        print(chain.invoke({\"country\": \"대한민국\"}))\n",
    "    except RateLimitError:\n",
    "        # RateLimitError 예외가 발생하면 \"오류 발생\"를 출력합니다.\n",
    "        print(\"오류 발생\")"
   ]
  },
  {
   "cell_type": "markdown",
   "metadata": {},
   "source": [
    "### fallback 에 여러 모델을 순차적으로 지정"
   ]
  },
  {
   "cell_type": "code",
   "execution_count": 11,
   "metadata": {},
   "outputs": [],
   "source": [
    "from langchain.prompts import PromptTemplate\n",
    "from langchain_core.output_parsers import StrOutputParser\n",
    "from langchain_openai import ChatOpenAI\n",
    "\n",
    "# 프롬프트 생성\n",
    "prompt_template = (\n",
    "    \"질문에 짧고 간결하게 답변해 주세요.\\n\\nQuestion:\\n{question}\\n\\nAnswer:\"\n",
    ")\n",
    "prompt = PromptTemplate.from_template(prompt_template)"
   ]
  },
  {
   "cell_type": "code",
   "execution_count": 12,
   "metadata": {},
   "outputs": [],
   "source": [
    "# 여기서는 쉽게 오류를 발생시킬 수 있는 잘못된 모델 이름을 사용하여 체인을 생성할 것입니다.\n",
    "chat_model = ChatOpenAI(model_name=\"gpt-fake\")\n",
    "bad_chain = prompt | chat_model"
   ]
  },
  {
   "cell_type": "code",
   "execution_count": 13,
   "metadata": {},
   "outputs": [],
   "source": [
    "# fallback 체인을 생성합니다.\n",
    "fallback_chain1 = prompt | ChatOpenAI(model=\"gpt-3.6-turbo\") # 오류\n",
    "fallback_chain2 = prompt | ChatOpenAI(model=\"gpt-3.5-turbo\") # 정상\n",
    "fallback_chain3 = prompt | ChatOpenAI(model=\"gpt-4-turbo-preview\") # 정상"
   ]
  },
  {
   "cell_type": "code",
   "execution_count": 14,
   "metadata": {},
   "outputs": [
    {
     "data": {
      "text/plain": [
       "AIMessage(content='서울입니다.', response_metadata={'token_usage': {'completion_tokens': 5, 'prompt_tokens': 46, 'total_tokens': 51}, 'model_name': 'gpt-3.5-turbo-0125', 'system_fingerprint': None, 'finish_reason': 'stop', 'logprobs': None}, id='run-46ca2c49-0943-4d25-8263-91c16f408e5d-0', usage_metadata={'input_tokens': 46, 'output_tokens': 5, 'total_tokens': 51})"
      ]
     },
     "execution_count": 14,
     "metadata": {},
     "output_type": "execute_result"
    }
   ],
   "source": [
    "# 두 개의 체인을 결합하여 최종 체인을 생성합니다.\n",
    "chain = bad_chain.with_fallbacks(\n",
    "    [fallback_chain1, fallback_chain2, fallback_chain3])\n",
    "# 생성된 체인을 호출하여 입력값을 전달합니다.\n",
    "chain.invoke({\"question\": \"대한민국의 수도는 어디야?\"})"
   ]
  }
 ],
 "metadata": {
  "kernelspec": {
   "display_name": "rag",
   "language": "python",
   "name": "python3"
  },
  "language_info": {
   "codemirror_mode": {
    "name": "ipython",
    "version": 3
   },
   "file_extension": ".py",
   "mimetype": "text/x-python",
   "name": "python",
   "nbconvert_exporter": "python",
   "pygments_lexer": "ipython3",
   "version": "3.10.14"
  }
 },
 "nbformat": 4,
 "nbformat_minor": 2
}
