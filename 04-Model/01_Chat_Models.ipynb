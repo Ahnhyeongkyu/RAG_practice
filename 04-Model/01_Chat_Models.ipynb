{
 "cells": [
  {
   "cell_type": "code",
   "execution_count": 1,
   "metadata": {},
   "outputs": [
    {
     "data": {
      "text/plain": [
       "True"
      ]
     },
     "execution_count": 1,
     "metadata": {},
     "output_type": "execute_result"
    }
   ],
   "source": [
    "# API KEY를 환경변수로 관리하기 위한 설정 파일\n",
    "from dotenv import load_dotenv\n",
    "\n",
    "# API KEY 정보로드\n",
    "load_dotenv()"
   ]
  },
  {
   "cell_type": "code",
   "execution_count": 2,
   "metadata": {},
   "outputs": [
    {
     "name": "stdout",
     "output_type": "stream",
     "text": [
      "LangSmith 추적을 시작합니다.\n",
      "[프로젝트명]\n",
      "CH04-Models\n"
     ]
    }
   ],
   "source": [
    "# LangSmith 추적을 설정합니다. https://smith.langchain.com\n",
    "# !pip install langchain-teddynote\n",
    "from langchain_teddynote import logging\n",
    "from langchain_teddynote.messages import stream_response\n",
    "\n",
    "# 프로젝트 이름을 입력합니다.\n",
    "logging.langsmith(\"CH04-Models\")"
   ]
  },
  {
   "cell_type": "code",
   "execution_count": 3,
   "metadata": {},
   "outputs": [
    {
     "name": "stdout",
     "output_type": "stream",
     "text": [
      "사랑은 매우 복잡하고 다차원적인 감정으로, 사람마다 다르게 정의될 수 있습니다. 일반적으로 사랑은 깊은 애정, 헌신, 그리고 상호 존중을 포함하는 감정입니다. 사랑은 여러 형태로 나타날 수 있습니다:\n",
      "\n",
      "1. **로맨틱한 사랑**: 연인 간의 깊은 애정과 열정을 포함하는 감정입니다.\n",
      "2. **가족 사랑**: 부모와 자식, 형제자매 간의 무조건적인 사랑과 보호 본능을 포함합니다.\n",
      "3. **우정**: 친구 간의 신뢰와 상호 존중을 바탕으로 한 사랑입니다.\n",
      "4. **자기 사랑**: 자신을 존중하고 돌보는 감정입니다.\n",
      "5. **이타적인 사랑**: 다른 사람을 돕고자 하는 무조건적인 사랑입니다.\n",
      "\n",
      "사랑은 기쁨과 행복을 가져다줄 수 있지만, 때로는 고통과 슬픔을 동반하기도 합니다. 사랑은 인간 관계의 중요한 요소로, 우리의 삶에 깊은 영향을 미칩니다."
     ]
    }
   ],
   "source": [
    "from langchain_openai import ChatOpenAI\n",
    "\n",
    "# ChatOpenAI 객체를 생성합니다.\n",
    "gpt = ChatOpenAI(\n",
    "    temperature=0,\n",
    "    model_name=\"gpt-4o\",  # 모델명\n",
    ")\n",
    "\n",
    "# 스트리밍 출력을 위하여 invoke() 대신 stream()을 사용합니다.\n",
    "answer = gpt.stream(\"사랑이 뭔가요?\")\n",
    "\n",
    "# 답변 출력\n",
    "stream_response(answer)"
   ]
  },
  {
   "cell_type": "code",
   "execution_count": 5,
   "metadata": {},
   "outputs": [
    {
     "name": "stdout",
     "output_type": "stream",
     "text": [
      "\"사랑\"은 매우 복잡하고 깊이 있는 감정입니다. 그것은 존경, 친근감, 애정, 그리고 때로는 패션을 포함하는 강력한 긍정적인 감정입니다. 사랑은 종종 가족, 친구, 동반자 등에 대한 깊은 애정 또는 애정의 느낌을 나타냅니다. 그것은 또한 다른 사람들을 향한 자비와 배려, 그리고 그들의 행복과 안녕을 원하는 정서적 상태를 나타낼 수 있습니다. 사랑의 정의는 문화, 개인의 경험, 그리고 관점에 따라 다르게 해석될 수 있습니다. 그것은 보통 관계의 강도, 깊이, 그리고 지속성을 나타냅니다. 사랑에 대한 정확한 정의는 개인과 그 전략, 관계, 그리고 그들이 사랑을 경험하고 표현하는 방식에 따라 다르게 이해될 수 있습니다. 사랑은 또한 자신을 향한 긍정적이고 건강한 감정을 포함할 수 있습니다. 이는 자기존중, 자기효능감, 그리고 자기애를 포함할 수 있습니다. 결국, 사랑은 이해, 관용, 그리고 존중의 표현입니다. 이는 우리 모두가 근본적으로 필요로 하고, 그리고 주고 싶어하는 것입니다."
     ]
    }
   ],
   "source": [
    "from langchain_openai import ChatOpenAI\n",
    "\n",
    "xionic = ChatOpenAI(\n",
    "    model_name=\"xionic-1-72b-20240610\",\n",
    "    base_url=\"https://sionic.chat/v1/\",\n",
    "    api_key=\"934c4bbc-c384-4bea-af82-1450d7f8128d\",\n",
    ")\n",
    "\n",
    "# 스트리밍 출력을 위하여 invoke() 대신 stream()을 사용합니다.\n",
    "answer = xionic.stream(\"사랑이 뭔가요?\")\n",
    "\n",
    "# 답변 출력\n",
    "stream_response(answer)"
   ]
  },
  {
   "cell_type": "code",
   "execution_count": null,
   "metadata": {},
   "outputs": [],
   "source": []
  }
 ],
 "metadata": {
  "kernelspec": {
   "display_name": "rag",
   "language": "python",
   "name": "python3"
  },
  "language_info": {
   "codemirror_mode": {
    "name": "ipython",
    "version": 3
   },
   "file_extension": ".py",
   "mimetype": "text/x-python",
   "name": "python",
   "nbconvert_exporter": "python",
   "pygments_lexer": "ipython3",
   "version": "3.10.14"
  }
 },
 "nbformat": 4,
 "nbformat_minor": 2
}
