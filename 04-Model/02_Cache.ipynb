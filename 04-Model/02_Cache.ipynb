{
 "cells": [
  {
   "cell_type": "code",
   "execution_count": 1,
   "metadata": {},
   "outputs": [
    {
     "data": {
      "text/plain": [
       "True"
      ]
     },
     "execution_count": 1,
     "metadata": {},
     "output_type": "execute_result"
    }
   ],
   "source": [
    "# API KEY를 환경변수로 관리하기 위한 설정 파일\n",
    "from dotenv import load_dotenv\n",
    "\n",
    "# API KEY 정보로드\n",
    "load_dotenv()"
   ]
  },
  {
   "cell_type": "code",
   "execution_count": 2,
   "metadata": {},
   "outputs": [
    {
     "name": "stdout",
     "output_type": "stream",
     "text": [
      "LangSmith 추적을 시작합니다.\n",
      "[프로젝트명]\n",
      "CH04-Models\n"
     ]
    }
   ],
   "source": [
    "# LangSmith 추적을 설정합니다. https://smith.langchain.com\n",
    "# !pip install langchain-teddynote\n",
    "from langchain_teddynote import logging\n",
    "\n",
    "# 프로젝트 이름을 입력합니다.\n",
    "logging.langsmith(\"CH04-Models\")"
   ]
  },
  {
   "cell_type": "code",
   "execution_count": 3,
   "metadata": {},
   "outputs": [],
   "source": [
    "from langchain_openai import ChatOpenAI\n",
    "from langchain_core.prompts import PromptTemplate\n",
    "\n",
    "# 모델을 생성합니다.\n",
    "llm = ChatOpenAI(model_name=\"gpt-3.5-turbo\")\n",
    "\n",
    "# 프롬프트를 생성합니다.\n",
    "prompt = PromptTemplate.from_template(\"{country} 에 대해서 200자 내외로 요약해줘\")\n",
    "\n",
    "# 체인을 생성합니다.\n",
    "chain = prompt | llm"
   ]
  },
  {
   "cell_type": "code",
   "execution_count": 4,
   "metadata": {},
   "outputs": [
    {
     "name": "stdout",
     "output_type": "stream",
     "text": [
      "한국은 동아시아에 위치한 고도로 발전한 산업화 국가로, 전 세계에서 주목받는 문화와 기술력을 보유하고 있다. 서울을 중심으로 현대적인 도시들이 발달하고 있으며, K-pop, K-drama 등의 한류 콘텐츠로 세계적으로 인기를 얻고 있다. 또한 한국은 세계적으로 유명한 기업들을 많이 보유하고 있으며, IT 기술 및 자동차 산업에서 선두를 다투고 있다. 한국은 고도의 교육 시스템과 높은 국민 평균 수입을 가지고 있으며, 전 세계에서 활발한 외교 활동을 펼치고 있다. 한반도에 위치한 한국은 북한과의 관계 등 정치적인 문제로도 주목받고 있다.\n",
      "CPU times: total: 203 ms\n",
      "Wall time: 3.69 s\n"
     ]
    }
   ],
   "source": [
    "%%time \n",
    "response = chain.invoke({\"country\": \"한국\"})\n",
    "print(response.content)"
   ]
  },
  {
   "cell_type": "markdown",
   "metadata": {},
   "source": [
    "### InMemoryCache"
   ]
  },
  {
   "cell_type": "code",
   "execution_count": 5,
   "metadata": {},
   "outputs": [
    {
     "name": "stdout",
     "output_type": "stream",
     "text": [
      "한반도 동북쪽에 위치한 한국은 산과 바다로 둘러싸인 나라이다. 수도는 서울이며, 5천 년 이상의 역사를 가지고 있다. 한국은 세계에서 열일곱 번째로 큰 경제를 가지고 있으며, 선진국으로 발전하고 있다. 한국은 전통적인 문화와 현대적인 문화가 조화롭게 어우러져 있으며, 한류 문화로 유명하다. 또한 한반도 분단으로 남북한 간에 군사적인 긴장 상태가 지속되고 있으며, 평화를 향한 노력이 계속되고 있다. 현재는 IT 기술과 자동차 산업 등 다양한 분야에서 세계적으로 인정받는 기술력을 보유하고 있으며, 글로벌한 영향력을 키우고 있다.\n",
      "CPU times: total: 312 ms\n",
      "Wall time: 3.86 s\n"
     ]
    }
   ],
   "source": [
    "%%time\n",
    "from langchain.globals import set_llm_cache\n",
    "from langchain.cache import InMemoryCache\n",
    "\n",
    "# 인메모리 캐시를 사용합니다.\n",
    "set_llm_cache(InMemoryCache())\n",
    "\n",
    "# 체인을 실행합니다.\n",
    "response = chain.invoke({\"country\": \"한국\"})\n",
    "print(response.content)"
   ]
  },
  {
   "cell_type": "code",
   "execution_count": 6,
   "metadata": {},
   "outputs": [
    {
     "name": "stdout",
     "output_type": "stream",
     "text": [
      "한반도 동북쪽에 위치한 한국은 산과 바다로 둘러싸인 나라이다. 수도는 서울이며, 5천 년 이상의 역사를 가지고 있다. 한국은 세계에서 열일곱 번째로 큰 경제를 가지고 있으며, 선진국으로 발전하고 있다. 한국은 전통적인 문화와 현대적인 문화가 조화롭게 어우러져 있으며, 한류 문화로 유명하다. 또한 한반도 분단으로 남북한 간에 군사적인 긴장 상태가 지속되고 있으며, 평화를 향한 노력이 계속되고 있다. 현재는 IT 기술과 자동차 산업 등 다양한 분야에서 세계적으로 인정받는 기술력을 보유하고 있으며, 글로벌한 영향력을 키우고 있다.\n",
      "CPU times: total: 0 ns\n",
      "Wall time: 4 ms\n"
     ]
    }
   ],
   "source": [
    "%%time\n",
    "# 체인을 실행합니다.\n",
    "response = chain.invoke({\"country\": \"한국\"})\n",
    "print(response.content)"
   ]
  },
  {
   "cell_type": "markdown",
   "metadata": {},
   "source": [
    "### SQLite Cache"
   ]
  },
  {
   "cell_type": "code",
   "execution_count": 7,
   "metadata": {},
   "outputs": [],
   "source": [
    "from langchain_community.cache import SQLiteCache\n",
    "from langchain_core.globals import set_llm_cache\n",
    "import os\n",
    "\n",
    "# 캐시 디렉토리를 생성합니다.\n",
    "if not os.path.exists(\"cache\"):\n",
    "    os.makedirs(\"cache\")\n",
    "\n",
    "# SQLiteCache를 사용합니다.\n",
    "set_llm_cache(SQLiteCache(database_path=\"cache/llm_cache.db\"))"
   ]
  },
  {
   "cell_type": "code",
   "execution_count": 8,
   "metadata": {},
   "outputs": [
    {
     "name": "stdout",
     "output_type": "stream",
     "text": [
      "한국은 동아시아에 위치한 나라로, 서울이 수도이며 인구는 약 5천만 명이 넘는다. 고대부터 현대까지 다양한 역사를 거쳐 왔으며, 한반도 분단 이후 남북간의 긴장 관계가 이어져 왔다. 경제적으로는 세계적인 기업들이 발전하고 있으며 K-pop, K-drama 등 한류 문화가 세계적으로 인기를 끌고 있다. 또한, 한국은 철학, 문화, 음식 등 다양한 면에서 독특한 매력을 가지고 있다. 한반도의 아름다운 자연환경과 도시의 현대적인 모습이 어우러진 나라로 알려져 있으며, 전통과 현대가 공존하는 면모가 돋보인다.\n",
      "CPU times: total: 15.6 ms\n",
      "Wall time: 3.32 s\n"
     ]
    }
   ],
   "source": [
    "%%time \n",
    "# 체인을 실행합니다.\n",
    "response = chain.invoke({\"country\": \"한국\"})\n",
    "print(response.content)"
   ]
  },
  {
   "cell_type": "code",
   "execution_count": null,
   "metadata": {},
   "outputs": [],
   "source": []
  }
 ],
 "metadata": {
  "kernelspec": {
   "display_name": "Python 3",
   "language": "python",
   "name": "python3"
  },
  "language_info": {
   "codemirror_mode": {
    "name": "ipython",
    "version": 3
   },
   "file_extension": ".py",
   "mimetype": "text/x-python",
   "name": "python",
   "nbconvert_exporter": "python",
   "pygments_lexer": "ipython3",
   "version": "3.10.14"
  }
 },
 "nbformat": 4,
 "nbformat_minor": 2
}
