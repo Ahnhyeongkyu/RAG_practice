{
 "cells": [
  {
   "cell_type": "code",
   "execution_count": 10,
   "metadata": {},
   "outputs": [
    {
     "data": {
      "text/plain": [
       "True"
      ]
     },
     "execution_count": 10,
     "metadata": {},
     "output_type": "execute_result"
    }
   ],
   "source": [
    "from dotenv import load_dotenv\n",
    "\n",
    "load_dotenv()"
   ]
  },
  {
   "cell_type": "markdown",
   "metadata": {},
   "source": [
    "## Pinecone"
   ]
  },
  {
   "cell_type": "markdown",
   "metadata": {},
   "source": [
    "Pinecone은 고성능 벡터 데이터베이스로, AI 및 머신러닝 애플리케이션을 위한 효율적인 벡터 저장 및 검색 솔루션입니다.\n",
    "\n",
    "\n",
    "주요 특징:\n",
    "\n",
    "1. 벡터 데이터 저장 및 검색: 고차원 벡터 데이터를 효율적으로 저장하고 검색할 수 있는 시스템을 제공합니다.\n",
    "\n",
    "2. 확장성: 대규모 데이터셋을 처리할 수 있는 확장 가능한 아키텍처를 갖추고 있습니다.\n",
    "\n",
    "3. 개발자 친화적: API를 통해 쉽게 사용할 수 있으며, 다양한 AI 모델과 호환됩니다.\n",
    "\n",
    "4. 완전 관리형 서비스: 사용자가 인프라 관리에 신경 쓰지 않고 애플리케이션 개발에 집중할 수 있습니다.\n",
    "\n",
    "주요 장점:\n",
    "\n",
    "1. 고성능 검색: 수십억 개의 아이템을 밀리초 단위로 빠르게 검색할 수 있습니다.\n",
    "\n",
    "2. AI 애플리케이션 강화: 관련 정보 검색에 의존하는 AI 애플리케이션의 성능을 향상시킬 수 있습니다.\n",
    "\n",
    "3. 쉬운 시작 및 확장: 몇 번의 클릭이나 API 호출만으로 계정 생성과 인덱스 설정이 가능합니다."
   ]
  },
  {
   "cell_type": "code",
   "execution_count": 2,
   "metadata": {},
   "outputs": [
    {
     "name": "stdout",
     "output_type": "stream",
     "text": [
      "Requirement already satisfied: langchain-teddynote in c:\\users\\anhye\\anaconda3\\envs\\rag\\lib\\site-packages (0.0.11)\n",
      "Collecting langchain-teddynote\n",
      "  Downloading langchain_teddynote-0.0.18-py3-none-any.whl.metadata (550 bytes)\n",
      "Requirement already satisfied: langchain in c:\\users\\anhye\\anaconda3\\envs\\rag\\lib\\site-packages (from langchain-teddynote) (0.2.10)\n",
      "Requirement already satisfied: kiwipiepy in c:\\users\\anhye\\anaconda3\\envs\\rag\\lib\\site-packages (from langchain-teddynote) (0.18.0)\n",
      "Requirement already satisfied: konlpy in c:\\users\\anhye\\anaconda3\\envs\\rag\\lib\\site-packages (from langchain-teddynote) (0.6.0)\n",
      "Requirement already satisfied: rank-bm25 in c:\\users\\anhye\\anaconda3\\envs\\rag\\lib\\site-packages (from langchain-teddynote) (0.2.2)\n",
      "Requirement already satisfied: pinecone-client[grpc] in c:\\users\\anhye\\anaconda3\\envs\\rag\\lib\\site-packages (from langchain-teddynote) (5.0.0)\n",
      "Requirement already satisfied: pinecone-text in c:\\users\\anhye\\anaconda3\\envs\\rag\\lib\\site-packages (from langchain-teddynote) (0.9.0)\n",
      "Requirement already satisfied: olefile in c:\\users\\anhye\\anaconda3\\envs\\rag\\lib\\site-packages (from langchain-teddynote) (0.47)\n",
      "Requirement already satisfied: pdf2image in c:\\users\\anhye\\anaconda3\\envs\\rag\\lib\\site-packages (from langchain-teddynote) (1.17.0)\n",
      "Requirement already satisfied: kiwipiepy-model<0.19,>=0.18 in c:\\users\\anhye\\anaconda3\\envs\\rag\\lib\\site-packages (from kiwipiepy->langchain-teddynote) (0.18.0)\n",
      "Requirement already satisfied: numpy<2 in c:\\users\\anhye\\anaconda3\\envs\\rag\\lib\\site-packages (from kiwipiepy->langchain-teddynote) (1.26.4)\n",
      "Requirement already satisfied: tqdm in c:\\users\\anhye\\anaconda3\\envs\\rag\\lib\\site-packages (from kiwipiepy->langchain-teddynote) (4.66.4)\n",
      "Requirement already satisfied: JPype1>=0.7.0 in c:\\users\\anhye\\anaconda3\\envs\\rag\\lib\\site-packages (from konlpy->langchain-teddynote) (1.5.0)\n",
      "Requirement already satisfied: lxml>=4.1.0 in c:\\users\\anhye\\anaconda3\\envs\\rag\\lib\\site-packages (from konlpy->langchain-teddynote) (5.2.2)\n",
      "Requirement already satisfied: PyYAML>=5.3 in c:\\users\\anhye\\anaconda3\\envs\\rag\\lib\\site-packages (from langchain->langchain-teddynote) (6.0.1)\n",
      "Requirement already satisfied: SQLAlchemy<3,>=1.4 in c:\\users\\anhye\\anaconda3\\envs\\rag\\lib\\site-packages (from langchain->langchain-teddynote) (2.0.31)\n",
      "Requirement already satisfied: aiohttp<4.0.0,>=3.8.3 in c:\\users\\anhye\\anaconda3\\envs\\rag\\lib\\site-packages (from langchain->langchain-teddynote) (3.9.5)\n",
      "Requirement already satisfied: async-timeout<5.0.0,>=4.0.0 in c:\\users\\anhye\\anaconda3\\envs\\rag\\lib\\site-packages (from langchain->langchain-teddynote) (4.0.3)\n",
      "Requirement already satisfied: langchain-core<0.3.0,>=0.2.22 in c:\\users\\anhye\\anaconda3\\envs\\rag\\lib\\site-packages (from langchain->langchain-teddynote) (0.2.24)\n",
      "Requirement already satisfied: langchain-text-splitters<0.3.0,>=0.2.0 in c:\\users\\anhye\\anaconda3\\envs\\rag\\lib\\site-packages (from langchain->langchain-teddynote) (0.2.2)\n",
      "Requirement already satisfied: langsmith<0.2.0,>=0.1.17 in c:\\users\\anhye\\anaconda3\\envs\\rag\\lib\\site-packages (from langchain->langchain-teddynote) (0.1.93)\n",
      "Requirement already satisfied: pydantic<3,>=1 in c:\\users\\anhye\\anaconda3\\envs\\rag\\lib\\site-packages (from langchain->langchain-teddynote) (2.8.2)\n",
      "Requirement already satisfied: requests<3,>=2 in c:\\users\\anhye\\anaconda3\\envs\\rag\\lib\\site-packages (from langchain->langchain-teddynote) (2.32.3)\n",
      "Requirement already satisfied: tenacity!=8.4.0,<9.0.0,>=8.1.0 in c:\\users\\anhye\\anaconda3\\envs\\rag\\lib\\site-packages (from langchain->langchain-teddynote) (8.5.0)\n",
      "Requirement already satisfied: pillow in c:\\users\\anhye\\anaconda3\\envs\\rag\\lib\\site-packages (from pdf2image->langchain-teddynote) (10.4.0)\n",
      "Requirement already satisfied: certifi>=2019.11.17 in c:\\users\\anhye\\anaconda3\\envs\\rag\\lib\\site-packages (from pinecone-client[grpc]->langchain-teddynote) (2024.7.4)\n",
      "Requirement already satisfied: pinecone-plugin-inference==1.0.2 in c:\\users\\anhye\\anaconda3\\envs\\rag\\lib\\site-packages (from pinecone-client[grpc]->langchain-teddynote) (1.0.2)\n",
      "Requirement already satisfied: pinecone-plugin-interface<0.0.8,>=0.0.7 in c:\\users\\anhye\\anaconda3\\envs\\rag\\lib\\site-packages (from pinecone-client[grpc]->langchain-teddynote) (0.0.7)\n",
      "Requirement already satisfied: typing-extensions>=3.7.4 in c:\\users\\anhye\\anaconda3\\envs\\rag\\lib\\site-packages (from pinecone-client[grpc]->langchain-teddynote) (4.12.2)\n",
      "Requirement already satisfied: urllib3>=1.26.0 in c:\\users\\anhye\\anaconda3\\envs\\rag\\lib\\site-packages (from pinecone-client[grpc]->langchain-teddynote) (2.2.2)\n",
      "Requirement already satisfied: googleapis-common-protos>=1.53.0 in c:\\users\\anhye\\anaconda3\\envs\\rag\\lib\\site-packages (from pinecone-client[grpc]->langchain-teddynote) (1.63.2)\n",
      "Requirement already satisfied: grpcio>=1.44.0 in c:\\users\\anhye\\anaconda3\\envs\\rag\\lib\\site-packages (from pinecone-client[grpc]->langchain-teddynote) (1.65.1)\n",
      "Requirement already satisfied: lz4>=3.1.3 in c:\\users\\anhye\\anaconda3\\envs\\rag\\lib\\site-packages (from pinecone-client[grpc]->langchain-teddynote) (4.3.3)\n",
      "Requirement already satisfied: protobuf<5.0,>=4.25 in c:\\users\\anhye\\anaconda3\\envs\\rag\\lib\\site-packages (from pinecone-client[grpc]->langchain-teddynote) (4.25.3)\n",
      "Requirement already satisfied: protoc-gen-openapiv2<0.0.2,>=0.0.1 in c:\\users\\anhye\\anaconda3\\envs\\rag\\lib\\site-packages (from pinecone-client[grpc]->langchain-teddynote) (0.0.1)\n",
      "Requirement already satisfied: mmh3<5.0.0,>=4.1.0 in c:\\users\\anhye\\anaconda3\\envs\\rag\\lib\\site-packages (from pinecone-text->langchain-teddynote) (4.1.0)\n",
      "Requirement already satisfied: nltk<4.0.0,>=3.6.5 in c:\\users\\anhye\\anaconda3\\envs\\rag\\lib\\site-packages (from pinecone-text->langchain-teddynote) (3.8.1)\n",
      "Requirement already satisfied: python-dotenv<2.0.0,>=1.0.1 in c:\\users\\anhye\\anaconda3\\envs\\rag\\lib\\site-packages (from pinecone-text->langchain-teddynote) (1.0.1)\n",
      "Requirement already satisfied: types-requests<3.0.0,>=2.25.0 in c:\\users\\anhye\\anaconda3\\envs\\rag\\lib\\site-packages (from pinecone-text->langchain-teddynote) (2.32.0.20240712)\n",
      "Requirement already satisfied: wget<4.0,>=3.2 in c:\\users\\anhye\\anaconda3\\envs\\rag\\lib\\site-packages (from pinecone-text->langchain-teddynote) (3.2)\n",
      "Requirement already satisfied: aiosignal>=1.1.2 in c:\\users\\anhye\\anaconda3\\envs\\rag\\lib\\site-packages (from aiohttp<4.0.0,>=3.8.3->langchain->langchain-teddynote) (1.3.1)\n",
      "Requirement already satisfied: attrs>=17.3.0 in c:\\users\\anhye\\anaconda3\\envs\\rag\\lib\\site-packages (from aiohttp<4.0.0,>=3.8.3->langchain->langchain-teddynote) (23.2.0)\n",
      "Requirement already satisfied: frozenlist>=1.1.1 in c:\\users\\anhye\\anaconda3\\envs\\rag\\lib\\site-packages (from aiohttp<4.0.0,>=3.8.3->langchain->langchain-teddynote) (1.4.1)\n",
      "Requirement already satisfied: multidict<7.0,>=4.5 in c:\\users\\anhye\\anaconda3\\envs\\rag\\lib\\site-packages (from aiohttp<4.0.0,>=3.8.3->langchain->langchain-teddynote) (6.0.5)\n",
      "Requirement already satisfied: yarl<2.0,>=1.0 in c:\\users\\anhye\\anaconda3\\envs\\rag\\lib\\site-packages (from aiohttp<4.0.0,>=3.8.3->langchain->langchain-teddynote) (1.9.4)\n",
      "Requirement already satisfied: packaging in c:\\users\\anhye\\anaconda3\\envs\\rag\\lib\\site-packages (from JPype1>=0.7.0->konlpy->langchain-teddynote) (24.1)\n",
      "Requirement already satisfied: jsonpatch<2.0,>=1.33 in c:\\users\\anhye\\anaconda3\\envs\\rag\\lib\\site-packages (from langchain-core<0.3.0,>=0.2.22->langchain->langchain-teddynote) (1.33)\n",
      "Requirement already satisfied: orjson<4.0.0,>=3.9.14 in c:\\users\\anhye\\anaconda3\\envs\\rag\\lib\\site-packages (from langsmith<0.2.0,>=0.1.17->langchain->langchain-teddynote) (3.10.6)\n",
      "Requirement already satisfied: click in c:\\users\\anhye\\anaconda3\\envs\\rag\\lib\\site-packages (from nltk<4.0.0,>=3.6.5->pinecone-text->langchain-teddynote) (8.1.7)\n",
      "Requirement already satisfied: joblib in c:\\users\\anhye\\anaconda3\\envs\\rag\\lib\\site-packages (from nltk<4.0.0,>=3.6.5->pinecone-text->langchain-teddynote) (1.4.2)\n",
      "Requirement already satisfied: regex>=2021.8.3 in c:\\users\\anhye\\anaconda3\\envs\\rag\\lib\\site-packages (from nltk<4.0.0,>=3.6.5->pinecone-text->langchain-teddynote) (2024.5.15)\n",
      "Requirement already satisfied: annotated-types>=0.4.0 in c:\\users\\anhye\\anaconda3\\envs\\rag\\lib\\site-packages (from pydantic<3,>=1->langchain->langchain-teddynote) (0.7.0)\n",
      "Requirement already satisfied: pydantic-core==2.20.1 in c:\\users\\anhye\\anaconda3\\envs\\rag\\lib\\site-packages (from pydantic<3,>=1->langchain->langchain-teddynote) (2.20.1)\n",
      "Requirement already satisfied: charset-normalizer<4,>=2 in c:\\users\\anhye\\anaconda3\\envs\\rag\\lib\\site-packages (from requests<3,>=2->langchain->langchain-teddynote) (3.3.2)\n",
      "Requirement already satisfied: idna<4,>=2.5 in c:\\users\\anhye\\anaconda3\\envs\\rag\\lib\\site-packages (from requests<3,>=2->langchain->langchain-teddynote) (3.7)\n",
      "Requirement already satisfied: greenlet!=0.4.17 in c:\\users\\anhye\\anaconda3\\envs\\rag\\lib\\site-packages (from SQLAlchemy<3,>=1.4->langchain->langchain-teddynote) (3.0.3)\n",
      "Requirement already satisfied: colorama in c:\\users\\anhye\\anaconda3\\envs\\rag\\lib\\site-packages (from tqdm->kiwipiepy->langchain-teddynote) (0.4.6)\n",
      "Requirement already satisfied: jsonpointer>=1.9 in c:\\users\\anhye\\anaconda3\\envs\\rag\\lib\\site-packages (from jsonpatch<2.0,>=1.33->langchain-core<0.3.0,>=0.2.22->langchain->langchain-teddynote) (3.0.0)\n",
      "Downloading langchain_teddynote-0.0.18-py3-none-any.whl (31 kB)\n",
      "Installing collected packages: langchain-teddynote\n",
      "  Attempting uninstall: langchain-teddynote\n",
      "    Found existing installation: langchain-teddynote 0.0.11\n",
      "    Uninstalling langchain-teddynote-0.0.11:\n",
      "      Successfully uninstalled langchain-teddynote-0.0.11\n",
      "Successfully installed langchain-teddynote-0.0.18\n"
     ]
    }
   ],
   "source": [
    "# !pip install -U langchain-teddynote"
   ]
  },
  {
   "cell_type": "code",
   "execution_count": 3,
   "metadata": {},
   "outputs": [
    {
     "data": {
      "text/plain": [
       "['아',\n",
       " '휴',\n",
       " '아이구',\n",
       " '아이쿠',\n",
       " '아이고',\n",
       " '어',\n",
       " '나',\n",
       " '우리',\n",
       " '저희',\n",
       " '따라',\n",
       " '의해',\n",
       " '을',\n",
       " '를',\n",
       " '에',\n",
       " '의',\n",
       " '가',\n",
       " '으로',\n",
       " '로',\n",
       " '에게',\n",
       " '뿐이다']"
      ]
     },
     "execution_count": 3,
     "metadata": {},
     "output_type": "execute_result"
    }
   ],
   "source": [
    "from langchain_teddynote.korean import stopwords\n",
    "\n",
    "# 한글 불용어 사전 불러오기 (불용어 사전 출처: https://www.ranks.nl/stopwords/korean)\n",
    "stopwords()[:20]"
   ]
  },
  {
   "cell_type": "markdown",
   "metadata": {},
   "source": [
    "### 데이터 전처리"
   ]
  },
  {
   "cell_type": "code",
   "execution_count": 5,
   "metadata": {},
   "outputs": [],
   "source": [
    "import glob\n",
    "from langchain.document_loaders import PyMuPDFLoader\n",
    "from langchain_text_splitters import RecursiveCharacterTextSplitter\n",
    "\n",
    "\n",
    "ROOT_DIR = \"./data\"\n",
    "files = glob.glob(ROOT_DIR + \"/*.pdf\")\n",
    "\n",
    "document_list = []\n",
    "for file in files:\n",
    "    docs = PyMuPDFLoader(file).load()\n",
    "    document_list.extend(docs)"
   ]
  },
  {
   "cell_type": "code",
   "execution_count": 6,
   "metadata": {},
   "outputs": [],
   "source": [
    "text_splitter = RecursiveCharacterTextSplitter(chunk_size=350, chunk_overlap=50)\n",
    "split_docs = text_splitter.split_documents(document_list)"
   ]
  },
  {
   "cell_type": "code",
   "execution_count": 7,
   "metadata": {},
   "outputs": [
    {
     "name": "stderr",
     "output_type": "stream",
     "text": [
      "c:\\Users\\anHye\\anaconda3\\envs\\rag\\lib\\site-packages\\tqdm\\auto.py:21: TqdmWarning: IProgress not found. Please update jupyter and ipywidgets. See https://ipywidgets.readthedocs.io/en/stable/user_install.html\n",
      "  from .autonotebook import tqdm as notebook_tqdm\n",
      "100%|██████████| 733/733 [00:00<00:00, 733053.13it/s]\n"
     ]
    }
   ],
   "source": [
    "from langchain_teddynote.community.pinecone import preprocess_documents\n",
    "\n",
    "contents, metadatas = preprocess_documents(\n",
    "    split_docs=split_docs, metadata_keys=[\"source\", \"page\"]\n",
    ")"
   ]
  },
  {
   "cell_type": "markdown",
   "metadata": {},
   "source": [
    "### Pinecone: 인덱스 생성"
   ]
  },
  {
   "cell_type": "code",
   "execution_count": 24,
   "metadata": {},
   "outputs": [
    {
     "name": "stdout",
     "output_type": "stream",
     "text": [
      "Deleted existing index: teddynote-db-index\n",
      "[create_index]\n",
      "{'dimension': 1024,\n",
      " 'index_fullness': 0.0,\n",
      " 'namespaces': {'': {'vector_count': 0}},\n",
      " 'total_vector_count': 0}\n"
     ]
    }
   ],
   "source": [
    "import os\n",
    "from langchain_teddynote.community.pinecone import create_index\n",
    "from pinecone import Pinecone, ServerlessSpec\n",
    "import pinecone\n",
    "\n",
    "# Pinecone 클라이언트 생성\n",
    "pinecone_client = Pinecone(\n",
    "    api_key=os.environ[\"PINECONE_API_KEY\"],\n",
    "    environment=\"us-west-2\"  # 사용하려는 Pinecone 환경으로 바꾸세요\n",
    ")\n",
    "\n",
    "# 인덱스 이름\n",
    "index_name = \"teddynote-db-index\"\n",
    "\n",
    "# 인덱스가 존재하는지 확인하고 삭제\n",
    "if index_name in [index.name for index in pinecone_client.list_indexes()]:\n",
    "    pinecone_client.delete_index(index_name)\n",
    "    print(f\"Deleted existing index: {index_name}\")\n",
    "\n",
    "pc_index = create_index(\n",
    "    api_key=os.environ[\"PINECONE_API_KEY\"],\n",
    "    index_name=index_name,  # 인덱스 이름을 지정합니다.\n",
    "    dimension=1024,  # Embedding 차원과 맞춥니다. (OpenAIEmbeddings: 1536, UpstageEmbeddings: 4096)\n",
    "    metric=\"dotproduct\",  # 유사도 측정 방법을 지정합니다. (dotproduct, euclidean, cosine)\n",
    ")"
   ]
  },
  {
   "cell_type": "code",
   "execution_count": 25,
   "metadata": {},
   "outputs": [],
   "source": [
    "from langchain_teddynote.community.pinecone import (\n",
    "    create_sparse_encoder,\n",
    "    fit_save_sparse_encoder,\n",
    ")\n",
    "\n",
    "# 한글 불용어 사전 + Kiwi 형태소 분석기를 사용합니다.\n",
    "sparse_encoder = create_sparse_encoder(stopwords(), mode=\"kiwi\")"
   ]
  },
  {
   "cell_type": "code",
   "execution_count": 26,
   "metadata": {},
   "outputs": [
    {
     "name": "stderr",
     "output_type": "stream",
     "text": [
      "100%|██████████| 733/733 [00:06<00:00, 111.29it/s]"
     ]
    },
    {
     "name": "stdout",
     "output_type": "stream",
     "text": [
      "[fit_save_sparse_encoder] Saved sparse encoder to ./sparse_encoder.pkl\n"
     ]
    },
    {
     "name": "stderr",
     "output_type": "stream",
     "text": [
      "\n"
     ]
    }
   ],
   "source": [
    "# Sparse Encoder 를 학습합니다.\n",
    "# 저장하는 경로(save_path)를 잘 기억합니다.\n",
    "saved_path = fit_save_sparse_encoder(\n",
    "    sparse_encoder=sparse_encoder, contents=contents, save_path=\"./sparse_encoder.pkl\"\n",
    ")"
   ]
  },
  {
   "cell_type": "code",
   "execution_count": 27,
   "metadata": {},
   "outputs": [
    {
     "name": "stdout",
     "output_type": "stream",
     "text": [
      "[load_sparse_encoder] load sparse encoder from ./sparse_encoder.pkl\n"
     ]
    }
   ],
   "source": [
    "from langchain_teddynote.community.pinecone import load_sparse_encoder\n",
    "\n",
    "# 추후에 학습된 sparse encoder 를 불러올 때 사용합니다.\n",
    "sparse_encoder = load_sparse_encoder(\"./sparse_encoder.pkl\")"
   ]
  },
  {
   "cell_type": "markdown",
   "metadata": {},
   "source": [
    "#### Pinecone: DB Index에 추가 (Upsert)\n"
   ]
  },
  {
   "cell_type": "markdown",
   "metadata": {},
   "source": [
    "- context: 문서의 내용입니다.\n",
    "- page: 문서의 페이지 번호입니다.\n",
    "- source: 문서의 출처입니다.\n",
    "- values: Embedder 를 통해 얻은 문서의 임베딩입니다.\n",
    "- sparse values: Sparse Encoder 를 통해 얻은 문서의 임베딩입니다."
   ]
  },
  {
   "cell_type": "code",
   "execution_count": 28,
   "metadata": {},
   "outputs": [
    {
     "name": "stderr",
     "output_type": "stream",
     "text": [
      "100%|██████████| 46/46 [08:26<00:00, 11.02s/it]\n"
     ]
    },
    {
     "name": "stdout",
     "output_type": "stream",
     "text": [
      "[upsert_documents]\n",
      "{'dimension': 1024,\n",
      " 'index_fullness': 0.0,\n",
      " 'namespaces': {'teddynote-namespace-01': {'vector_count': 733}},\n",
      " 'total_vector_count': 733}\n"
     ]
    }
   ],
   "source": [
    "from langchain_teddynote.community.pinecone import upsert_documents\n",
    "from langchain.embeddings import HuggingFaceEmbeddings\n",
    "\n",
    "# HuggingFaceHubEmbeddings 인스턴스를 생성합니다.\n",
    "embedder = HuggingFaceEmbeddings(\n",
    "    model_name=\"intfloat/multilingual-e5-large-instruct\",\n",
    "    model_kwargs={\"device\": \"cpu\"},  # 'cuda'로 설정할 수 있음\n",
    "    encode_kwargs={\"normalize_embeddings\": True},\n",
    ")\n",
    "\n",
    "# 문서를 Pinecone에 업로드합니다.\n",
    "upsert_documents(\n",
    "    index=pc_index,  # Pinecone 인덱스\n",
    "    namespace=\"teddynote-namespace-01\",  # Pinecone namespace\n",
    "    contents=contents,  # 이전에 전처리한 문서 내용\n",
    "    metadatas=metadatas,  # 이전에 전처리한 문서 메타데이터\n",
    "    sparse_encoder=sparse_encoder,  # Sparse encoder\n",
    "    embedder=embedder,  # Dense Embedder\n",
    ")"
   ]
  },
  {
   "cell_type": "markdown",
   "metadata": {},
   "source": [
    "### 조회"
   ]
  },
  {
   "cell_type": "code",
   "execution_count": 32,
   "metadata": {},
   "outputs": [
    {
     "name": "stdout",
     "output_type": "stream",
     "text": [
      "[init_pinecone_index]\n",
      "{'dimension': 1024,\n",
      " 'index_fullness': 0.0,\n",
      " 'namespaces': {'teddynote-namespace-01': {'vector_count': 733}},\n",
      " 'total_vector_count': 733}\n"
     ]
    }
   ],
   "source": [
    "from langchain_teddynote.community.pinecone import init_pinecone_index\n",
    "\n",
    "pinecone_params = init_pinecone_index(\n",
    "    index_name=\"teddynote-db-index\",  # Pinecone 인덱스 이름\n",
    "    namespace=\"teddynote-namespace-01\",  # Pinecone Namespace\n",
    "    api_key=os.environ[\"PINECONE_API_KEY\"],  # Pinecone API Key\n",
    "    sparse_encoder_pkl_path=\"./sparse_encoder.pkl\",  # Sparse Encoder 저장경로(save_path)\n",
    "    stopwords=stopwords(),  # 불용어 사전\n",
    "    tokenizer=\"kiwi\",\n",
    "    embeddings=embedder,  # Dense Embedder\n",
    "    top_k=3,  # Top-K 문서 반환 개수\n",
    "    alpha=0.5,  # alpha=0.75로 설정한 경우, (0.75: Dense Embedding, 0.25: Sparse Embedding)\n",
    ")"
   ]
  },
  {
   "cell_type": "code",
   "execution_count": 33,
   "metadata": {},
   "outputs": [],
   "source": [
    "from langchain_teddynote.community.pinecone import PineconeKiwiHybridRetriever\n",
    "\n",
    "pinecone_retriever = PineconeKiwiHybridRetriever(**pinecone_params)"
   ]
  },
  {
   "cell_type": "code",
   "execution_count": 34,
   "metadata": {},
   "outputs": [
    {
     "name": "stdout",
     "output_type": "stream",
     "text": [
      "namespace teddynote-namespace-01\n",
      "論\n",
      "語\n",
      "논\n",
      "어\n",
      "{'page': 11.0, 'source': './data\\\\1568)누구나 한번쯤 읽어야 할 사서삼경 (미리내공방) .pdf', 'score': 0.43457744}\n",
      "\n",
      "====================\n",
      "\n",
      "291\n",
      "周\n",
      "易\n",
      "주\n",
      "역\n",
      "{'page': 291.0, 'source': './data\\\\1568)누구나 한번쯤 읽어야 할 사서삼경 (미리내공방) .pdf', 'score': 0.4279912}\n",
      "\n",
      "====================\n",
      "\n",
      "257\n",
      "書\n",
      "經\n",
      "서\n",
      "경\n",
      "{'page': 257.0, 'source': './data\\\\1568)누구나 한번쯤 읽어야 할 사서삼경 (미리내공방) .pdf', 'score': 0.42739013}\n",
      "\n",
      "====================\n",
      "\n"
     ]
    }
   ],
   "source": [
    "# 실행 결과\n",
    "search_results = pinecone_retriever.invoke(\"앤스로픽\")\n",
    "for result in search_results:\n",
    "    print(result.page_content)\n",
    "    print(result.metadata)\n",
    "    print(\"\\n====================\\n\")"
   ]
  }
 ],
 "metadata": {
  "kernelspec": {
   "display_name": "rag",
   "language": "python",
   "name": "python3"
  },
  "language_info": {
   "codemirror_mode": {
    "name": "ipython",
    "version": 3
   },
   "file_extension": ".py",
   "mimetype": "text/x-python",
   "name": "python",
   "nbconvert_exporter": "python",
   "pygments_lexer": "ipython3",
   "version": "3.10.14"
  }
 },
 "nbformat": 4,
 "nbformat_minor": 2
}
