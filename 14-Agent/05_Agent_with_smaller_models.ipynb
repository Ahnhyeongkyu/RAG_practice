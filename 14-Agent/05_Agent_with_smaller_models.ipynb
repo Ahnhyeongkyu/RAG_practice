{
 "cells": [
  {
   "cell_type": "markdown",
   "metadata": {},
   "source": [
    "### 검색도구: Tavily Search"
   ]
  },
  {
   "cell_type": "code",
   "execution_count": 1,
   "metadata": {},
   "outputs": [
    {
     "data": {
      "text/plain": [
       "True"
      ]
     },
     "execution_count": 1,
     "metadata": {},
     "output_type": "execute_result"
    }
   ],
   "source": [
    "# API KEY를 환경변수로 관리하기 위한 설정 파일\n",
    "from dotenv import load_dotenv\n",
    "\n",
    "# API KEY 정보로드\n",
    "load_dotenv()"
   ]
  },
  {
   "cell_type": "code",
   "execution_count": 2,
   "metadata": {},
   "outputs": [],
   "source": [
    "# TavilySearchResults 클래스를 langchain_community.tools.tavily_search 모듈에서 가져옵니다.\n",
    "from langchain_community.tools.tavily_search import TavilySearchResults\n",
    "\n",
    "# TavilySearchResults 클래스의 인스턴스를 생성합니다\n",
    "# k=5은 검색 결과를 5개까지 가져오겠다는 의미입니다\n",
    "search = TavilySearchResults(k=3)"
   ]
  },
  {
   "cell_type": "code",
   "execution_count": 4,
   "metadata": {},
   "outputs": [
    {
     "data": {
      "text/plain": [
       "[{'url': 'https://news.mt.co.kr/mtview.php?no=2023110910333335010',\n",
       "  'content': '제로원에이아이 (대표 송준호)는 판교 본사를 방문한 사우디아라비아 압둘라지즈 압둘라흐 알리 알 다그리르 이스트 (Abdullaziz Abdullah Ali Al Daghrir Est.) 회사의 알둘라지즈 (Abdullaziz) 대표이사와 상호업무협약 양해각서 (MOU)를 맺었다고 밝혔다.'},\n",
       " {'url': 'https://www.pangyotechnovalley.org/base/board/read?boardManagementNo=16&boardNo=590&menuLevel=2&menuNo=15',\n",
       "  'content': \"제로원에이아이-서울대병원 온라인 의료 AI 경진대회 관련 이미지 | 제공-제로원에이아이. 의료 인공지능 플랫폼 기술선도 기업 '㈜제로원에이아이(대표 송준호)'가 최근 진행된 서울대학교병원 온라인 의료 인공지능 경진대회에 '의료 보안 데이터 특화 인공지능 분석환경(AI SaaS Solution)'을 제공해 ...\"},\n",
       " {'url': 'https://www.etnews.com/20211005000250',\n",
       "  'content': '보안 데이터 인공지능(AI) 플랫폼 기술 선도 기업 제로원에이아이(대표 송준호)는 지난 8월 30일부터 2주간 열렸던 온라인 AI 경진대회 판교 AI 캠프 ...'},\n",
       " {'url': 'https://v.daum.net/v/20211005150704539',\n",
       "  'content': \"보안 데이터 인공지능(AI) 플랫폼 기술 선도 기업 제로원에이아이(대표 송준호)는 지난 8월 30일부터 2주간 열렸던 온라인 AI 경진대회 '판교 AI 캠프' 최종결선에서 우수상을 수상했다고 5일 밝혔다. 경기도가 주최하고 경기도경제과학진흥원에서 주관한 이번 행사는 판교테크노밸리를 중심으로 AI 기업 ...\"},\n",
       " {'url': 'https://www.aitimes.kr/news/articleView.html?idxno=22629',\n",
       "  'content': \"보안 데이터 인공지능 플랫폼 기술 선도 기업 '제로원에이아이 (대표 송준호)'가 지난 8월 30일부터 2주간 열렸던 온라인 AI 경진대회 '판교 AI 캠프 (인공지능 캠프)' 최종결선에서 우수상을 수상했다고 5일 밝혔다.\"}]"
      ]
     },
     "execution_count": 4,
     "metadata": {},
     "output_type": "execute_result"
    }
   ],
   "source": [
    "# 검색 결과를 가져옵니다.\n",
    "search.invoke(\"판교 제로원에이아이 전화번호는 무엇인가요?\")"
   ]
  },
  {
   "cell_type": "markdown",
   "metadata": {},
   "source": [
    "### Agent 가 사용할 도구 목록 정의"
   ]
  },
  {
   "cell_type": "code",
   "execution_count": 5,
   "metadata": {},
   "outputs": [],
   "source": [
    "# tools 리스트에 search를 추가합니다.\n",
    "tools = [search]"
   ]
  },
  {
   "cell_type": "markdown",
   "metadata": {},
   "source": [
    "### Agent with smaller model"
   ]
  },
  {
   "cell_type": "code",
   "execution_count": 6,
   "metadata": {},
   "outputs": [],
   "source": [
    "from langchain.agents import AgentExecutor\n",
    "from langchain.agents.format_scratchpad import format_log_to_messages\n",
    "from langchain.agents.output_parsers import (\n",
    "    ReActJsonSingleInputOutputParser,\n",
    ")\n",
    "from langchain_openai import ChatOpenAI\n",
    "from langchain.prompts import ChatPromptTemplate, MessagesPlaceholder\n",
    "from langchain.pydantic_v1 import BaseModel, Field\n",
    "from langchain.tools.render import render_text_description_and_args\n",
    "from langchain_core.messages import AIMessage, HumanMessage\n",
    "\n",
    "from langchain.pydantic_v1 import BaseModel, Field\n",
    "from langchain.tools import tool\n",
    "\n",
    "\n",
    "local_llm = ChatOpenAI(\n",
    "    base_url=\"http://localhost:1234/v1\",\n",
    "    api_key=\"lm-studio\",\n",
    "    model=\"cognitivecomputations/dolphin-2.9-llama3-8b-gguf\",\n",
    "    temperature=0,\n",
    ")\n",
    "\n",
    "\n",
    "@tool\n",
    "def search_phonenumber(query: str) -> str:\n",
    "    \"\"\"장소에 대한 전화번호 검색 결과를 반환할 때 사용되는 도구입니다\"\"\"\n",
    "    return \"판교 제로원에이아이 전화번호: 010-1234-5678\\n\\n서울 OOO 전화번호: 02-123-4567\"\n",
    "\n",
    "\n",
    "tools = [search_phonenumber]"
   ]
  },
  {
   "cell_type": "code",
   "execution_count": 7,
   "metadata": {},
   "outputs": [],
   "source": [
    "from typing import Tuple, List\n",
    "\n",
    "chat_model_with_stop = local_llm.bind(\n",
    "    stop=[\"Observation\", \"\\nObservation\", \"\\n관측\"])\n",
    "\n",
    "# Inspiration taken from hub.pull(\"hwchase17/react-json\")\n",
    "system_message = f\"\"\"Answer the following questions as best you can.\n",
    "You can answer directly if the user is greeting you or similar.\n",
    "Otherise, you have access to the following tools:\n",
    "\n",
    "{render_text_description_and_args(tools).replace('{', '{{').replace('}', '}}')}\n",
    "\n",
    "The way you use the tools is by specifying a json blob.\n",
    "Specifically, this json should have a `action` key (with the name of the tool to use)\n",
    "and a `action_input` key (with the input to the tool going here).\n",
    "The only values that should be in the \"action\" field are: {[t.name for t in tools]}\n",
    "The $JSON_BLOB should only contain a SINGLE action, \n",
    "do NOT return a list of multiple actions.\n",
    "Here is an example of a valid $JSON_BLOB:\n",
    "```\n",
    "{{{{\n",
    "    \"action\": $TOOL_NAME,\n",
    "    \"action_input\": $INPUT\n",
    "}}}}\n",
    "```\n",
    "The $JSON_BLOB must always be enclosed with triple backticks!\n",
    "\n",
    "ALWAYS use the following format:\n",
    "Question: the input question you must answer\n",
    "Thought: you should always think about what to do\n",
    "Action:```\n",
    "$JSON_BLOB\n",
    "```\n",
    "Observation: the result of the action... \n",
    "(this Thought/Action/Observation can repeat N times)\n",
    "Thought: I now know the final answer\n",
    "Final Answer: the final answer to the original input question\n",
    "\n",
    "Begin! Reminder to always use the exact characters `Final Answer` when responding.'\n",
    "\"\"\"\n",
    "\n",
    "prompt = ChatPromptTemplate.from_messages(\n",
    "    [\n",
    "        (\n",
    "            \"user\",\n",
    "            system_message,\n",
    "        ),\n",
    "        MessagesPlaceholder(variable_name=\"chat_history\"),\n",
    "        (\"user\", \"{input}\"),\n",
    "        MessagesPlaceholder(variable_name=\"agent_scratchpad\"),\n",
    "    ]\n",
    ")\n",
    "\n",
    "\n",
    "def _format_chat_history(chat_history: List[Tuple[str, str]]):\n",
    "    buffer = []\n",
    "    for human, ai in chat_history:\n",
    "        buffer.append(HumanMessage(content=human))\n",
    "        buffer.append(AIMessage(content=ai))\n",
    "    return buffer"
   ]
  },
  {
   "cell_type": "code",
   "execution_count": 8,
   "metadata": {},
   "outputs": [],
   "source": [
    "agent = (\n",
    "    {\n",
    "        \"input\": lambda x: x[\"input\"],\n",
    "        \"agent_scratchpad\": lambda x: format_log_to_messages(x[\"intermediate_steps\"]),\n",
    "        \"chat_history\": lambda x: (\n",
    "            _format_chat_history(x[\"chat_history\"]) if x.get(\n",
    "                \"chat_history\") else []\n",
    "        ),\n",
    "    }\n",
    "    | prompt\n",
    "    | chat_model_with_stop\n",
    "    | ReActJsonSingleInputOutputParser()\n",
    ")\n",
    "\n",
    "\n",
    "# Add typing for input\n",
    "class AgentInput(BaseModel):\n",
    "    input: str\n",
    "    chat_history: List[Tuple[str, str]] = Field(\n",
    "        ..., extra={\"widget\": {\"type\": \"chat\", \"input\": \"input\", \"output\": \"output\"}}\n",
    "    )\n",
    "\n",
    "\n",
    "agent_executor = AgentExecutor(agent=agent, tools=tools, verbose=True).with_types(\n",
    "    input_type=AgentInput\n",
    ")"
   ]
  },
  {
   "cell_type": "code",
   "execution_count": 10,
   "metadata": {},
   "outputs": [],
   "source": [
    "# 검색 결과를 요청 후 질문에 대한 답변을 출력합니다.\n",
    "response = agent_executor.invoke(\n",
    "    {\n",
    "        \"input\": \"판교 제로원에이아이 전화번호를 웹 검색하여 결과를 알려주세요.\",\n",
    "        \"chat_history\": [],\n",
    "    }\n",
    ")\n",
    "print(f'답변: {response[\"output\"]}')\n",
    "# API 연결 문제로 실행 실패"
   ]
  },
  {
   "cell_type": "code",
   "execution_count": 12,
   "metadata": {},
   "outputs": [],
   "source": [
    "parser = ReActJsonSingleInputOutputParser()\n",
    "action = parser.parse(response[\"output\"])"
   ]
  },
  {
   "cell_type": "code",
   "execution_count": 14,
   "metadata": {},
   "outputs": [
    {
     "name": "stdout",
     "output_type": "stream",
     "text": [
      "Collecting langgraph\n",
      "  Downloading langgraph-0.1.19-py3-none-any.whl.metadata (13 kB)\n",
      "Requirement already satisfied: langchain-core<0.3,>=0.2.22 in c:\\users\\anhye\\anaconda3\\envs\\rag\\lib\\site-packages (from langgraph) (0.2.28)\n",
      "Requirement already satisfied: PyYAML>=5.3 in c:\\users\\anhye\\anaconda3\\envs\\rag\\lib\\site-packages (from langchain-core<0.3,>=0.2.22->langgraph) (6.0.1)\n",
      "Requirement already satisfied: jsonpatch<2.0,>=1.33 in c:\\users\\anhye\\anaconda3\\envs\\rag\\lib\\site-packages (from langchain-core<0.3,>=0.2.22->langgraph) (1.33)\n",
      "Requirement already satisfied: langsmith<0.2.0,>=0.1.75 in c:\\users\\anhye\\anaconda3\\envs\\rag\\lib\\site-packages (from langchain-core<0.3,>=0.2.22->langgraph) (0.1.93)\n",
      "Requirement already satisfied: packaging<25,>=23.2 in c:\\users\\anhye\\anaconda3\\envs\\rag\\lib\\site-packages (from langchain-core<0.3,>=0.2.22->langgraph) (24.1)\n",
      "Requirement already satisfied: pydantic<3,>=1 in c:\\users\\anhye\\anaconda3\\envs\\rag\\lib\\site-packages (from langchain-core<0.3,>=0.2.22->langgraph) (2.8.2)\n",
      "Requirement already satisfied: tenacity!=8.4.0,<9.0.0,>=8.1.0 in c:\\users\\anhye\\anaconda3\\envs\\rag\\lib\\site-packages (from langchain-core<0.3,>=0.2.22->langgraph) (8.5.0)\n",
      "Requirement already satisfied: typing-extensions>=4.7 in c:\\users\\anhye\\anaconda3\\envs\\rag\\lib\\site-packages (from langchain-core<0.3,>=0.2.22->langgraph) (4.12.2)\n",
      "Requirement already satisfied: jsonpointer>=1.9 in c:\\users\\anhye\\anaconda3\\envs\\rag\\lib\\site-packages (from jsonpatch<2.0,>=1.33->langchain-core<0.3,>=0.2.22->langgraph) (3.0.0)\n",
      "Requirement already satisfied: orjson<4.0.0,>=3.9.14 in c:\\users\\anhye\\anaconda3\\envs\\rag\\lib\\site-packages (from langsmith<0.2.0,>=0.1.75->langchain-core<0.3,>=0.2.22->langgraph) (3.10.6)\n",
      "Requirement already satisfied: requests<3,>=2 in c:\\users\\anhye\\anaconda3\\envs\\rag\\lib\\site-packages (from langsmith<0.2.0,>=0.1.75->langchain-core<0.3,>=0.2.22->langgraph) (2.32.3)\n",
      "Requirement already satisfied: annotated-types>=0.4.0 in c:\\users\\anhye\\anaconda3\\envs\\rag\\lib\\site-packages (from pydantic<3,>=1->langchain-core<0.3,>=0.2.22->langgraph) (0.7.0)\n",
      "Requirement already satisfied: pydantic-core==2.20.1 in c:\\users\\anhye\\anaconda3\\envs\\rag\\lib\\site-packages (from pydantic<3,>=1->langchain-core<0.3,>=0.2.22->langgraph) (2.20.1)\n",
      "Requirement already satisfied: charset-normalizer<4,>=2 in c:\\users\\anhye\\anaconda3\\envs\\rag\\lib\\site-packages (from requests<3,>=2->langsmith<0.2.0,>=0.1.75->langchain-core<0.3,>=0.2.22->langgraph) (3.3.2)\n",
      "Requirement already satisfied: idna<4,>=2.5 in c:\\users\\anhye\\anaconda3\\envs\\rag\\lib\\site-packages (from requests<3,>=2->langsmith<0.2.0,>=0.1.75->langchain-core<0.3,>=0.2.22->langgraph) (3.7)\n",
      "Requirement already satisfied: urllib3<3,>=1.21.1 in c:\\users\\anhye\\anaconda3\\envs\\rag\\lib\\site-packages (from requests<3,>=2->langsmith<0.2.0,>=0.1.75->langchain-core<0.3,>=0.2.22->langgraph) (2.2.2)\n",
      "Requirement already satisfied: certifi>=2017.4.17 in c:\\users\\anhye\\anaconda3\\envs\\rag\\lib\\site-packages (from requests<3,>=2->langsmith<0.2.0,>=0.1.75->langchain-core<0.3,>=0.2.22->langgraph) (2024.7.4)\n",
      "Downloading langgraph-0.1.19-py3-none-any.whl (102 kB)\n",
      "   ---------------------------------------- 0.0/102.6 kB ? eta -:--:--\n",
      "   --- ------------------------------------ 10.2/102.6 kB ? eta -:--:--\n",
      "   ---------------------------------------- 102.6/102.6 kB 1.5 MB/s eta 0:00:00\n",
      "Installing collected packages: langgraph\n",
      "Successfully installed langgraph-0.1.19\n"
     ]
    }
   ],
   "source": [
    "# !pip install langgraph"
   ]
  },
  {
   "cell_type": "code",
   "execution_count": 15,
   "metadata": {},
   "outputs": [],
   "source": [
    "from langgraph.prebuilt import ToolExecutor\n",
    "\n",
    "# ToolExecutor 클래스의 인스턴스를 생성\n",
    "tool_executor = ToolExecutor(tools)"
   ]
  },
  {
   "cell_type": "code",
   "execution_count": 17,
   "metadata": {},
   "outputs": [],
   "source": [
    "# 결과 확인\n",
    "tool_executor.invoke(action)"
   ]
  },
  {
   "cell_type": "markdown",
   "metadata": {},
   "source": [
    "### 검색 결과를 바탕으로 RAG"
   ]
  },
  {
   "cell_type": "code",
   "execution_count": 18,
   "metadata": {},
   "outputs": [],
   "source": [
    "from langchain_core.agents import AgentAction\n",
    "from langchain_core.prompts import ChatPromptTemplate\n",
    "\n",
    "from langchain_community.chat_models import ChatOllama\n",
    "from langchain_core.callbacks.manager import CallbackManager\n",
    "from langchain_core.callbacks.streaming_stdout import StreamingStdOutCallbackHandler"
   ]
  },
  {
   "cell_type": "code",
   "execution_count": 19,
   "metadata": {},
   "outputs": [],
   "source": [
    "eeve = ChatOllama(\n",
    "    model=\"EEVE-Korean-10.8B:long\",\n",
    "    temperature=0,\n",
    "    callback_manager=CallbackManager([StreamingStdOutCallbackHandler()]),\n",
    ")"
   ]
  },
  {
   "cell_type": "code",
   "execution_count": 22,
   "metadata": {},
   "outputs": [],
   "source": [
    "# 결과 확인\n",
    "dummy_tool_executor = ToolExecutor([search_phonenumber])\n",
    "dummy_result = dummy_tool_executor.invoke(action)\n",
    "dummy_result"
   ]
  },
  {
   "cell_type": "code",
   "execution_count": 23,
   "metadata": {},
   "outputs": [],
   "source": [
    "prompt = ChatPromptTemplate.from_messages(\n",
    "    [\n",
    "        (\n",
    "            \"system\",\n",
    "            \"You are a helpful AI Assistant. You must answer the question based on the context.\\n#Context: {context}\",\n",
    "        ),\n",
    "        (\"user\", \"{question}\"),\n",
    "    ]\n",
    ")\n",
    "\n",
    "chain = prompt | eeve"
   ]
  },
  {
   "cell_type": "code",
   "execution_count": 27,
   "metadata": {},
   "outputs": [],
   "source": [
    "_ = chain.invoke(\n",
    "    {\n",
    "        \"question\": \"판교 제로원에이아이 전화번호를 웹 검색하여 결과를 알려주세요.\",\n",
    "        \"context\": dummy_result,\n",
    "    }\n",
    ")"
   ]
  },
  {
   "cell_type": "code",
   "execution_count": 31,
   "metadata": {},
   "outputs": [],
   "source": [
    "search_action = AgentAction(\n",
    "    log=\"test\",\n",
    "    tool=TavilySearchResults().name,\n",
    "    tool_input={\"query\": \"판교 제로원에이아이 전화번호\"},\n",
    ")"
   ]
  },
  {
   "cell_type": "code",
   "execution_count": 32,
   "metadata": {},
   "outputs": [
    {
     "data": {
      "text/plain": [
       "[{'url': 'https://www.saramin.co.kr/zf_user/jobs/view?rec_idx=40916614',\n",
       "  'content': '(주)제로원에이아이에서 채용공고가 시작되면 ... ㆍ 근무지역: (13449) 경기 성남시 수정구 대왕판교로 815 판교창조경제밸리 기업지원허브 p842(시흥동) 유연근무제(탄력적근로시간제, 재량근로시간제, 보상휴가제) 및 포괄임금제 운영 ... 전화번호, 이메일 주소 ...'},\n",
       " {'url': 'https://www.pangyotechnovalley.org/base/board/read?boardManagementNo=16&boardNo=674&menuLevel=2&menuNo=15',\n",
       "  'content': '판교 테크노밸리 ... 보안 데이터 인공지능 플랫폼 기술 선도 기업 ㈜제로원에이아이(대표 송준호)는 koren ip 백본망 트래픽 감시 및 장애 분석을 위한 ai 관제 시스템 구축 사업의 8종 기능에 대해 한국전자통신연구원(etri)의 시험 통과 인증을 획득했다고 12일 ...'},\n",
       " {'url': 'https://www.pangyotechnovalley.org/base/board/read?boardManagementNo=16&boardNo=510&menuLevel=2&menuNo=13',\n",
       "  'content': \"판교 창업존, 제7회 스타트업 815 'd.n.a분야' ir 성료 (2021.10.29) ... '제로원에이아이'(ai 플랫폼(saas), 빅데이터 플랫폼(paas)) '스마트인사이드에이아이'(건설 현장 특화 영상 ai) '옐로나이프'(차량용 디지털 계기판 ui 커스터마이징 기술) '오터컴퍼니'(키워드 기반 맞춤 ...\"},\n",
       " {'url': 'https://www.jumpit.co.kr/company/5018?company_nm=제로원에이아이',\n",
       "  'content': '제로원에이아이. ... 업력 6년차 (2019년 설립)대표주소 경기 성남시 수정구 창업로 43 판교글로벌비즈센터 b705.'},\n",
       " {'url': 'https://www.etnews.com/20211005000250',\n",
       "  'content': \"보안 데이터 인공지능 (AI) 플랫폼 기술 선도 기업 제로원에이아이 (대표 송준호)는 지난 8월 30일부터 2주간 열렸던 온라인 AI 경진대회 '판교 AI 캠프 ...\"}]"
      ]
     },
     "execution_count": 32,
     "metadata": {},
     "output_type": "execute_result"
    }
   ],
   "source": [
    "tool_executor = ToolExecutor([TavilySearchResults(k=3)])\n",
    "result = tool_executor.invoke(search_action)\n",
    "result"
   ]
  },
  {
   "cell_type": "code",
   "execution_count": 33,
   "metadata": {},
   "outputs": [
    {
     "data": {
      "text/plain": [
       "\"(주)제로원에이아이에서 채용공고가 시작되면 ... ㆍ 근무지역: (13449) 경기 성남시 수정구 대왕판교로 815 판교창조경제밸리 기업지원허브 p842(시흥동) 유연근무제(탄력적근로시간제, 재량근로시간제, 보상휴가제) 및 포괄임금제 운영 ... 전화번호, 이메일 주소 ... 판교 테크노밸리 ... 보안 데이터 인공지능 플랫폼 기술 선도 기업 ㈜제로원에이아이(대표 송준호)는 koren ip 백본망 트래픽 감시 및 장애 분석을 위한 ai 관제 시스템 구축 사업의 8종 기능에 대해 한국전자통신연구원(etri)의 시험 통과 인증을 획득했다고 12일 ... 판교 창업존, 제7회 스타트업 815 'd.n.a분야' ir 성료 (2021.10.29) ... '제로원에이아이'(ai 플랫폼(saas), 빅데이터 플랫폼(paas)) '스마트인사이드에이아이'(건설 현장 특화 영상 ai) '옐로나이프'(차량용 디지털 계기판 ui 커스터마이징 기술) '오터컴퍼니'(키워드 기반 맞춤 ... 제로원에이아이. ... 업력 6년차 (2019년 설립)대표주소 경기 성남시 수정구 창업로 43 판교글로벌비즈센터 b705. 보안 데이터 인공지능 (AI) 플랫폼 기술 선도 기업 제로원에이아이 (대표 송준호)는 지난 8월 30일부터 2주간 열렸던 온라인 AI 경진대회 '판교 AI 캠프 ...\""
      ]
     },
     "execution_count": 33,
     "metadata": {},
     "output_type": "execute_result"
    }
   ],
   "source": [
    "search_result = \" \".join([r[\"content\"] for r in result])\n",
    "search_result"
   ]
  },
  {
   "cell_type": "code",
   "execution_count": 35,
   "metadata": {},
   "outputs": [],
   "source": [
    "_ = chain.invoke(\n",
    "    {\n",
    "        \"question\": \"판교 제로원에이아이 전화번호를 웹 검색하여 결과를 알려주세요.\",\n",
    "        \"context\": search_result,\n",
    "    }\n",
    ")"
   ]
  }
 ],
 "metadata": {
  "kernelspec": {
   "display_name": "rag",
   "language": "python",
   "name": "python3"
  },
  "language_info": {
   "codemirror_mode": {
    "name": "ipython",
    "version": 3
   },
   "file_extension": ".py",
   "mimetype": "text/x-python",
   "name": "python",
   "nbconvert_exporter": "python",
   "pygments_lexer": "ipython3",
   "version": "3.10.14"
  }
 },
 "nbformat": 4,
 "nbformat_minor": 2
}
