{
 "cells": [
  {
   "cell_type": "markdown",
   "metadata": {},
   "source": [
    "## Agent"
   ]
  },
  {
   "cell_type": "markdown",
   "metadata": {},
   "source": [
    "### 도구(Tools)"
   ]
  },
  {
   "cell_type": "code",
   "execution_count": 1,
   "metadata": {},
   "outputs": [
    {
     "data": {
      "text/plain": [
       "True"
      ]
     },
     "execution_count": 1,
     "metadata": {},
     "output_type": "execute_result"
    }
   ],
   "source": [
    "# API KEY를 환경변수로 관리하기 위한 설정 파일\n",
    "from dotenv import load_dotenv\n",
    "\n",
    "# API KEY 정보로드\n",
    "load_dotenv()"
   ]
  },
  {
   "cell_type": "markdown",
   "metadata": {},
   "source": [
    "### 검색도구: Tavily Search"
   ]
  },
  {
   "cell_type": "code",
   "execution_count": 2,
   "metadata": {},
   "outputs": [],
   "source": [
    "# TavilySearchResults 클래스를 langchain_community.tools.tavily_search 모듈에서 가져옵니다.\n",
    "from langchain_community.tools.tavily_search import TavilySearchResults\n",
    "\n",
    "# TavilySearchResults 클래스의 인스턴스를 생성합니다\n",
    "# k=5은 검색 결과를 5개까지 가져오겠다는 의미입니다\n",
    "search = TavilySearchResults(k=5)"
   ]
  },
  {
   "cell_type": "markdown",
   "metadata": {},
   "source": [
    "- search.invoke 함수는 주어진 문자열에 대한 검색을 실행합니다.\n",
    "\n",
    "- invoke() 함수에 검색하고 싶은 검색어를 넣어 검색을 수행합니다."
   ]
  },
  {
   "cell_type": "code",
   "execution_count": 3,
   "metadata": {},
   "outputs": [
    {
     "data": {
      "text/plain": [
       "[{'url': 'https://blog.naver.com/PostView.naver?blogId=amour1115&logNo=223386213560',\n",
       "  'content': '카카오 프렌즈 판교 아지트점. . 연중무휴 12:00-21:00. 토, 일 12:00-20:00. . 경기 성남시 분당구 판교역로 166. 카카오 판교 아지트 1층 카카오 프렌즈. 031-301-7225. 존재하지 않는 이미지입니다.'},\n",
       " {'url': 'https://blog.naver.com/PostView.naver?blogId=ifnotnow_thenwhen&logNo=223203793513&noTrackingCode=true',\n",
       "  'content': '카카오프렌즈샵 판교아지트 정말 국민 캐릭터라고 해도 크게 반발할 사람 없는 #카카오프렌즈 남편 친구가 판교 카카오아지트에서 일한다고 들었는데 ... 달달한 고구마가 먹고 싶어진 카카오 프렌즈샵 방문후기였습니다^^ ...'},\n",
       " {'url': 'https://blog.naver.com/PostView.naver?blogId=0_0hy&logNo=222982732699',\n",
       "  'content': '새해 목표 예쁜 쓰레기 구매하지 않기 잘 실천중\\n춘식이가 쓰레기라는건 아니지만^__ㅠ\\n\\u200b\\n바라만봐도 행복해진다\\n\\u200b\\n애견용품까지 춘식이 버전ㅋㅋㅋㅋㅋㅋㅋㅋ\\n\\u200b\\n♥ ♥ ♥\\n\\u200b\\n\\u200b\\n\\u200b\\n\\u200b\\n2m 대왕 춘식이랑 ~~♥\\n\\u200b\\n진짜 사려다가 참았다 .\\n \\u200b\\n\\u200b\\n춘식이 랜덤 피규어 ♥\\n카카오프렌즈 최애 캐릭터가 춘식이라 보자마자 구매해야 겠다고 생각했다\\n\\u200b\\n\\u200b\\n젤 갖고싶었던 만년달력.. 가격은 사악 그잡채\\n\\u200b\\n춘식이 x 최고심 콜라보 *__*\\n\\u200b\\n\\u200b\\n두번째로 좋아하는 죠르디\\n앉은모습 졸귀야 ..\\n 갖고 싶단 말이지\\n\\u200b\\n\\u200b\\n에어팟 꽂은 라이언ㅋㅋㅋㅋㅋㅋㅋㅋㅋㅋㅋㅋㅋ\\n\\u200b\\n\\u200b\\n춘식러버는 춘식이 천국이라 행복\\n\\u200b\\n\\u200b\\n\\u200b\\n랜드마크 브릭피규어\\n우리나라 랜드마크도 출시 예정이라고 하던데 언제 나오는지..?\\n \\u200b\\n\\u200b\\n\\u200b\\n\\u200b\\n카카오프렌즈 판교아지트점\\n경기 성남시 분당구 판교역로 166 카카오판교아지트 1층 카카오프렌즈\\n평일 10:00 - 21:00, 토일 12:00 - 20:00\\n031-601-7225\\n판교 카카오 본사 건물 1층에 있음 !\\n \\u200b\\n\\u200b\\n\\u200b\\n\\u200b\\n\\u200b\\n\\u200b\\n\\u200b\\n앙꼬 / 루피 / 무직타이거 까지 !!\\n'},\n",
       " {'url': 'https://m.blog.naver.com/ifnotnow_thenwhen/223203793513',\n",
       "  'content': '경기도 성남시 분당구 판교역로 166. 층을 걸쳐 번쩍번쩍 전광판에.. 나 이런데 다닌다.. 하면 간지나겠더라고용 ㅎㅎ. 건물 1층 일반인들이 그래도 자유롭게 다닐 수 있을만한 곳들을 살짝 구경하고. 춘식이가 안내하고 있는 방향으로 카카오프렌즈샵을 ...'},\n",
       " {'url': 'https://m.blog.naver.com/celina_827/222924602339',\n",
       "  'content': '너무 귀여운 카카오 속 세상이예요ㅠㅠ\\n\\u200b\\n경기도 성남시 분당구 판교역로 166\\n💬카카오프렌즈샵 아지트점은\\n판교역 1번 출구, 4번 출구를 이용하셔도 되고,\\n지하통로로도 연결되어있으니 참고 하세요!\\n\\u200b\\n💬영업시간\\n월 -금 10 : 00 ~ 21 : 00\\n토 - 일 12 : 00 ~ 20 : 00\\n\\u200b\\n\\u200b\\n소소한 episode가 있는 일상, 정보, 맛집을 포스팅하는 셀리나 입니다 ( ੭ ･ᴗ･ )੭\\n이 블로그\\nPANGYO LIFE\\n카테고리 글\\n카테고리\\n이 블로그\\nPANGYO LIFE\\n카테고리 글 \\u200b\\n근데 저 손잡은 춘식이 너무 귀여운거 아니냐구요 ㅠㅠ\\n크리스마스 맞이 산타 라이언🎄\\n폭신한 라이언 바디 필로우 사고싶지만\\n99.000원💸\\n핳 너무 비싸당 ㅎㅎㅎㅎ\\n아이패드파우치, 폰 거치대, 에어팟케이스 많지만\\n전...ㅎ 마우스 패드 살까 말까 고민 엄청했어요\\n\\u200b\\n근데 과연 사이즈가 괜찮을까 싶고...\\n근데 너무 귀엽다...\\n(ﾉ◕ヮ◕)ﾉ\\n\\u200b\\n그리고 카카오 프렌즈샵에\\n차량 아이템이 생각보다 많아서 놀랬어요!\\n피규어가 들어가있어서 그런지\\n주차번호판도 비싸다 ㅎㅎㅎ\\n차량 내부 송풍다는 송풍구 방향제!!\\n \\u200b\\n이걸 대체 어디다 써?싶었지만\\n요즘 정말 젊은 사람들도 골프를 많이 치니까\\n채를 보호하는 커버나 보호대같은걸 귀여운 캐릭터로\\n사는 사람이 있겠구나 싶더라구요\\U0001fae3\\n골프용품이 있는곳에 있는 이 인형들은\\n도대체 어디다 쓰는거지 싶었는데\\n\\u200b\\n요렇게 쓰더라구요 ᕙ༼◕ ᴥ ◕༽ᕗ\\n👇🏻👇🏻\\n아니 이러면 커버 뚜껑은 어케 잠그지....?\\n 🔖혀땳은앙꼬\\n\\u200b\\n앙꼬 이모티콘을 너무 좋아해서 사서 쓰곤 했는데\\n이렇게 캐릭터 굿즈가 나오다니\\n너무 반갑더라구요 😍😍\\n스티커는 진작 품절이더라구요◡̈\\n역시 앙꼬는 귀여운 아이였어 ∑ദ്ദി˙◡･)\\n\\u200b\\n🔖인스타에서 핫하다는 목욕하는 춘식이◡̈\\n지금 카카오 프랜즈들의 대세는 춘식이인가봐요.\\n 🔖소주디스펜서죠르디 39,000원\\n🔖전동와인오프너치얼스라이언\\n23,000원\\n🔖라이언크리미맥주거품기 29,000원\\n🔖턴테이블 스피커\\n55,000원\\n여긴 스텐드들의 집합?💡\\n캬아 춘식이 피큐어예요!!!\\n'}]"
      ]
     },
     "execution_count": 3,
     "metadata": {},
     "output_type": "execute_result"
    }
   ],
   "source": [
    "# 검색 결과를 가져옵니다.\n",
    "search.invoke(\"판교 카카오 프렌즈샵 아지트점의 전화번호는 무엇인가요?\")"
   ]
  },
  {
   "cell_type": "markdown",
   "metadata": {},
   "source": [
    "### PDF 기반 문서 검색 도구: Retriever"
   ]
  },
  {
   "cell_type": "code",
   "execution_count": 9,
   "metadata": {},
   "outputs": [],
   "source": [
    "from langchain.text_splitter import RecursiveCharacterTextSplitter\n",
    "from langchain_community.vectorstores import FAISS\n",
    "from langchain_openai import OpenAIEmbeddings\n",
    "from langchain.document_loaders import PyPDFLoader, PyMuPDFLoader\n",
    "\n",
    "# PDF 파일 로드. 파일의 경로 입력\n",
    "loader = PyMuPDFLoader(\"../12-RAG/data/1568)누구나 한번쯤 읽어야 할 사서삼경 (미리내공방) .pdf\")\n",
    "\n",
    "# 텍스트 분할기를 사용하여 문서를 분할합니다.\n",
    "text_splitter = RecursiveCharacterTextSplitter(chunk_size=1000, chunk_overlap=100)\n",
    "\n",
    "# 문서를 로드하고 분할합니다.\n",
    "split_docs = loader.load_and_split(text_splitter)\n",
    "\n",
    "# VectorStore를 생성합니다.\n",
    "vector = FAISS.from_documents(split_docs, OpenAIEmbeddings())\n",
    "\n",
    "# Retriever를 생성합니다.\n",
    "retriever = vector.as_retriever()"
   ]
  },
  {
   "cell_type": "code",
   "execution_count": 10,
   "metadata": {},
   "outputs": [
    {
     "data": {
      "text/plain": [
       "Document(metadata={'source': '../12-RAG/data/1568)누구나 한번쯤 읽어야 할 사서삼경 (미리내공방) .pdf', 'file_path': '../12-RAG/data/1568)누구나 한번쯤 읽어야 할 사서삼경 (미리내공방) .pdf', 'page': 328, 'total_pages': 353, 'format': 'PDF 1.7', 'title': '', 'author': '', 'subject': '', 'keywords': '', 'creator': 'Adobe InDesign CS6 (Macintosh)', 'producer': 'Adobe PDF Library 10.0.1', 'creationDate': \"D:20200511173841+09'00'\", 'modDate': \"D:20200512114412+09'00'\", 'trapped': ''}, page_content='328\\n서 그분들의 행적에 대해서는 누구보다 많이 알고 있습니다. 그런데 \\n일찍이 지금의 전하처럼 문란한 군왕은 계시지 않았습니다.”\\n김처선의 입에서 그 말이 나오자 주위에 있던 신하들은 깜짝 놀랐\\n다. 그것은 자기를 죽여달라고 하는 말이나 다름없었기 때문이다. 당\\n연히 연산군의 분노가 터져 나왔다.\\n“저 늙은이가 죽으려고 환장을 한 모양이구나! 오냐, 소원대로 \\n죽여주마!”\\n연산군은 거칠게 활을 찾아들고는 김처선을 향해 화살을 쏘았\\n다. 김처선은 곧 옆구리에 그 화살을 맞고 쓰러졌다. 그러면서도 그\\n는 입을 열어 연산군에게 간했다.\\n“내시인 제 목숨은 파리 목숨이나 마찬가지여서 이 자리에서 죽\\n는다 해도 여한은 없습니다. 하지만 전하께서는 용상을 오래 지키\\n셔야 하는데 제 생각에는 그리될 수가 없을 듯해 그것이 두려울 뿐')"
      ]
     },
     "execution_count": 10,
     "metadata": {},
     "output_type": "execute_result"
    }
   ],
   "source": [
    "# PDf 문서에서 Query 에 대한 관련성 높은 Chunk 를 가져옵니다.\n",
    "retriever.get_relevant_documents(\n",
    "    \"사서삼경에서 군자의 덕목에 대해 알려줘\"\n",
    ")[0]"
   ]
  },
  {
   "cell_type": "code",
   "execution_count": 11,
   "metadata": {},
   "outputs": [],
   "source": [
    "# langchain 패키지의 tools 모듈에서 retriever 도구를 생성하는 함수를 가져옵니다.\n",
    "from langchain.tools.retriever import create_retriever_tool"
   ]
  },
  {
   "cell_type": "code",
   "execution_count": 13,
   "metadata": {},
   "outputs": [],
   "source": [
    "retriever_tool = create_retriever_tool(\n",
    "    retriever,\n",
    "    name=\"pdf_search\",\n",
    "    description=\"군자의 덕목에 관한 정보를 PDF 문서에서 검색합니다, 사서삼경과 관련한 질문은 이 도구를 사용해야 합니다.\",\n",
    ")"
   ]
  },
  {
   "cell_type": "markdown",
   "metadata": {},
   "source": [
    "### Agent 가 사용할 도구 목록 정의"
   ]
  },
  {
   "cell_type": "code",
   "execution_count": 14,
   "metadata": {},
   "outputs": [],
   "source": [
    "# tools 리스트에 search와 retriever_tool을 추가합니다.\n",
    "tools = [search, retriever_tool]"
   ]
  },
  {
   "cell_type": "markdown",
   "metadata": {},
   "source": [
    "### 에이전트 생성"
   ]
  },
  {
   "cell_type": "code",
   "execution_count": 15,
   "metadata": {},
   "outputs": [],
   "source": [
    "from langchain_openai import ChatOpenAI\n",
    "\n",
    "# ChatOpenAI 클래스를 langchain_openai 모듈에서 가져옵니다.\n",
    "llm = ChatOpenAI(model=\"gpt-4-turbo-preview\", temperature=0)"
   ]
  },
  {
   "cell_type": "code",
   "execution_count": 16,
   "metadata": {},
   "outputs": [
    {
     "data": {
      "text/plain": [
       "[SystemMessagePromptTemplate(prompt=PromptTemplate(input_variables=[], template='You are a helpful assistant')),\n",
       " MessagesPlaceholder(variable_name='chat_history', optional=True),\n",
       " HumanMessagePromptTemplate(prompt=PromptTemplate(input_variables=['input'], template='{input}')),\n",
       " MessagesPlaceholder(variable_name='agent_scratchpad')]"
      ]
     },
     "execution_count": 16,
     "metadata": {},
     "output_type": "execute_result"
    }
   ],
   "source": [
    "from langchain import hub\n",
    "\n",
    "# hub에서 prompt를 가져옵니다 - 이 부분을 수정할 수 있습니다!\n",
    "prompt = hub.pull(\"hwchase17/openai-functions-agent\")\n",
    "\n",
    "# prompt 의 messages를 출력합니다.\n",
    "prompt.messages"
   ]
  },
  {
   "cell_type": "code",
   "execution_count": 17,
   "metadata": {},
   "outputs": [],
   "source": [
    "from langchain.agents import create_openai_functions_agent\n",
    "\n",
    "# OpenAI 함수 기반 에이전트를 생성합니다.\n",
    "# llm, tools, prompt를 인자로 사용합니다.\n",
    "agent = create_openai_functions_agent(llm, tools, prompt)"
   ]
  },
  {
   "cell_type": "code",
   "execution_count": 18,
   "metadata": {},
   "outputs": [],
   "source": [
    "from langchain.agents import AgentExecutor\n",
    "\n",
    "# AgentExecutor 클래스를 사용하여 agent와 tools를 설정하고, 상세한 로그를 출력하도록 verbose를 True로 설정합니다.\n",
    "agent_executor = AgentExecutor(agent=agent, tools=tools, verbose=True)"
   ]
  },
  {
   "cell_type": "markdown",
   "metadata": {},
   "source": [
    "### 에이전트 실행하기"
   ]
  },
  {
   "cell_type": "code",
   "execution_count": 19,
   "metadata": {},
   "outputs": [
    {
     "name": "stdout",
     "output_type": "stream",
     "text": [
      "\n",
      "\n",
      "\u001b[1m> Entering new AgentExecutor chain...\u001b[0m\n",
      "\u001b[32;1m\u001b[1;3m\n",
      "Invoking: `tavily_search_results_json` with `{'query': '2024년 아시안컵 대한민국 축구 경기 결과'}`\n",
      "\n",
      "\n",
      "\u001b[0m\u001b[36;1m\u001b[1;3m[{'url': 'https://enterecho.tistory.com/entry/2024-아시안컵-16강-대진표-및-축구-경기-일정-확인', 'content': '2차전에서는 아쉬운 경기를 펼\\nenterecho.tistory.com\\n태그\\nDesigned by 티스토리\\n© Kakao Corp.\\n티스토리툴바 우리 축구 대표팀이 예선전 부진을 씻고 좋은 경기력을 보여주면 좋겠습니다.\\n< 같이 보면 좋은 글 >\\n2024 아시안컵 한국대 말레이시아 선발 라인업과 무료 중계 채널\\n2024 아시안컵 축구 16강 진출을 위한 조별 마지막 경기가 오늘 밤 펼쳐집니다. 새벽 1시에 열립니다.\\n3) 8강 토너먼트는 2월 2일부터 2월 4일까지 경기가 펼쳐집니다.\\n4) 2월 7일, 8일 4강 경기를 하며, 2월 11일 결승전 경기를 할 예정입니다.\\n 3. 축구 경기 중계 무료 보기\\n16강 축구 경기 일정\\n1. 16강 리그 최종 결과\\nC조는 1위 이란, 2위 아랍에미리트, 3위 팔레스타인, 4위 홍콩으로 최종 결과가 나왔습니다.\\n'}, {'url': 'https://olympics.com/ko/news/2024-afc-u23-asian-cup-full-schedule-all-results-scores-and-standings-complete-list', 'content': '축구 2024 AFC U23 아시안컵: 전체 일정 및 결과, 점수와 순위 알아보기. 2024 아시아축구연맹 (AFC) U23 아시안컵에서는 남자 올림픽 축구 출전권 3장이 주어집니다. 4위 팀은 2024 파리 올림픽 대회 의 출전권을 놓고 U23 아프리카 예선 4위 팀인 기니를 상대로 플레이 ...'}, {'url': 'https://namu.wiki/w/AFC 아시안컵', 'content': '대한민국 축구 국가대표팀 의 두 번째 AFC 아시안컵 우승이자, 2024년 기준 가장 최근 우승인 1960년 대회의 우승 사진이다. 1956년 AFC 아시안컵 은 이승만 대통령 집권 시기에 개최됐기 때문에 이승만이 선수진들을 격려했지만, 1960년 AFC 아시안컵 은 10월에 열렸기 ...'}, {'url': 'https://in.naver.com/itkwon/contents/internal/659218558880800', 'content': '2024 카타르 아시안컵 한국 요르단 4강. 요르단은 4강에서 한국을 이기면서 오는 11일 새벽 0시 (10, 토밤 12시) 이란과 카타르 4강 승자와 함께 우승컵을 두고 결승을 다투게 되었습니다. 한국 출전선수와 포메이션. 경기내내 이렇다할 슛기회를 만들지 못했던 한국과 ...'}, {'url': 'https://blog.naver.com/PostView.nhn?blogId=yoworm&logNo=223346585806', 'content': '\\u200b\\n\\u200b\\n오늘의 축구 경기결과는\\n\\u200b\\n대한민국 0 : 2 요르단\\n\\u200b\\n믿겨지지 않죠?\\n충격적이죠?\\n \\u200b\\n알타마리 선수의 추가골입니다!\\n\\u200b\\n경기 스코어는\\n대한민국 0:2 요르단\\n\\u200b\\n아...후반전에 2골을 실점하면서\\n무너지는 대한민국의 수비진!!!!\\n 뒤를 서포트 해주는 황희찬, 이재성, 이강인,\\n중간에서 공수전환을 이어줄 박용우, 황인범,\\n\\u200b\\n그리고 후방 수비는 포백으로\\n김영권, 정승현, 설영우, 김태환!\\n\\u200b\\n골대를 지키는 최후의 수문장으로\\n조현우 선수가 포지션을 맡게 되었습니다.\\n 출처: JTBC 지금 이 뉴스, 20240108 손웅정 님의 인터뷰\\n손흥민 아버지이신\\n[손웅정] 선생님께서는\\n이번에 아시안컵 우승하면 안된다고,\\n그러면 지금 당장은 우승해서 좋아하겠지만\\n앞으로 한국 축구에 오히려 독이 될거라고 하셨는데...\\n\\u200b\\n그래도 저는 우승이 탐나더라고요.\\n 심지어\\n주장인 손흥민 선수가\\n필드 위에서 선수이자 감독으로 활약하는 건\\n클린스만 감독의 전술 부재가 큰 몫을 했다고,\\n\\u200b\\n그래서 손흥민 선수의 가치가 더 돋보이게 되었다고,\\n이강인, 황희찬, 김민재 등 필드 위의 선수들이\\n자발적으로 전술을 만들어가는 팀이라고 소개합니다.\\n'}]\u001b[0m\u001b[32;1m\u001b[1;3m2024년 아시안컵에서 대한민국 축구 대표팀은 4강에서 요르단에게 0:2로 패배하여 결승 진출에 실패했습니다. 결승전은 요르단과 이란 및 카타르 4강 승자 사이에서 열릴 예정입니다. 대한민국 대표팀은 경기 내내 이렇다할 슛 기회를 만들지 못하며, 후반전에 2골을 실점하면서 수비가 무너졌습니다. 대한민국의 주요 선수로는 황희찬, 이재성, 이강인, 박용우, 황인범, 김영권, 정승현, 설영우, 김태환 등이 있으며, 조현우 선수가 골키퍼로 출전했습니다.\u001b[0m\n",
      "\n",
      "\u001b[1m> Finished chain.\u001b[0m\n",
      "답변: 2024년 아시안컵에서 대한민국 축구 대표팀은 4강에서 요르단에게 0:2로 패배하여 결승 진출에 실패했습니다. 결승전은 요르단과 이란 및 카타르 4강 승자 사이에서 열릴 예정입니다. 대한민국 대표팀은 경기 내내 이렇다할 슛 기회를 만들지 못하며, 후반전에 2골을 실점하면서 수비가 무너졌습니다. 대한민국의 주요 선수로는 황희찬, 이재성, 이강인, 박용우, 황인범, 김영권, 정승현, 설영우, 김태환 등이 있으며, 조현우 선수가 골키퍼로 출전했습니다.\n"
     ]
    }
   ],
   "source": [
    "# 'agent_executor' 객체의 'invoke' 메소드를 호출하여,\n",
    "# 'input' 키와 '안녕, 반가워' 값을 가진 딕셔너리를 인자로 전달합니다.\n",
    "response = agent_executor.invoke({\"input\": \"2024년 아시안컵 대한민국의 축구 경기 결과를 알려줘.\"})\n",
    "print(f'답변: {response[\"output\"]}')"
   ]
  },
  {
   "cell_type": "code",
   "execution_count": 20,
   "metadata": {},
   "outputs": [
    {
     "name": "stdout",
     "output_type": "stream",
     "text": [
      "\n",
      "\n",
      "\u001b[1m> Entering new AgentExecutor chain...\u001b[0m\n",
      "\u001b[32;1m\u001b[1;3m\n",
      "Invoking: `pdf_search` with `{'query': '선비 덕목'}`\n",
      "\n",
      "\n",
      "\u001b[0m\u001b[33;1m\u001b[1;3m300\n",
      "선비의 \n",
      "헛된 \n",
      "죽음\n",
      "周\n",
      "易\n",
      "아직 수양이 덜된 선비가 있었다.\n",
      "그는 낯선 곳을 여행하다가 길을 잘못 들어 산속으로 들어가게 \n",
      "되었다. 날이 어두워졌기에 길을 찾다가 굶주림에 지쳐 쓰러지고 \n",
      "말았다.\n",
      "선비는 그대로 잠이 들었다가 새벽녘이 되어서야 깨어났다. 그\n",
      "가 눈을 떴을 때 자기 앞에는 먹을 것이 놓여 있었다.\n",
      "“오, 어느 고마운 분이 먹을 것을 놓고 가셨구나!”\n",
      "선비는 그 음식을 누가 갖다 놓았는지 알지 못한 채 일단 단숨에 \n",
      "먹어치웠다.\n",
      "잠시 후 선비 앞에 건장한 사내가 나타났는데 그는 ‘구’라는 이름\n",
      "을 가진 그 지방의 유명한 산적이었다. 선비는 사내의 정체를 알지\n",
      "\n",
      "301\n",
      "못한 채 물었다.\n",
      "“선생이 제게 음식을 주신 분이십니까?”\n",
      "“그렇소.”\n",
      "“정말 감사합니다. 그런데 선생은 누구십니까?”\n",
      "“나는 구라는 사람이오.”\n",
      "선비는 그 이름을 듣자마자 깜짝 놀라며 말했다.\n",
      "“그럼 당신이 그 유명한 산적이란 말이오? 이런…… 나는 정의로\n",
      "운 선비니 산적 따위가 주는 음식은 죽어도 먹을 수 없소!”\n",
      "그러고는 손가락으로 목구멍을 찔러 먹은 것을 다 토해냈다.\n",
      "그 후 선비는 결국 굶어 죽고 말았다.\n",
      "선비 자신은 정의의 이름으로 죽어갔다고 생각했으나, 세상 사\n",
      "람들은 그의 얄팍한 정의로움을 비웃었다.\n",
      "\n",
      "175\n",
      "황부자는 일자무식이었지만 가진 것이 많아 늘 거드름을 피우며 \n",
      "사는 자였다. 그는 매일 놀고먹어도 평생을 쓰고 남을 만큼의 재물\n",
      "을 가지고 있었다. 그래서 그런지 그는 가진 재산만 믿고 아무런 노\n",
      "력도 하지 않았다.\n",
      "선비는 지필묵을 꺼내 하루만 소를 빌려달라는 내용의 편지를 \n",
      "쓴 다음 아들을 시켜 황부자에게 전하도록 했다.\n",
      "아들이 편지를 들고 황부자를 찾아갔을 때 그는 귀한 손님과 이\n",
      "야기를 나누고 있었다.\n",
      "“어르신, 제 아버지께서 이 편지를 전해달라고 하셔서 왔습니다.”\n",
      "아들이 편지를 건네자 황부자는 역시나 거드름을 피우며 종이\n",
      "를 펼쳤다. 그러나 종이에 적힌 글자가 눈에 들어올 리 없었다. 까\n",
      "막눈이나 마찬가지였기 때문이다. 하지만 귀한 손님과 마주 앉아 \n",
      "있는 터라 자신의 무식함을 드러낼 수는 없었다.\n",
      "황부자는 짐짓 글 읽는 시늉을 했다. 그러고는 선비의 아들에게 \n",
      "말했다.\n",
      "“알겠다. 손님이 돌아가시면 내가 직접 가서 원하는 것을 해주겠\n",
      "노라 전해드려라.”\n",
      "\n",
      "공\n",
      "자\n",
      "는\n",
      " \n",
      "정\n",
      "미\n",
      "된\n",
      " \n",
      "흰\n",
      "쌀\n",
      "밥\n",
      "을\n",
      " \n",
      "좋\n",
      "아\n",
      "했\n",
      "고\n",
      " \n",
      "가\n",
      "늘\n",
      "게\n",
      " \n",
      "썬\n",
      " \n",
      "회\n",
      "를\n",
      " \n",
      "좋\n",
      "아\n",
      "했\n",
      "다\n",
      "밥\n",
      "이\n",
      " \n",
      "쉬\n",
      "거\n",
      "나\n",
      " \n",
      "맛\n",
      "이\n",
      " \n",
      "변\n",
      "한\n",
      " \n",
      "것\n",
      " \n",
      "상\n",
      "한\n",
      " \n",
      "생\n",
      "선\n",
      "이\n",
      "나\n",
      " \n",
      "고\n",
      "기\n",
      "는\n",
      " \n",
      "먹\n",
      "지\n",
      " \n",
      "않\n",
      "았\n",
      "다\n",
      "향\n",
      "당\n",
      " \n",
      "鄕\n",
      "黨\n",
      " \n",
      "八\u001b[0m\u001b[32;1m\u001b[1;3m사서삼경에서 언급된 선비의 덕목에 대한 내용은 다음과 같습니다:\n",
      "\n",
      "1. **정의로움과 원칙을 지키는 태도**: 주역에 나오는 이야기에서, 아직 수양이 덜된 선비가 길을 잘못 들어 산속으로 들어가 굶주림에 지쳐 쓰러졌습니다. 그에게 음식을 준 사람이 유명한 산적이라는 것을 알고 나서, 선비는 산적이 준 음식을 먹을 수 없다며 그 음식을 토해내고 결국 굶어 죽었습니다. 이 이야기는 선비가 정의와 원칙을 지키기 위해 자신의 생명까지도 포기할 수 있다는 극단적인 예를 보여줍니다. 하지만 이러한 행동이 세상 사람들에게는 얄팍한 정의로움으로 비웃음을 살 수 있음을 보여줍니다.\n",
      "\n",
      "2. **학문과 지혜의 중요성**: 황부자와 선비의 이야기에서, 황부자는 많은 재산을 가졌지만 무식했고, 선비는 지필묵을 사용하여 황부자에게 소를 빌려달라는 편지를 썼습니다. 황부자는 자신의 무식함을 드러내지 않기 위해 글 읽는 시늉을 했지만, 실제로는 글을 읽을 수 없었습니다. 이 이야기는 학문과 지식의 중요성을 강조하며, 재산만으로는 인간의 가치를 측정할 수 없음을 보여줍니다.\n",
      "\n",
      "3. **절제와 겸손**: 공자는 정미된 흰쌀밥과 가늘게 썬 회를 좋아했지만, 쉬거나 맛이 변한 것, 상한 생선이나 고기는 먹지 않았다고 합니다. 이는 선비가 음식에 있어서도 절제와 겸손을 지녀야 함을 보여주며, 물질적인 풍요보다는 정신적, 도덕적 가치를 중시하는 태도를 강조합니다.\n",
      "\n",
      "이러한 내용들은 선비가 가져야 할 덕목으로 정의로움, 학문과 지혜의 추구, 그리고 절제와 겸손을 포함하고 있음을 보여줍니다.\u001b[0m\n",
      "\n",
      "\u001b[1m> Finished chain.\u001b[0m\n",
      "답변: 사서삼경에서 언급된 선비의 덕목에 대한 내용은 다음과 같습니다:\n",
      "\n",
      "1. **정의로움과 원칙을 지키는 태도**: 주역에 나오는 이야기에서, 아직 수양이 덜된 선비가 길을 잘못 들어 산속으로 들어가 굶주림에 지쳐 쓰러졌습니다. 그에게 음식을 준 사람이 유명한 산적이라는 것을 알고 나서, 선비는 산적이 준 음식을 먹을 수 없다며 그 음식을 토해내고 결국 굶어 죽었습니다. 이 이야기는 선비가 정의와 원칙을 지키기 위해 자신의 생명까지도 포기할 수 있다는 극단적인 예를 보여줍니다. 하지만 이러한 행동이 세상 사람들에게는 얄팍한 정의로움으로 비웃음을 살 수 있음을 보여줍니다.\n",
      "\n",
      "2. **학문과 지혜의 중요성**: 황부자와 선비의 이야기에서, 황부자는 많은 재산을 가졌지만 무식했고, 선비는 지필묵을 사용하여 황부자에게 소를 빌려달라는 편지를 썼습니다. 황부자는 자신의 무식함을 드러내지 않기 위해 글 읽는 시늉을 했지만, 실제로는 글을 읽을 수 없었습니다. 이 이야기는 학문과 지식의 중요성을 강조하며, 재산만으로는 인간의 가치를 측정할 수 없음을 보여줍니다.\n",
      "\n",
      "3. **절제와 겸손**: 공자는 정미된 흰쌀밥과 가늘게 썬 회를 좋아했지만, 쉬거나 맛이 변한 것, 상한 생선이나 고기는 먹지 않았다고 합니다. 이는 선비가 음식에 있어서도 절제와 겸손을 지녀야 함을 보여주며, 물질적인 풍요보다는 정신적, 도덕적 가치를 중시하는 태도를 강조합니다.\n",
      "\n",
      "이러한 내용들은 선비가 가져야 할 덕목으로 정의로움, 학문과 지혜의 추구, 그리고 절제와 겸손을 포함하고 있음을 보여줍니다.\n"
     ]
    }
   ],
   "source": [
    "# 'agent_executor' 객체의 'invoke' 메소드를 호출하여, 'langsmith'가 테스팅에 어떻게 도움을 줄 수 있는지에 대한 질문을 입력으로 제공합니다.\n",
    "response = agent_executor.invoke(\n",
    "    {\n",
    "        \"input\": \"사서삼경에서 선비의 덕목에 대한 내용을 PDF문서에서 알려줘\"\n",
    "    }\n",
    ")\n",
    "print(f'답변: {response[\"output\"]}')"
   ]
  },
  {
   "cell_type": "code",
   "execution_count": 21,
   "metadata": {},
   "outputs": [
    {
     "name": "stdout",
     "output_type": "stream",
     "text": [
      "\n",
      "\n",
      "\u001b[1m> Entering new AgentExecutor chain...\u001b[0m\n",
      "\u001b[32;1m\u001b[1;3m\n",
      "Invoking: `tavily_search_results_json` with `{'query': '판교 카카오 프렌즈샵 아지트점 전화번호'}`\n",
      "\n",
      "\n",
      "\u001b[0m\u001b[36;1m\u001b[1;3m[{'url': 'https://www.placeview.co.kr/id/MTcxODgwMDMxOCAg', 'content': '성남시 카카오프렌즈 판교점에 대한 장소정보(전화번호,주소,오시는길안내,지도,로드뷰,홈페이지,교통정보,리뷰등) ... 카카오프렌즈 판교아지트점 (031-601-7225) 경기 성남시 분당구 판교역로 166 . 카카오프렌즈 현대백화점판교점 (031-5170-2451) ...'}, {'url': 'https://blog.naver.com/PostView.naver?blogId=amour1115&logNo=223386213560', 'content': '카카오 프렌즈 판교 아지트점. . 연중무휴 12:00-21:00. 토, 일 12:00-20:00. . 경기 성남시 분당구 판교역로 166. 카카오 판교 아지트 1층 카카오 프렌즈. 031-301-7225. 존재하지 않는 이미지입니다.'}, {'url': 'https://blog.naver.com/PostView.naver?blogId=playgroundyoung&logNo=223371473869&noTrackingCode=true', 'content': '카카오프렌즈 판교아지트점. 1) 위치 : 경기도 성남시 분당구 판교역로 166. 2) 시간 : 평일 10:00 - 21:00. 주말 12:00 -20:00. 판교 4번 출구에서 나오자마자 보이는 ... 카카오 프렌즈샵 판교에서는 이렇게 다양한 ...'}, {'url': 'https://blog.naver.com/PostView.naver?blogId=0_0hy&logNo=222982732699', 'content': '새해 목표 예쁜 쓰레기 구매하지 않기 잘 실천중\\n춘식이가 쓰레기라는건 아니지만^__ㅠ\\n\\u200b\\n바라만봐도 행복해진다\\n\\u200b\\n애견용품까지 춘식이 버전ㅋㅋㅋㅋㅋㅋㅋㅋ\\n\\u200b\\n♥ ♥ ♥\\n\\u200b\\n\\u200b\\n\\u200b\\n\\u200b\\n2m 대왕 춘식이랑 ~~♥\\n\\u200b\\n진짜 사려다가 참았다 .\\n \\u200b\\n\\u200b\\n춘식이 랜덤 피규어 ♥\\n카카오프렌즈 최애 캐릭터가 춘식이라 보자마자 구매해야 겠다고 생각했다\\n\\u200b\\n\\u200b\\n젤 갖고싶었던 만년달력.. 가격은 사악 그잡채\\n\\u200b\\n춘식이 x 최고심 콜라보 *__*\\n\\u200b\\n\\u200b\\n두번째로 좋아하는 죠르디\\n앉은모습 졸귀야 ..\\n 갖고 싶단 말이지\\n\\u200b\\n\\u200b\\n에어팟 꽂은 라이언ㅋㅋㅋㅋㅋㅋㅋㅋㅋㅋㅋㅋㅋ\\n\\u200b\\n\\u200b\\n춘식러버는 춘식이 천국이라 행복\\n\\u200b\\n\\u200b\\n\\u200b\\n랜드마크 브릭피규어\\n우리나라 랜드마크도 출시 예정이라고 하던데 언제 나오는지..?\\n \\u200b\\n\\u200b\\n\\u200b\\n\\u200b\\n카카오프렌즈 판교아지트점\\n경기 성남시 분당구 판교역로 166 카카오판교아지트 1층 카카오프렌즈\\n평일 10:00 - 21:00, 토일 12:00 - 20:00\\n031-601-7225\\n판교 카카오 본사 건물 1층에 있음 !\\n \\u200b\\n\\u200b\\n\\u200b\\n\\u200b\\n\\u200b\\n\\u200b\\n\\u200b\\n앙꼬 / 루피 / 무직타이거 까지 !!\\n'}, {'url': 'https://m.blog.naver.com/celina_827/222924602339', 'content': '너무 귀여운 카카오 속 세상이예요ㅠㅠ\\n\\u200b\\n경기도 성남시 분당구 판교역로 166\\n💬카카오프렌즈샵 아지트점은\\n판교역 1번 출구, 4번 출구를 이용하셔도 되고,\\n지하통로로도 연결되어있으니 참고 하세요!\\n\\u200b\\n💬영업시간\\n월 -금 10 : 00 ~ 21 : 00\\n토 - 일 12 : 00 ~ 20 : 00\\n\\u200b\\n\\u200b\\n소소한 episode가 있는 일상, 정보, 맛집을 포스팅하는 셀리나 입니다 ( ੭ ･ᴗ･ )੭\\n이 블로그\\nPANGYO LIFE\\n카테고리 글\\n카테고리\\n이 블로그\\nPANGYO LIFE\\n카테고리 글 \\u200b\\n근데 저 손잡은 춘식이 너무 귀여운거 아니냐구요 ㅠㅠ\\n크리스마스 맞이 산타 라이언🎄\\n폭신한 라이언 바디 필로우 사고싶지만\\n99.000원💸\\n핳 너무 비싸당 ㅎㅎㅎㅎ\\n아이패드파우치, 폰 거치대, 에어팟케이스 많지만\\n전...ㅎ 마우스 패드 살까 말까 고민 엄청했어요\\n\\u200b\\n근데 과연 사이즈가 괜찮을까 싶고...\\n근데 너무 귀엽다...\\n(ﾉ◕ヮ◕)ﾉ\\n\\u200b\\n그리고 카카오 프렌즈샵에\\n차량 아이템이 생각보다 많아서 놀랬어요!\\n피규어가 들어가있어서 그런지\\n주차번호판도 비싸다 ㅎㅎㅎ\\n차량 내부 송풍다는 송풍구 방향제!!\\n \\u200b\\n이걸 대체 어디다 써?싶었지만\\n요즘 정말 젊은 사람들도 골프를 많이 치니까\\n채를 보호하는 커버나 보호대같은걸 귀여운 캐릭터로\\n사는 사람이 있겠구나 싶더라구요\\U0001fae3\\n골프용품이 있는곳에 있는 이 인형들은\\n도대체 어디다 쓰는거지 싶었는데\\n\\u200b\\n요렇게 쓰더라구요 ᕙ༼◕ ᴥ ◕༽ᕗ\\n👇🏻👇🏻\\n아니 이러면 커버 뚜껑은 어케 잠그지....?\\n 🔖혀땳은앙꼬\\n\\u200b\\n앙꼬 이모티콘을 너무 좋아해서 사서 쓰곤 했는데\\n이렇게 캐릭터 굿즈가 나오다니\\n너무 반갑더라구요 😍😍\\n스티커는 진작 품절이더라구요◡̈\\n역시 앙꼬는 귀여운 아이였어 ∑ദ്ദി˙◡･)\\n\\u200b\\n🔖인스타에서 핫하다는 목욕하는 춘식이◡̈\\n지금 카카오 프랜즈들의 대세는 춘식이인가봐요.\\n 🔖소주디스펜서죠르디 39,000원\\n🔖전동와인오프너치얼스라이언\\n23,000원\\n🔖라이언크리미맥주거품기 29,000원\\n🔖턴테이블 스피커\\n55,000원\\n여긴 스텐드들의 집합?💡\\n캬아 춘식이 피큐어예요!!!\\n'}]\u001b[0m\u001b[32;1m\u001b[1;3m판교 카카오 프렌즈샵 아지트점의 전화번호는 **031-601-7225**입니다. 해당 점포는 경기 성남시 분당구 판교역로 166에 위치해 있습니다.\u001b[0m\n",
      "\n",
      "\u001b[1m> Finished chain.\u001b[0m\n",
      "답변: 판교 카카오 프렌즈샵 아지트점의 전화번호는 **031-601-7225**입니다. 해당 점포는 경기 성남시 분당구 판교역로 166에 위치해 있습니다.\n"
     ]
    }
   ],
   "source": [
    "# 검색 결과를 요청 후 질문에 대한 답변을 출력합니다.\n",
    "response = agent_executor.invoke(\n",
    "    {\"input\": \"판교 카카오 프렌즈샵 아지트점의 전화번호를 검색하여 결과를 알려주세요.\"}\n",
    ")\n",
    "print(f'답변: {response[\"output\"]}')"
   ]
  },
  {
   "cell_type": "markdown",
   "metadata": {},
   "source": [
    "### 메모리 추가하기"
   ]
  },
  {
   "cell_type": "code",
   "execution_count": 22,
   "metadata": {},
   "outputs": [
    {
     "name": "stdout",
     "output_type": "stream",
     "text": [
      "\n",
      "\n",
      "\u001b[1m> Entering new AgentExecutor chain...\u001b[0m\n",
      "\u001b[32;1m\u001b[1;3mHi Teddy! It's great to meet you too. How can I assist you today?\u001b[0m\n",
      "\n",
      "\u001b[1m> Finished chain.\u001b[0m\n",
      "답변: Hi Teddy! It's great to meet you too. How can I assist you today?\n"
     ]
    }
   ],
   "source": [
    "# 채팅의 첫 번째 메시지이므로 chat_history에 빈 리스트를 전달합니다.\n",
    "response = agent_executor.invoke(\n",
    "    {\"input\": \"Hi! I'm Teddy. Glad to meet you.\", \"chat_history\": []}\n",
    ")\n",
    "print(f'답변: {response[\"output\"]}')"
   ]
  },
  {
   "cell_type": "code",
   "execution_count": 23,
   "metadata": {},
   "outputs": [],
   "source": [
    "# langchain_core.messages에서 AIMessage와 HumanMessage를 가져옵니다.\n",
    "from langchain_core.messages import AIMessage, HumanMessage"
   ]
  },
  {
   "cell_type": "code",
   "execution_count": 24,
   "metadata": {},
   "outputs": [
    {
     "name": "stdout",
     "output_type": "stream",
     "text": [
      "\n",
      "\n",
      "\u001b[1m> Entering new AgentExecutor chain...\u001b[0m\n",
      "\u001b[32;1m\u001b[1;3mYour name is Teddy. How can I help you further, Teddy?\u001b[0m\n",
      "\n",
      "\u001b[1m> Finished chain.\u001b[0m\n",
      "답변: Your name is Teddy. How can I help you further, Teddy?\n"
     ]
    }
   ],
   "source": [
    "response = agent_executor.invoke(\n",
    "    {\n",
    "        \"chat_history\": [\n",
    "            HumanMessage(content=\"Hi! I'm Teddy. Glad to meet you.\"),\n",
    "            AIMessage(\n",
    "                content=\"Hello Teddy! I'm glad to meet you too. How can I assist you today?\"\n",
    "            ),\n",
    "        ],\n",
    "        \"input\": \"What's my name?\",\n",
    "    }\n",
    ")\n",
    "print(f'답변: {response[\"output\"]}')"
   ]
  },
  {
   "cell_type": "code",
   "execution_count": 25,
   "metadata": {},
   "outputs": [],
   "source": [
    "from langchain_community.chat_message_histories import ChatMessageHistory\n",
    "from langchain_core.runnables.history import RunnableWithMessageHistory"
   ]
  },
  {
   "cell_type": "code",
   "execution_count": 26,
   "metadata": {},
   "outputs": [],
   "source": [
    "# 채팅 메시지 기록을 관리하는 객체를 생성합니다.\n",
    "message_history = ChatMessageHistory()"
   ]
  },
  {
   "cell_type": "code",
   "execution_count": 27,
   "metadata": {},
   "outputs": [],
   "source": [
    "agent_with_chat_history = RunnableWithMessageHistory(\n",
    "    agent_executor,\n",
    "    # 대부분의 실제 시나리오에서 세션 ID가 필요하기 때문에 이것이 필요합니다\n",
    "    # 여기서는 간단한 메모리 내 ChatMessageHistory를 사용하기 때문에 실제로 사용되지 않습니다\n",
    "    lambda session_id: message_history,\n",
    "    # 프롬프트의 질문이 입력되는 key: \"input\"\n",
    "    input_messages_key=\"input\",\n",
    "    # 프롬프트의 메시지가 입력되는 key: \"chat_history\"\n",
    "    history_messages_key=\"chat_history\",\n",
    ")"
   ]
  },
  {
   "cell_type": "code",
   "execution_count": 28,
   "metadata": {},
   "outputs": [
    {
     "name": "stdout",
     "output_type": "stream",
     "text": [
      "\n",
      "\n",
      "\u001b[1m> Entering new AgentExecutor chain...\u001b[0m\n",
      "\u001b[32;1m\u001b[1;3mHi Teddy! It's great to meet you too. How can I assist you today?\u001b[0m\n",
      "\n",
      "\u001b[1m> Finished chain.\u001b[0m\n",
      "답변: Hi Teddy! It's great to meet you too. How can I assist you today?\n"
     ]
    }
   ],
   "source": [
    "response = agent_with_chat_history.invoke(\n",
    "    {\"input\": \"Hi! I'm Teddy. Glad to meet you.\"},\n",
    "    # 세션 ID를 설정합니다.\n",
    "    # 여기서는 간단한 메모리 내 ChatMessageHistory를 사용하기 때문에 실제로 사용되지 않습니다\n",
    "    config={\"configurable\": {\"session_id\": \"MyTestSessionID\"}},\n",
    ")\n",
    "print(f\"답변: {response['output']}\")"
   ]
  },
  {
   "cell_type": "code",
   "execution_count": 29,
   "metadata": {},
   "outputs": [
    {
     "name": "stdout",
     "output_type": "stream",
     "text": [
      "\n",
      "\n",
      "\u001b[1m> Entering new AgentExecutor chain...\u001b[0m\n",
      "\u001b[32;1m\u001b[1;3mYour name is Teddy. How can I help you today, Teddy?\u001b[0m\n",
      "\n",
      "\u001b[1m> Finished chain.\u001b[0m\n",
      "답변: Your name is Teddy. How can I help you today, Teddy?\n"
     ]
    }
   ],
   "source": [
    "response = agent_with_chat_history.invoke(\n",
    "    {\"input\": \"What's my name?\"},\n",
    "    # 세션 ID를 설정합니다.\n",
    "    # 여기서는 간단한 메모리 내 ChatMessageHistory를 사용하기 때문에 실제로 사용되지 않습니다\n",
    "    config={\"configurable\": {\"session_id\": \"MyTestSessionID\"}},\n",
    ")\n",
    "print(f\"답변: {response['output']}\")"
   ]
  },
  {
   "cell_type": "code",
   "execution_count": 30,
   "metadata": {},
   "outputs": [
    {
     "name": "stdout",
     "output_type": "stream",
     "text": [
      "\n",
      "\n",
      "\u001b[1m> Entering new AgentExecutor chain...\u001b[0m\n",
      "\u001b[32;1m\u001b[1;3m\n",
      "Invoking: `tavily_search_results_json` with `{'query': '판교 카카오 프렌즈샵 아지트점 전화번호'}`\n",
      "\n",
      "\n",
      "\u001b[0m\u001b[36;1m\u001b[1;3m[{'url': 'https://www.placeview.co.kr/id/MTcxODgwMDMxOCAg', 'content': '성남시 카카오프렌즈 판교점에 대한 장소정보(전화번호,주소,오시는길안내,지도,로드뷰,홈페이지,교통정보,리뷰등) ... 카카오프렌즈 판교아지트점 (031-601-7225) 경기 성남시 분당구 판교역로 166 . 카카오프렌즈 현대백화점판교점 (031-5170-2451) ...'}, {'url': 'https://blog.naver.com/PostView.naver?blogId=amour1115&logNo=223386213560', 'content': '카카오 프렌즈 판교 아지트점. . 연중무휴 12:00-21:00. 토, 일 12:00-20:00. . 경기 성남시 분당구 판교역로 166. 카카오 판교 아지트 1층 카카오 프렌즈. 031-301-7225. 존재하지 않는 이미지입니다.'}, {'url': 'https://blog.naver.com/PostView.naver?blogId=playgroundyoung&logNo=223371473869&noTrackingCode=true', 'content': '카카오프렌즈 판교아지트점. 1) 위치 : 경기도 성남시 분당구 판교역로 166. 2) 시간 : 평일 10:00 - 21:00. 주말 12:00 -20:00. 판교 4번 출구에서 나오자마자 보이는 ... 카카오 프렌즈샵 판교에서는 이렇게 다양한 ...'}, {'url': 'https://blog.naver.com/PostView.naver?blogId=su_yeon_0718&logNo=223315393356&noTrackingCode=true', 'content': '판교 카카오아지트점 ... 전화번호, 주소, 판매자 센터 로그인 시 동의 창 등의 수단으로 할 수 있습니다. ② 회사는 판매회원 전체에 대한 통지의 경우 7일 이상 판매자센터의 초기화면에 게시함으로써 제1항의 통지에 갈음할 수 있습니다. 다만, 판매 회원의 ...'}, {'url': 'https://m.blog.naver.com/celina_827/222924602339', 'content': '너무 귀여운 카카오 속 세상이예요ㅠㅠ\\n\\u200b\\n경기도 성남시 분당구 판교역로 166\\n💬카카오프렌즈샵 아지트점은\\n판교역 1번 출구, 4번 출구를 이용하셔도 되고,\\n지하통로로도 연결되어있으니 참고 하세요!\\n\\u200b\\n💬영업시간\\n월 -금 10 : 00 ~ 21 : 00\\n토 - 일 12 : 00 ~ 20 : 00\\n\\u200b\\n\\u200b\\n소소한 episode가 있는 일상, 정보, 맛집을 포스팅하는 셀리나 입니다 ( ੭ ･ᴗ･ )੭\\n이 블로그\\nPANGYO LIFE\\n카테고리 글\\n카테고리\\n이 블로그\\nPANGYO LIFE\\n카테고리 글 \\u200b\\n근데 저 손잡은 춘식이 너무 귀여운거 아니냐구요 ㅠㅠ\\n크리스마스 맞이 산타 라이언🎄\\n폭신한 라이언 바디 필로우 사고싶지만\\n99.000원💸\\n핳 너무 비싸당 ㅎㅎㅎㅎ\\n아이패드파우치, 폰 거치대, 에어팟케이스 많지만\\n전...ㅎ 마우스 패드 살까 말까 고민 엄청했어요\\n\\u200b\\n근데 과연 사이즈가 괜찮을까 싶고...\\n근데 너무 귀엽다...\\n(ﾉ◕ヮ◕)ﾉ\\n\\u200b\\n그리고 카카오 프렌즈샵에\\n차량 아이템이 생각보다 많아서 놀랬어요!\\n피규어가 들어가있어서 그런지\\n주차번호판도 비싸다 ㅎㅎㅎ\\n차량 내부 송풍다는 송풍구 방향제!!\\n \\u200b\\n이걸 대체 어디다 써?싶었지만\\n요즘 정말 젊은 사람들도 골프를 많이 치니까\\n채를 보호하는 커버나 보호대같은걸 귀여운 캐릭터로\\n사는 사람이 있겠구나 싶더라구요\\U0001fae3\\n골프용품이 있는곳에 있는 이 인형들은\\n도대체 어디다 쓰는거지 싶었는데\\n\\u200b\\n요렇게 쓰더라구요 ᕙ༼◕ ᴥ ◕༽ᕗ\\n👇🏻👇🏻\\n아니 이러면 커버 뚜껑은 어케 잠그지....?\\n 🔖혀땳은앙꼬\\n\\u200b\\n앙꼬 이모티콘을 너무 좋아해서 사서 쓰곤 했는데\\n이렇게 캐릭터 굿즈가 나오다니\\n너무 반갑더라구요 😍😍\\n스티커는 진작 품절이더라구요◡̈\\n역시 앙꼬는 귀여운 아이였어 ∑ദ്ദി˙◡･)\\n\\u200b\\n🔖인스타에서 핫하다는 목욕하는 춘식이◡̈\\n지금 카카오 프랜즈들의 대세는 춘식이인가봐요.\\n 🔖소주디스펜서죠르디 39,000원\\n🔖전동와인오프너치얼스라이언\\n23,000원\\n🔖라이언크리미맥주거품기 29,000원\\n🔖턴테이블 스피커\\n55,000원\\n여긴 스텐드들의 집합?💡\\n캬아 춘식이 피큐어예요!!!\\n'}]\u001b[0m\u001b[32;1m\u001b[1;3m판교 카카오 프렌즈샵 아지트점의 전화번호는 **031-601-7225** 입니다. 위치는 경기 성남시 분당구 판교역로 166에 있습니다. 다른 궁금한 점이 있으시면 언제든지 물어보세요!\u001b[0m\n",
      "\n",
      "\u001b[1m> Finished chain.\u001b[0m\n",
      "답변: 판교 카카오 프렌즈샵 아지트점의 전화번호는 **031-601-7225** 입니다. 위치는 경기 성남시 분당구 판교역로 166에 있습니다. 다른 궁금한 점이 있으시면 언제든지 물어보세요!\n"
     ]
    }
   ],
   "source": [
    "response = agent_with_chat_history.invoke(\n",
    "    {\"input\": \"판교 카카오 프렌즈샵 아지트점의 전화번호를 검색하여 결과를 알려주세요.\"},\n",
    "    # 세션 ID를 설정합니다.\n",
    "    # 여기서는 간단한 메모리 내 ChatMessageHistory를 사용하기 때문에 실제로 사용되지 않습니다\n",
    "    config={\"configurable\": {\"session_id\": \"MyTestSessionID\"}},\n",
    ")\n",
    "print(f\"답변: {response['output']}\")"
   ]
  },
  {
   "cell_type": "code",
   "execution_count": 32,
   "metadata": {},
   "outputs": [
    {
     "name": "stdout",
     "output_type": "stream",
     "text": [
      "\n",
      "\n",
      "\u001b[1m> Entering new AgentExecutor chain...\u001b[0m\n",
      "\u001b[32;1m\u001b[1;3m\n",
      "Invoking: `pdf_search` with `{'query': '군자의 덕목'}`\n",
      "\n",
      "\n",
      "\u001b[0m\u001b[33;1m\u001b[1;3m60\n",
      "이처럼 공자는 군자와 소인을 명확히 대비했다. 이를 통해 군자\n",
      "가 되는 길, 즉 소인이 취하는 행동을 버릴 것을 강조했다.\n",
      "\n",
      "군\n",
      "자\n",
      "는\n",
      " \n",
      "여\n",
      "러\n",
      " \n",
      "사\n",
      "람\n",
      "과\n",
      " \n",
      "어\n",
      "울\n",
      "리\n",
      "면\n",
      "서\n",
      " \n",
      "사\n",
      "악\n",
      "함\n",
      "에\n",
      " \n",
      "빠\n",
      "지\n",
      "지\n",
      " \n",
      "않\n",
      "으\n",
      "니\n",
      " \n",
      "얼\n",
      "마\n",
      "나\n",
      " \n",
      "강\n",
      "한\n",
      "가\n",
      "그\n",
      " \n",
      "꿋\n",
      "꿋\n",
      "한\n",
      " \n",
      "기\n",
      "상\n",
      "이\n",
      "여\n",
      "또\n",
      "한\n",
      " \n",
      "가\n",
      "운\n",
      "데\n",
      " \n",
      "똑\n",
      "바\n",
      "로\n",
      " \n",
      "서\n",
      "서\n",
      " \n",
      "한\n",
      "쪽\n",
      "으\n",
      "로\n",
      " \n",
      "기\n",
      "울\n",
      "지\n",
      " \n",
      "않\n",
      "으\n",
      "니\n",
      " \n",
      "얼\n",
      "마\n",
      "나\n",
      " \n",
      "강\n",
      "한\n",
      "가\n",
      "그\n",
      " \n",
      "꿋\n",
      "꿋\n",
      "한\n",
      " \n",
      "기\n",
      "상\n",
      "이\n",
      "여\n",
      "중\n",
      "용\n",
      "론\n",
      " \n",
      "中\n",
      "庸\n",
      "論\n",
      "\n",
      "222\n",
      "“예로부터 옳고 그른 것을 분별할 줄 아는 군자는 임자 없이 흐\n",
      "르는 냇물도 가려 마신다고 했습니다. 그런데 당신은 분명 임자가 \n",
      "있을 이 금덩이를 집에 가져왔으니 이제 아예 군자의 길을 포기하\n",
      "려는 것입니까?”\n",
      "낙양자는 아내의 다그침에 풀이 죽었고 이내 금덩이를 다시 제\n",
      "자리에 두었다. 그리고 군자 되기를 포기했느냐는 아내의 말을 곱\n",
      "씹으며 학문에 정진하기로 마음먹었다.\n",
      "그로부터 몇 달 뒤 낙양자는 집을 떠나 멀리 타지에서 유학생활\n",
      "을 시작하게 되었다. 그는 아내의 말을 떠올리며 정신을 집중하려 \n",
      "했으나 결국 일 년을 넘기지 못한 채 집으로 돌아오고 말았다. \n",
      "그가 집 마당에 들어섰을 때 아내는 한창 베를 짜고 있었다. 아내\n",
      "\n",
      "177\n",
      "소에서 고기로 바꾸실 게 분명하고, 옷과 침소도 호사스럽게 치장\n",
      "하실 것이 분명합니다. 이런 것들을 갖추시려면 엄청난 재물이 필\n",
      "요하게 되니 이는 결코 해서는 안 될 일입니다.”\n",
      "그러나 주왕은 기자의 간언을 듣지 않고 백성들에게 무거운 조\n",
      "세를 가했다. 그러고는 이에 반발하는 자들에게 중벌을 내렸다.\n",
      "그러자 백성들은 주왕에게 등을 돌렸다. 얼마 뒤 주왕의 측근으\n",
      "로 일하던 신하들조차 등을 돌려 주나라 무왕에게 도움을 청해 그\n",
      "를 살해하니, 결국 은나라는 멸망하고 말았다.\u001b[0m\u001b[32;1m\u001b[1;3m군자의 덕목에 대해 공자는 명확한 기준을 제시했습니다. 군자는 여러 사람과 어울리면서 사악함에 빠지지 않으며, 강한 기상을 유지합니다. 군자는 중용의 덕을 지니며, 옳고 그른 것을 분별할 줄 알고, 정당하지 않은 이득에 대해 거부할 수 있는 의지를 가집니다. 예를 들어, 임자 없이 흐르는 냇물도 가려 마시는 것처럼, 군자는 분별력을 가지고 행동합니다. 또한, 군자는 자신의 길을 포기하지 않고 학문에 정진하는 것을 중요시합니다.\n",
      "\n",
      "이러한 군자의 덕목은 사람과의 관계에서 뿐만 아니라, 개인의 내면적 성장과 발전에 있어서도 중요한 가치를 지닙니다. 군자가 되기 위해서는 자신의 행동과 의지를 끊임없이 성찰하고, 올바른 길을 걷기 위해 노력해야 합니다.\u001b[0m\n",
      "\n",
      "\u001b[1m> Finished chain.\u001b[0m\n",
      "답변: 군자의 덕목에 대해 공자는 명확한 기준을 제시했습니다. 군자는 여러 사람과 어울리면서 사악함에 빠지지 않으며, 강한 기상을 유지합니다. 군자는 중용의 덕을 지니며, 옳고 그른 것을 분별할 줄 알고, 정당하지 않은 이득에 대해 거부할 수 있는 의지를 가집니다. 예를 들어, 임자 없이 흐르는 냇물도 가려 마시는 것처럼, 군자는 분별력을 가지고 행동합니다. 또한, 군자는 자신의 길을 포기하지 않고 학문에 정진하는 것을 중요시합니다.\n",
      "\n",
      "이러한 군자의 덕목은 사람과의 관계에서 뿐만 아니라, 개인의 내면적 성장과 발전에 있어서도 중요한 가치를 지닙니다. 군자가 되기 위해서는 자신의 행동과 의지를 끊임없이 성찰하고, 올바른 길을 걷기 위해 노력해야 합니다.\n"
     ]
    }
   ],
   "source": [
    "response = agent_with_chat_history.invoke(\n",
    "    {\n",
    "        \"input\": \"대학에서 군자의 덕목에 대해 알려줘\"\n",
    "    },\n",
    "    # 세션 ID를 설정합니다.\n",
    "    # 여기서는 간단한 메모리 내 ChatMessageHistory를 사용하기 때문에 실제로 사용되지 않습니다\n",
    "    config={\"configurable\": {\"session_id\": \"MyTestSessionID\"}},\n",
    ")\n",
    "print(f\"답변: {response['output']}\")"
   ]
  },
  {
   "cell_type": "markdown",
   "metadata": {},
   "source": [
    "### Agent 템플릿"
   ]
  },
  {
   "cell_type": "code",
   "execution_count": 36,
   "metadata": {},
   "outputs": [
    {
     "name": "stdout",
     "output_type": "stream",
     "text": [
      "\n",
      "\n",
      "\u001b[1m> Entering new AgentExecutor chain...\u001b[0m\n",
      "\u001b[32;1m\u001b[1;3m\n",
      "Invoking: `pdf_search` with `{'query': '논어 선비'}`\n",
      "\n",
      "\n",
      "\u001b[0m\u001b[33;1m\u001b[1;3m300\n",
      "선비의 \n",
      "헛된 \n",
      "죽음\n",
      "周\n",
      "易\n",
      "아직 수양이 덜된 선비가 있었다.\n",
      "그는 낯선 곳을 여행하다가 길을 잘못 들어 산속으로 들어가게 \n",
      "되었다. 날이 어두워졌기에 길을 찾다가 굶주림에 지쳐 쓰러지고 \n",
      "말았다.\n",
      "선비는 그대로 잠이 들었다가 새벽녘이 되어서야 깨어났다. 그\n",
      "가 눈을 떴을 때 자기 앞에는 먹을 것이 놓여 있었다.\n",
      "“오, 어느 고마운 분이 먹을 것을 놓고 가셨구나!”\n",
      "선비는 그 음식을 누가 갖다 놓았는지 알지 못한 채 일단 단숨에 \n",
      "먹어치웠다.\n",
      "잠시 후 선비 앞에 건장한 사내가 나타났는데 그는 ‘구’라는 이름\n",
      "을 가진 그 지방의 유명한 산적이었다. 선비는 사내의 정체를 알지\n",
      "\n",
      "301\n",
      "못한 채 물었다.\n",
      "“선생이 제게 음식을 주신 분이십니까?”\n",
      "“그렇소.”\n",
      "“정말 감사합니다. 그런데 선생은 누구십니까?”\n",
      "“나는 구라는 사람이오.”\n",
      "선비는 그 이름을 듣자마자 깜짝 놀라며 말했다.\n",
      "“그럼 당신이 그 유명한 산적이란 말이오? 이런…… 나는 정의로\n",
      "운 선비니 산적 따위가 주는 음식은 죽어도 먹을 수 없소!”\n",
      "그러고는 손가락으로 목구멍을 찔러 먹은 것을 다 토해냈다.\n",
      "그 후 선비는 결국 굶어 죽고 말았다.\n",
      "선비 자신은 정의의 이름으로 죽어갔다고 생각했으나, 세상 사\n",
      "람들은 그의 얄팍한 정의로움을 비웃었다.\n",
      "\n",
      "175\n",
      "황부자는 일자무식이었지만 가진 것이 많아 늘 거드름을 피우며 \n",
      "사는 자였다. 그는 매일 놀고먹어도 평생을 쓰고 남을 만큼의 재물\n",
      "을 가지고 있었다. 그래서 그런지 그는 가진 재산만 믿고 아무런 노\n",
      "력도 하지 않았다.\n",
      "선비는 지필묵을 꺼내 하루만 소를 빌려달라는 내용의 편지를 \n",
      "쓴 다음 아들을 시켜 황부자에게 전하도록 했다.\n",
      "아들이 편지를 들고 황부자를 찾아갔을 때 그는 귀한 손님과 이\n",
      "야기를 나누고 있었다.\n",
      "“어르신, 제 아버지께서 이 편지를 전해달라고 하셔서 왔습니다.”\n",
      "아들이 편지를 건네자 황부자는 역시나 거드름을 피우며 종이\n",
      "를 펼쳤다. 그러나 종이에 적힌 글자가 눈에 들어올 리 없었다. 까\n",
      "막눈이나 마찬가지였기 때문이다. 하지만 귀한 손님과 마주 앉아 \n",
      "있는 터라 자신의 무식함을 드러낼 수는 없었다.\n",
      "황부자는 짐짓 글 읽는 시늉을 했다. 그러고는 선비의 아들에게 \n",
      "말했다.\n",
      "“알겠다. 손님이 돌아가시면 내가 직접 가서 원하는 것을 해주겠\n",
      "노라 전해드려라.”\n",
      "\n",
      "174\n",
      "大\n",
      "學\n",
      "어느 마을에 농사지으며 글을 읽는 선비가 살고 있었다. 그는 학\n",
      "문을 하면서도 성실하게 농사를 지어 가정을 이끄는 착한 가장이\n",
      "었다. \n",
      "하루는 논으로 나가려고 외양간으로 갔는데, 어젯밤까지도 멀쩡\n",
      "하던 소가 기운을 못 차리고 비실거렸다.\n",
      "“오늘은 누렁이가 일을 할 수 없겠구나.”\n",
      "그렇다고 일손을 놓을 수는 없었기에 그는 한동네에 사는 황부\n",
      "자네 소를 하루만 빌리자고 생각했다.\n",
      "졸지에 \n",
      "소가 \n",
      "된 \n",
      "황부자\n",
      " \n",
      "所\n",
      "소위성기의자\n",
      "謂誠其意者 毋\n",
      "무자기야\n",
      "自欺也 ​\n",
      "如\n",
      "여오악취\n",
      "惡惡臭 如\n",
      "여호호색\n",
      "好好色 此\n",
      "차지위자겸\n",
      "之謂自謙\n",
      "이른바 \n",
      "자신의 \n",
      "뜻을 \n",
      "성실하게 \n",
      "한다는 \n",
      "것은 \n",
      "스스로 \n",
      "자신을 \n",
      "속이지 \n",
      "않는 \n",
      "것이다. \n",
      "악을 \n",
      "싫어하기를 \n",
      "마치 \n",
      "나쁜 \n",
      "냄새를 \n",
      "싫어하듯 \n",
      "하며, \n",
      "선을 \n",
      "좋아하기를 \n",
      "마치 \n",
      "미녀를 \n",
      "좋아하듯 \n",
      "하는 \n",
      "것, \n",
      "이를 \n",
      "가리켜 \n",
      "‘스스로 \n",
      "만족한다’고 \n",
      "말하는 \n",
      "것이다.\n",
      "_부문 성의 傅文 誠意\u001b[0m\u001b[32;1m\u001b[1;3m논어에서 선비에 대한 언급은 다양한 맥락에서 이루어집니다. 여기서 선비는 단순히 지식이 풍부한 사람을 넘어서, 도덕적 가치와 원칙을 중시하며, 자신의 신념에 따라 행동하는 사람을 의미합니다. 선비의 모습은 다음 세 가지 이야기를 통해 구체적으로 드러납니다.\n",
      "\n",
      "1. **헛된 죽음**: 이 이야기에서 선비는 정의로운 삶을 추구하는 인물로 묘사됩니다. 그는 산적이 제공한 음식을 먹고 나서 그 음식이 산적에게서 온 것을 알고는 자신의 원칙을 지키기 위해 그 음식을 토해내고, 결국 굶어 죽습니다. 이 선비는 자신의 정의감을 지키기 위해 목숨까지도 내놓을 준비가 되어 있었지만, 세상 사람들은 그의 행동을 얄팍한 정의로움으로 비웃었습니다. 이 이야기는 선비가 지녀야 할 도덕적 원칙과 실제 세상의 가치 사이의 갈등을 보여줍니다.\n",
      "\n",
      "2. **황부자와의 대조**: 이 이야기에서 선비는 황부자에게 소를 빌리려고 하며, 이 과정에서 황부자의 무식함과 선비의 지혜가 대조됩니다. 황부자는 많은 재산을 가졌지만 교양이 없어 선비의 편지를 읽을 수 없는 반면, 선비는 지혜롭게 자신의 필요를 충족시키려 합니다. 이는 선비가 단순히 지식을 추구하는 것을 넘어서 실용적인 지혜를 갖추어야 함을 시사합니다.\n",
      "\n",
      "3. **성실한 농사와 학문의 병행**: 선비가 농사를 지으며 가정을 이끄는 모습은 선비가 실천적인 삶과 학문을 병행해야 함을 보여줍니다. 선비는 일상 생활에서도 도덕적 가치를 실천하며, 학문과 실천이 조화를 이루어야 함을 강조합니다.\n",
      "\n",
      "또한, 선비의 덕목에 대한 설명에서는 자신의 뜻을 성실하게 하는 것이 스스로를 속이지 않는 것이라고 하며, 악을 싫어하고 선을 좋아하는 것을 자신의 만족으로 여기는 태도를 강조합니다. 이는 선비가 내면의 도덕성과 외적 행동 사이의 일관성을 유지해야 함을 의미합니다.\n",
      "\n",
      "논어에서의 선비는 지식, 도덕성, 실천적 지혜를 겸비한 이상적인 인물로 제시되며, 이러한 특성들은 오늘날에도 여전히 유효한 인간상으로 여겨집니다.\u001b[0m\n",
      "\n",
      "\u001b[1m> Finished chain.\u001b[0m\n",
      "답변: 논어에서 선비에 대한 언급은 다양한 맥락에서 이루어집니다. 여기서 선비는 단순히 지식이 풍부한 사람을 넘어서, 도덕적 가치와 원칙을 중시하며, 자신의 신념에 따라 행동하는 사람을 의미합니다. 선비의 모습은 다음 세 가지 이야기를 통해 구체적으로 드러납니다.\n",
      "\n",
      "1. **헛된 죽음**: 이 이야기에서 선비는 정의로운 삶을 추구하는 인물로 묘사됩니다. 그는 산적이 제공한 음식을 먹고 나서 그 음식이 산적에게서 온 것을 알고는 자신의 원칙을 지키기 위해 그 음식을 토해내고, 결국 굶어 죽습니다. 이 선비는 자신의 정의감을 지키기 위해 목숨까지도 내놓을 준비가 되어 있었지만, 세상 사람들은 그의 행동을 얄팍한 정의로움으로 비웃었습니다. 이 이야기는 선비가 지녀야 할 도덕적 원칙과 실제 세상의 가치 사이의 갈등을 보여줍니다.\n",
      "\n",
      "2. **황부자와의 대조**: 이 이야기에서 선비는 황부자에게 소를 빌리려고 하며, 이 과정에서 황부자의 무식함과 선비의 지혜가 대조됩니다. 황부자는 많은 재산을 가졌지만 교양이 없어 선비의 편지를 읽을 수 없는 반면, 선비는 지혜롭게 자신의 필요를 충족시키려 합니다. 이는 선비가 단순히 지식을 추구하는 것을 넘어서 실용적인 지혜를 갖추어야 함을 시사합니다.\n",
      "\n",
      "3. **성실한 농사와 학문의 병행**: 선비가 농사를 지으며 가정을 이끄는 모습은 선비가 실천적인 삶과 학문을 병행해야 함을 보여줍니다. 선비는 일상 생활에서도 도덕적 가치를 실천하며, 학문과 실천이 조화를 이루어야 함을 강조합니다.\n",
      "\n",
      "또한, 선비의 덕목에 대한 설명에서는 자신의 뜻을 성실하게 하는 것이 스스로를 속이지 않는 것이라고 하며, 악을 싫어하고 선을 좋아하는 것을 자신의 만족으로 여기는 태도를 강조합니다. 이는 선비가 내면의 도덕성과 외적 행동 사이의 일관성을 유지해야 함을 의미합니다.\n",
      "\n",
      "논어에서의 선비는 지식, 도덕성, 실천적 지혜를 겸비한 이상적인 인물로 제시되며, 이러한 특성들은 오늘날에도 여전히 유효한 인간상으로 여겨집니다.\n"
     ]
    }
   ],
   "source": [
    "# 필요한 모듈 import\n",
    "from langchain_community.tools.tavily_search import TavilySearchResults\n",
    "from langchain.text_splitter import RecursiveCharacterTextSplitter\n",
    "from langchain_community.vectorstores import FAISS\n",
    "from langchain_openai import OpenAIEmbeddings\n",
    "from langchain.document_loaders import PyPDFLoader, PyMuPDFLoader\n",
    "from langchain.tools.retriever import create_retriever_tool\n",
    "from langchain_openai import ChatOpenAI\n",
    "from langchain import hub\n",
    "from langchain.agents import create_openai_functions_agent, AgentExecutor\n",
    "from langchain_community.chat_message_histories import ChatMessageHistory\n",
    "from langchain_core.runnables.history import RunnableWithMessageHistory\n",
    "\n",
    "########## 1. 도구를 정의합니다 ##########\n",
    "\n",
    "### 1-1. Search 도구 ###\n",
    "# TavilySearchResults 클래스의 인스턴스를 생성합니다\n",
    "# k=5은 검색 결과를 5개까지 가져오겠다는 의미입니다\n",
    "search = TavilySearchResults(k=5)\n",
    "\n",
    "### 1-2. PDF 문서 검색 도구 (Retriever) ###\n",
    "# PDF 파일 로드. 파일의 경로 입력\n",
    "loader = PyMuPDFLoader(\"../12-RAG/data/1568)누구나 한번쯤 읽어야 할 사서삼경 (미리내공방) .pdf\")\n",
    "\n",
    "# 텍스트 분할기를 사용하여 문서를 분할합니다.\n",
    "text_splitter = RecursiveCharacterTextSplitter(chunk_size=1000, chunk_overlap=100)\n",
    "\n",
    "# 문서를 로드하고 분할합니다.\n",
    "split_docs = loader.load_and_split(text_splitter)\n",
    "\n",
    "# VectorStore를 생성합니다.\n",
    "vector = FAISS.from_documents(split_docs, OpenAIEmbeddings())\n",
    "\n",
    "# Retriever를 생성합니다.\n",
    "retriever = vector.as_retriever()\n",
    "\n",
    "# langchain 패키지의 tools 모듈에서 retriever 도구를 생성\n",
    "retriever_tool = create_retriever_tool(\n",
    "    retriever,\n",
    "    name=\"pdf_search\",\n",
    "    # 도구에 대한 설명을 자세히 기입해야 합니다!!!\n",
    "    description=\"군자의 덕목에 관한 정보를 PDF 문서에서 검색합니다, 사서삼경과 관련한 질문은 이 도구를 사용해야 합니다.\",\n",
    ")\n",
    "\n",
    "### 1-3. tools 리스트에 도구 목록을 추가합니다 ###\n",
    "# tools 리스트에 search와 retriever_tool을 추가합니다.\n",
    "tools = [search, retriever_tool]\n",
    "\n",
    "########## 2. LLM 을 정의합니다 ##########\n",
    "# LLM 모델을 생성합니다.\n",
    "llm = ChatOpenAI(model=\"gpt-4-turbo-preview\", temperature=0)\n",
    "\n",
    "########## 3. Prompt 를 정의합니다 ##########\n",
    "\n",
    "# hub에서 prompt를 가져옵니다 - 이 부분을 수정할 수 있습니다!\n",
    "prompt = hub.pull(\"hwchase17/openai-functions-agent\")\n",
    "\n",
    "########## 4. Agent 를 정의합니다 ##########\n",
    "\n",
    "# OpenAI 함수 기반 에이전트를 생성합니다.\n",
    "# llm, tools, prompt를 인자로 사용합니다.\n",
    "agent = create_openai_functions_agent(llm, tools, prompt)\n",
    "\n",
    "########## 5. AgentExecutor 를 정의합니다 ##########\n",
    "\n",
    "# AgentExecutor 클래스를 사용하여 agent와 tools를 설정하고, 상세한 로그를 출력하도록 verbose를 True로 설정합니다.\n",
    "agent_executor = AgentExecutor(agent=agent, tools=tools, verbose=True)\n",
    "\n",
    "########## 6. 채팅 기록을 수행하는 메모리를 추가합니다. ##########\n",
    "\n",
    "# 채팅 메시지 기록을 관리하는 객체를 생성합니다.\n",
    "message_history = ChatMessageHistory()\n",
    "\n",
    "# 채팅 메시지 기록이 추가된 에이전트를 생성합니다.\n",
    "agent_with_chat_history = RunnableWithMessageHistory(\n",
    "    agent_executor,\n",
    "    # 대부분의 실제 시나리오에서 세션 ID가 필요하기 때문에 이것이 필요합니다\n",
    "    # 여기서는 간단한 메모리 내 ChatMessageHistory를 사용하기 때문에 실제로 사용되지 않습니다\n",
    "    lambda session_id: message_history,\n",
    "    # 프롬프트의 질문이 입력되는 key: \"input\"\n",
    "    input_messages_key=\"input\",\n",
    "    # 프롬프트의 메시지가 입력되는 key: \"chat_history\"\n",
    "    history_messages_key=\"chat_history\",\n",
    ")\n",
    "\n",
    "########## 7. 질의-응답 테스트를 수행합니다. ##########\n",
    "\n",
    "# 질의에 대한 답변을 출력합니다.\n",
    "response = agent_with_chat_history.invoke(\n",
    "    {\n",
    "        \"input\": \"논어에서 선비란 무엇인가에 대해 알려줘\"\n",
    "    },\n",
    "    # 세션 ID를 설정합니다.\n",
    "    # 여기서는 간단한 메모리 내 ChatMessageHistory를 사용하기 때문에 실제로 사용되지 않습니다\n",
    "    config={\"configurable\": {\"session_id\": \"MyTestSessionID\"}},\n",
    ")\n",
    "print(f\"답변: {response['output']}\")"
   ]
  }
 ],
 "metadata": {
  "kernelspec": {
   "display_name": "rag",
   "language": "python",
   "name": "python3"
  },
  "language_info": {
   "codemirror_mode": {
    "name": "ipython",
    "version": 3
   },
   "file_extension": ".py",
   "mimetype": "text/x-python",
   "name": "python",
   "nbconvert_exporter": "python",
   "pygments_lexer": "ipython3",
   "version": "3.10.14"
  }
 },
 "nbformat": 4,
 "nbformat_minor": 2
}
