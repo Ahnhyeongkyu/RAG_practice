{
 "cells": [
  {
   "cell_type": "markdown",
   "metadata": {},
   "source": [
    "## Agent"
   ]
  },
  {
   "cell_type": "markdown",
   "metadata": {},
   "source": [
    "### 도구(Tools)"
   ]
  },
  {
   "cell_type": "markdown",
   "metadata": {},
   "source": [
    "#### 검색도구: Tavily Search"
   ]
  },
  {
   "cell_type": "code",
   "execution_count": 1,
   "metadata": {},
   "outputs": [
    {
     "data": {
      "text/plain": [
       "True"
      ]
     },
     "execution_count": 1,
     "metadata": {},
     "output_type": "execute_result"
    }
   ],
   "source": [
    "# API KEY를 환경변수로 관리하기 위한 설정 파일\n",
    "from dotenv import load_dotenv\n",
    "\n",
    "# API KEY 정보로드\n",
    "load_dotenv()"
   ]
  },
  {
   "cell_type": "code",
   "execution_count": 2,
   "metadata": {},
   "outputs": [],
   "source": [
    "# TavilySearchResults 클래스를 langchain_community.tools.tavily_search 모듈에서 가져옵니다.\n",
    "from langchain_community.tools.tavily_search import TavilySearchResults\n",
    "\n",
    "# TavilySearchResults 클래스의 인스턴스를 생성합니다\n",
    "# k=5은 검색 결과를 5개까지 가져오겠다는 의미입니다\n",
    "search = TavilySearchResults(k=5)"
   ]
  },
  {
   "cell_type": "code",
   "execution_count": 3,
   "metadata": {},
   "outputs": [
    {
     "data": {
      "text/plain": [
       "[{'url': 'https://www.jumpit.co.kr/company/5018?company_nm=제로원에이아이',\n",
       "  'content': '제로원에이아이. ... 업력 6년차 (2019년 설립)대표주소 경기 성남시 수정구 창업로 43 판교글로벌비즈센터 b705.'},\n",
       " {'url': 'https://news.mt.co.kr/mtview.php?no=2023110910333335010',\n",
       "  'content': '제로원에이아이(대표 송준호)는 판교 본사를 방문한 사우디아라비아 압둘라지즈 압둘라흐 알리 알 다그리르 이스트(Abdullaziz Abdullah Ali Al Daghrir Est.) 회사의 알둘라지즈(Abdullaziz) 대표이사와 상호업무협약 양해각서(MOU)를 맺었다고 밝혔다. 이번 협약을 통해 양사는 제로원AI의 인공지능 기술을 ...'},\n",
       " {'url': 'https://www.etnews.com/20211005000250',\n",
       "  'content': \"보안 데이터 인공지능 (AI) 플랫폼 기술 선도 기업 제로원에이아이 (대표 송준호)는 지난 8월 30일부터 2주간 열렸던 온라인 AI 경진대회 '판교 AI 캠프 ...\"},\n",
       " {'url': 'https://www.pangyotechnovalley.org/base/board/read?boardManagementNo=16&boardNo=590&menuLevel=2&menuNo=15',\n",
       "  'content': \"제로원에이아이-서울대병원 온라인 의료 AI 경진대회 관련 이미지 | 제공-제로원에이아이. 의료 인공지능 플랫폼 기술선도 기업 '㈜제로원에이아이(대표 송준호)'가 최근 진행된 서울대학교병원 온라인 의료 인공지능 경진대회에 '의료 보안 데이터 특화 인공지능 분석환경(AI SaaS Solution)'을 제공해 ...\"},\n",
       " {'url': 'https://v.daum.net/v/20211005150704539',\n",
       "  'content': \"보안 데이터 인공지능(AI) 플랫폼 기술 선도 기업 제로원에이아이(대표 송준호)는 지난 8월 30일부터 2주간 열렸던 온라인 AI 경진대회 '판교 AI 캠프' 최종결선에서 우수상을 수상했다고 5일 밝혔다. 경기도가 주최하고 경기도경제과학진흥원에서 주관한 이번 행사는 판교테크노밸리를 중심으로 AI 기업 ...\"}]"
      ]
     },
     "execution_count": 3,
     "metadata": {},
     "output_type": "execute_result"
    }
   ],
   "source": [
    "# 검색 결과를 가져옵니다.\n",
    "search.invoke(\"판교 제로원에이아이 전화번호는 무엇인가요?\")"
   ]
  },
  {
   "cell_type": "markdown",
   "metadata": {},
   "source": [
    "### PDF 기반 문서 검색 도구: Retriever"
   ]
  },
  {
   "cell_type": "code",
   "execution_count": 6,
   "metadata": {},
   "outputs": [],
   "source": [
    "from langchain_text_splitters import RecursiveCharacterTextSplitter\n",
    "from langchain_community.vectorstores import FAISS\n",
    "from langchain_openai import OpenAIEmbeddings\n",
    "from langchain.document_loaders import PyPDFLoader, PyMuPDFLoader\n",
    "\n",
    "# PDF 파일 로드. 파일의 경로 입력\n",
    "loader = PyMuPDFLoader(\"../12-RAG/data/1568)누구나 한번쯤 읽어야 할 사서삼경 (미리내공방) .pdf\")\n",
    "\n",
    "# 텍스트 분할기를 사용하여 문서를 분할합니다.\n",
    "text_splitter = RecursiveCharacterTextSplitter(chunk_size=1000, chunk_overlap=100)\n",
    "\n",
    "# 문서를 로드하고 분할합니다.\n",
    "split_docs = loader.load_and_split(text_splitter)\n",
    "\n",
    "# VectorStore를 생성합니다.\n",
    "vector = FAISS.from_documents(split_docs, OpenAIEmbeddings())\n",
    "\n",
    "# Retriever를 생성합니다.\n",
    "retriever = vector.as_retriever()"
   ]
  },
  {
   "cell_type": "code",
   "execution_count": 7,
   "metadata": {},
   "outputs": [
    {
     "name": "stderr",
     "output_type": "stream",
     "text": [
      "c:\\Users\\anHye\\anaconda3\\envs\\rag\\lib\\site-packages\\langchain_core\\_api\\deprecation.py:139: LangChainDeprecationWarning: The method `BaseRetriever.get_relevant_documents` was deprecated in langchain-core 0.1.46 and will be removed in 0.3.0. Use invoke instead.\n",
      "  warn_deprecated(\n"
     ]
    },
    {
     "data": {
      "text/plain": [
       "Document(metadata={'source': '../12-RAG/data/1568)누구나 한번쯤 읽어야 할 사서삼경 (미리내공방) .pdf', 'file_path': '../12-RAG/data/1568)누구나 한번쯤 읽어야 할 사서삼경 (미리내공방) .pdf', 'page': 262, 'total_pages': 353, 'format': 'PDF 1.7', 'title': '', 'author': '', 'subject': '', 'keywords': '', 'creator': 'Adobe InDesign CS6 (Macintosh)', 'producer': 'Adobe PDF Library 10.0.1', 'creationDate': \"D:20200511173841+09'00'\", 'modDate': \"D:20200512114412+09'00'\", 'trapped': ''}, page_content='262\\n書\\n經\\n맹자의 제자 만장이 스승에게 찾아가 물었다.\\n“요 임금께서 천하를 순 임금에게 주셨다고 하는데 그게 사실입\\n니까?”\\n맹자가 대답했다.\\n“그렇지 않다. 천자라고 해서 자기 마음대로 천하를 남에게 줄 \\n권리는 없는 것이다.”\\n만장이 다시 물었다.\\n“그렇다면 순 임금께서 천하를 얻은 것은 누가 주어서 그리된 것\\n백성의 \\n마음은 \\n하늘의 \\n마음\\n \\n天\\n천시자아민시\\n視自我民視 天\\n천청자아민청\\n聽自我民聽\\n백성들의 \\n눈은 \\n하늘의 \\n눈이고, \\n백성들의 \\n귀는 \\n하늘의 \\n귀이다.\\n_주서 태서중 周書 泰誓中')"
      ]
     },
     "execution_count": 7,
     "metadata": {},
     "output_type": "execute_result"
    }
   ],
   "source": [
    "# PDf 문서에서 Query 에 대한 관련성 높은 Chunk 를 가져옵니다.\n",
    "retriever.get_relevant_documents(\n",
    "    \"맹자의 내용을 요약해줘\"\n",
    ")[0]"
   ]
  },
  {
   "cell_type": "code",
   "execution_count": 8,
   "metadata": {},
   "outputs": [],
   "source": [
    "# langchain 패키지의 tools 모듈에서 retriever 도구를 생성하는 함수를 가져옵니다.\n",
    "from langchain.tools.retriever import create_retriever_tool"
   ]
  },
  {
   "cell_type": "code",
   "execution_count": 9,
   "metadata": {},
   "outputs": [],
   "source": [
    "retriever_tool = create_retriever_tool(\n",
    "    retriever,\n",
    "    name=\"pdf_search\",\n",
    "    description=\"사서삼경의 대학에 관한 정보를 PDF문서에서 검색합니다. 사서삼경의 맹자와 관련된 질문은 이 도구를 사용해야 합니다!\",\n",
    ")"
   ]
  },
  {
   "cell_type": "markdown",
   "metadata": {},
   "source": [
    "### Agent 가 사용할 도구 목록 정의"
   ]
  },
  {
   "cell_type": "code",
   "execution_count": 10,
   "metadata": {},
   "outputs": [],
   "source": [
    "# tools 리스트에 search와 retriever_tool을 추가합니다.\n",
    "tools = [search, retriever_tool]"
   ]
  },
  {
   "cell_type": "markdown",
   "metadata": {},
   "source": [
    "### 에이전트 생성"
   ]
  },
  {
   "cell_type": "code",
   "execution_count": 11,
   "metadata": {},
   "outputs": [],
   "source": [
    "from langchain_openai import ChatOpenAI\n",
    "\n",
    "# ChatOpenAI 클래스를 langchain_openai 모듈에서 가져옵니다.\n",
    "gpt = ChatOpenAI(model=\"gpt-4-turbo-preview\", temperature=0)"
   ]
  },
  {
   "cell_type": "code",
   "execution_count": 12,
   "metadata": {},
   "outputs": [
    {
     "data": {
      "text/plain": [
       "[SystemMessagePromptTemplate(prompt=PromptTemplate(input_variables=[], template='You are a helpful assistant')),\n",
       " MessagesPlaceholder(variable_name='chat_history', optional=True),\n",
       " HumanMessagePromptTemplate(prompt=PromptTemplate(input_variables=['input'], template='{input}')),\n",
       " MessagesPlaceholder(variable_name='agent_scratchpad')]"
      ]
     },
     "execution_count": 12,
     "metadata": {},
     "output_type": "execute_result"
    }
   ],
   "source": [
    "from langchain import hub\n",
    "\n",
    "# hub에서 prompt를 가져옵니다 - 이 부분을 수정할 수 있습니다!\n",
    "prompt = hub.pull(\"hwchase17/openai-functions-agent\")\n",
    "\n",
    "# prompt 의 messages를 출력합니다.\n",
    "prompt.messages"
   ]
  },
  {
   "cell_type": "code",
   "execution_count": 13,
   "metadata": {},
   "outputs": [],
   "source": [
    "from langchain.agents import create_openai_functions_agent\n",
    "\n",
    "# OpenAI 함수 기반 에이전트를 생성합니다.\n",
    "# llm, tools, prompt를 인자로 사용합니다.\n",
    "agent = create_openai_functions_agent(gpt, tools, prompt)"
   ]
  },
  {
   "cell_type": "code",
   "execution_count": 14,
   "metadata": {},
   "outputs": [],
   "source": [
    "from langchain.agents import AgentExecutor\n",
    "\n",
    "# AgentExecutor 클래스를 사용하여 agent와 tools를 설정하고, 상세한 로그를 출력하도록 verbose를 True로 설정합니다.\n",
    "agent_executor = AgentExecutor(agent=agent, tools=tools, verbose=True)"
   ]
  },
  {
   "cell_type": "markdown",
   "metadata": {},
   "source": [
    "### 에이전트 실행하기"
   ]
  },
  {
   "cell_type": "code",
   "execution_count": 15,
   "metadata": {},
   "outputs": [
    {
     "name": "stdout",
     "output_type": "stream",
     "text": [
      "\n",
      "\n",
      "\u001b[1m> Entering new AgentExecutor chain...\u001b[0m\n",
      "\u001b[32;1m\u001b[1;3m\n",
      "Invoking: `tavily_search_results_json` with `{'query': '판교 제로원에이아이 전화번호'}`\n",
      "\n",
      "\n",
      "\u001b[0m\u001b[36;1m\u001b[1;3m[{'url': 'https://www.saramin.co.kr/zf_user/jobs/view?rec_idx=40916614', 'content': '(주)제로원에이아이에서 채용공고가 시작되면 ... ㆍ 근무지역: (13449) 경기 성남시 수정구 대왕판교로 815 판교창조경제밸리 기업지원허브 p842(시흥동) 유연근무제(탄력적근로시간제, 재량근로시간제, 보상휴가제) 및 포괄임금제 운영 ... 전화번호, 이메일 주소 ...'}, {'url': 'https://www.pangyotechnovalley.org/base/board/read?boardManagementNo=16&boardNo=674&menuLevel=2&menuNo=15', 'content': '판교 테크노밸리 ... 보안 데이터 인공지능 플랫폼 기술 선도 기업 ㈜제로원에이아이(대표 송준호)는 koren ip 백본망 트래픽 감시 및 장애 분석을 위한 ai 관제 시스템 구축 사업의 8종 기능에 대해 한국전자통신연구원(etri)의 시험 통과 인증을 획득했다고 12일 ...'}, {'url': 'https://www.jumpit.co.kr/company/5018?company_nm=제로원에이아이', 'content': '제로원에이아이. ... 업력 6년차 (2019년 설립)대표주소 경기 성남시 수정구 창업로 43 판교글로벌비즈센터 b705.'}, {'url': 'https://www.etnews.com/20211005000250', 'content': \"보안 데이터 인공지능 (AI) 플랫폼 기술 선도 기업 제로원에이아이 (대표 송준호)는 지난 8월 30일부터 2주간 열렸던 온라인 AI 경진대회 '판교 AI 캠프 ...\"}, {'url': 'https://www.pangyotechnovalley.org/base/board/read?boardManagementNo=16&boardNo=590&menuLevel=2&menuNo=15', 'content': \"제로원에이아이-서울대병원 온라인 의료 AI 경진대회 관련 이미지 | 제공-제로원에이아이. 의료 인공지능 플랫폼 기술선도 기업 '㈜제로원에이아이(대표 송준호)'가 최근 진행된 서울대학교병원 온라인 의료 인공지능 경진대회에 '의료 보안 데이터 특화 인공지능 분석환경(AI SaaS Solution)'을 제공해 ...\"}]\u001b[0m\u001b[32;1m\u001b[1;3m제로원에이아이의 전화번호에 대한 구체적인 정보는 검색 결과에서 직접적으로 제공되지 않습니다. 하지만, 제로원에이아이의 주소는 경기 성남시 수정구 대왕판교로 815 판교창조경제밸리 기업지원허브 p842(시흥동)로 나타나 있습니다. 전화번호에 대한 정보를 얻기 위해서는 해당 기업의 공식 웹사이트를 방문하거나, 기업 지원허브에 직접 문의하는 것이 좋을 것 같습니다.\u001b[0m\n",
      "\n",
      "\u001b[1m> Finished chain.\u001b[0m\n",
      "답변: 제로원에이아이의 전화번호에 대한 구체적인 정보는 검색 결과에서 직접적으로 제공되지 않습니다. 하지만, 제로원에이아이의 주소는 경기 성남시 수정구 대왕판교로 815 판교창조경제밸리 기업지원허브 p842(시흥동)로 나타나 있습니다. 전화번호에 대한 정보를 얻기 위해서는 해당 기업의 공식 웹사이트를 방문하거나, 기업 지원허브에 직접 문의하는 것이 좋을 것 같습니다.\n"
     ]
    }
   ],
   "source": [
    "# 검색 결과를 요청 후 질문에 대한 답변을 출력합니다.\n",
    "response = agent_executor.invoke(\n",
    "    {\"input\": \"판교 제로원에이아이 전화번호를 검색하여 결과를 알려주세요.\"}\n",
    ")\n",
    "print(f'답변: {response[\"output\"]}')"
   ]
  },
  {
   "cell_type": "code",
   "execution_count": 16,
   "metadata": {},
   "outputs": [
    {
     "name": "stdout",
     "output_type": "stream",
     "text": [
      "\n",
      "\n",
      "\u001b[1m> Entering new AgentExecutor chain...\u001b[0m\n",
      "\u001b[32;1m\u001b[1;3m\n",
      "Invoking: `pdf_search` with `{'query': '선비 의무'}`\n",
      "\n",
      "\n",
      "\u001b[0m\u001b[33;1m\u001b[1;3m300\n",
      "선비의 \n",
      "헛된 \n",
      "죽음\n",
      "周\n",
      "易\n",
      "아직 수양이 덜된 선비가 있었다.\n",
      "그는 낯선 곳을 여행하다가 길을 잘못 들어 산속으로 들어가게 \n",
      "되었다. 날이 어두워졌기에 길을 찾다가 굶주림에 지쳐 쓰러지고 \n",
      "말았다.\n",
      "선비는 그대로 잠이 들었다가 새벽녘이 되어서야 깨어났다. 그\n",
      "가 눈을 떴을 때 자기 앞에는 먹을 것이 놓여 있었다.\n",
      "“오, 어느 고마운 분이 먹을 것을 놓고 가셨구나!”\n",
      "선비는 그 음식을 누가 갖다 놓았는지 알지 못한 채 일단 단숨에 \n",
      "먹어치웠다.\n",
      "잠시 후 선비 앞에 건장한 사내가 나타났는데 그는 ‘구’라는 이름\n",
      "을 가진 그 지방의 유명한 산적이었다. 선비는 사내의 정체를 알지\n",
      "\n",
      "301\n",
      "못한 채 물었다.\n",
      "“선생이 제게 음식을 주신 분이십니까?”\n",
      "“그렇소.”\n",
      "“정말 감사합니다. 그런데 선생은 누구십니까?”\n",
      "“나는 구라는 사람이오.”\n",
      "선비는 그 이름을 듣자마자 깜짝 놀라며 말했다.\n",
      "“그럼 당신이 그 유명한 산적이란 말이오? 이런…… 나는 정의로\n",
      "운 선비니 산적 따위가 주는 음식은 죽어도 먹을 수 없소!”\n",
      "그러고는 손가락으로 목구멍을 찔러 먹은 것을 다 토해냈다.\n",
      "그 후 선비는 결국 굶어 죽고 말았다.\n",
      "선비 자신은 정의의 이름으로 죽어갔다고 생각했으나, 세상 사\n",
      "람들은 그의 얄팍한 정의로움을 비웃었다.\n",
      "\n",
      "175\n",
      "황부자는 일자무식이었지만 가진 것이 많아 늘 거드름을 피우며 \n",
      "사는 자였다. 그는 매일 놀고먹어도 평생을 쓰고 남을 만큼의 재물\n",
      "을 가지고 있었다. 그래서 그런지 그는 가진 재산만 믿고 아무런 노\n",
      "력도 하지 않았다.\n",
      "선비는 지필묵을 꺼내 하루만 소를 빌려달라는 내용의 편지를 \n",
      "쓴 다음 아들을 시켜 황부자에게 전하도록 했다.\n",
      "아들이 편지를 들고 황부자를 찾아갔을 때 그는 귀한 손님과 이\n",
      "야기를 나누고 있었다.\n",
      "“어르신, 제 아버지께서 이 편지를 전해달라고 하셔서 왔습니다.”\n",
      "아들이 편지를 건네자 황부자는 역시나 거드름을 피우며 종이\n",
      "를 펼쳤다. 그러나 종이에 적힌 글자가 눈에 들어올 리 없었다. 까\n",
      "막눈이나 마찬가지였기 때문이다. 하지만 귀한 손님과 마주 앉아 \n",
      "있는 터라 자신의 무식함을 드러낼 수는 없었다.\n",
      "황부자는 짐짓 글 읽는 시늉을 했다. 그러고는 선비의 아들에게 \n",
      "말했다.\n",
      "“알겠다. 손님이 돌아가시면 내가 직접 가서 원하는 것을 해주겠\n",
      "노라 전해드려라.”\n",
      "\n",
      "264\n",
      "백성에게 \n",
      "다가갈 \n",
      "수 \n",
      "있어야\n",
      "書\n",
      "經\n",
      "제나라 재상 관중이 병석에 누운 지 오랜 시간이 지났는데도 일\n",
      "어나지 못하자 환공이 친히 문병을 갔다. 환공이 보니 관중은 이제 \n",
      "일어날 가망성이 거의 없었다. 환공이 조심스레 물었다.\n",
      "“내가 하는 말에 오해는 마시오. 만일 그대에게 불행한 일이 생\n",
      "긴다면 앞으로 누구에게 재상 자리를 맡기면 좋을지 말해줄 수 있\n",
      "겠소?”\n",
      "관중이 대답했다.\n",
      "“오해라니요. 당치도 않습니다. 폐하를 보필하지 못한 제 죄가 막\n",
      "중합니다. 폐하께서 지금 다음 재상을 생각하고 계시다는 것은 그\n",
      "만큼 국정을 잘 살피신다는 증거입니다. 혹시 다음 재상으로 생각\n",
      "해두신 사람이 있습니까?”\u001b[0m\u001b[32;1m\u001b[1;3m사서삼경의 대학에서 언급된 선비의 의무에 대한 구체적인 내용은 찾을 수 없었습니다. 대신, 제공된 PDF 문서에서는 선비와 관련된 몇 가지 이야기를 찾을 수 있었습니다.\n",
      "\n",
      "1. **선비의 헛된 죽음**: 이 이야기에서는 아직 수양이 덜된 선비가 길을 잃고 굶주림에 지쳐 쓰러진 후, 산적이 놓고 간 음식을 먹게 됩니다. 그러나 산적의 정체를 알고 나서는 그 음식을 토해내고 결국 굶어 죽습니다. 이 이야기는 선비가 정의를 중시했으나, 그의 정의로움이 얄팍하게 비춰져 세상 사람들에게 비웃음을 샀다는 내용을 담고 있습니다.\n",
      "\n",
      "2. **황부자와 선비**: 이 이야기에서는 황부자가 무식함에도 불구하고 거드름을 피우며 사는 모습과, 선비가 황부자에게 소를 빌려달라는 편지를 보내는 내용이 나옵니다. 황부자는 자신의 무식함을 드러내지 않기 위해 글 읽는 시늉을 하며 선비의 요청을 들어주겠다고 합니다.\n",
      "\n",
      "3. **백성에게 다가갈 수 있어야**: 이 부분에서는 제나라 재상 관중이 병석에 누워있을 때 환공이 친히 문병을 갑니다. 관중은 환공에게 다음 재상을 묻는 말에 대해 오해하지 말라고 답하며, 자신의 죄가 막중하다고 말합니다. 이 이야기는 리더가 백성에게 다가갈 수 있어야 한다는 의무를 강조합니다.\n",
      "\n",
      "이러한 이야기들은 선비의 의무와 관련하여 간접적인 교훈을 제공하지만, 사서삼경의 대학에서 선비의 의무에 대해 직접적으로 언급한 내용은 포함되어 있지 않습니다.\u001b[0m\n",
      "\n",
      "\u001b[1m> Finished chain.\u001b[0m\n",
      "답변: 사서삼경의 대학에서 언급된 선비의 의무에 대한 구체적인 내용은 찾을 수 없었습니다. 대신, 제공된 PDF 문서에서는 선비와 관련된 몇 가지 이야기를 찾을 수 있었습니다.\n",
      "\n",
      "1. **선비의 헛된 죽음**: 이 이야기에서는 아직 수양이 덜된 선비가 길을 잃고 굶주림에 지쳐 쓰러진 후, 산적이 놓고 간 음식을 먹게 됩니다. 그러나 산적의 정체를 알고 나서는 그 음식을 토해내고 결국 굶어 죽습니다. 이 이야기는 선비가 정의를 중시했으나, 그의 정의로움이 얄팍하게 비춰져 세상 사람들에게 비웃음을 샀다는 내용을 담고 있습니다.\n",
      "\n",
      "2. **황부자와 선비**: 이 이야기에서는 황부자가 무식함에도 불구하고 거드름을 피우며 사는 모습과, 선비가 황부자에게 소를 빌려달라는 편지를 보내는 내용이 나옵니다. 황부자는 자신의 무식함을 드러내지 않기 위해 글 읽는 시늉을 하며 선비의 요청을 들어주겠다고 합니다.\n",
      "\n",
      "3. **백성에게 다가갈 수 있어야**: 이 부분에서는 제나라 재상 관중이 병석에 누워있을 때 환공이 친히 문병을 갑니다. 관중은 환공에게 다음 재상을 묻는 말에 대해 오해하지 말라고 답하며, 자신의 죄가 막중하다고 말합니다. 이 이야기는 리더가 백성에게 다가갈 수 있어야 한다는 의무를 강조합니다.\n",
      "\n",
      "이러한 이야기들은 선비의 의무와 관련하여 간접적인 교훈을 제공하지만, 사서삼경의 대학에서 선비의 의무에 대해 직접적으로 언급한 내용은 포함되어 있지 않습니다.\n"
     ]
    }
   ],
   "source": [
    "response = agent_executor.invoke(\n",
    "    {\n",
    "        \"input\": \"사서삼경 대학에서 선비의 의무에 대한 내용을 PDF 문서에서 알려줘\"\n",
    "    }\n",
    ")\n",
    "print(f'답변: {response[\"output\"]}')"
   ]
  },
  {
   "cell_type": "markdown",
   "metadata": {},
   "source": [
    "### EEVE Korean (LM Studio) - 동작 X"
   ]
  },
  {
   "cell_type": "code",
   "execution_count": 17,
   "metadata": {},
   "outputs": [],
   "source": [
    "from langchain_openai import ChatOpenAI"
   ]
  },
  {
   "cell_type": "code",
   "execution_count": 18,
   "metadata": {},
   "outputs": [],
   "source": [
    "eeve = ChatOpenAI(\n",
    "    model=\"teddylee777/EEVE-Korean-Instruct-10.8B-v1.0-gguf\",\n",
    "    base_url=\"http://localhost:1234/v1\",\n",
    "    api_key=\"lm-studio\",\n",
    "    temperature=0.1,\n",
    ")"
   ]
  },
  {
   "cell_type": "code",
   "execution_count": 19,
   "metadata": {},
   "outputs": [],
   "source": [
    "eeve_agent = create_openai_functions_agent(eeve, tools, prompt)"
   ]
  },
  {
   "cell_type": "code",
   "execution_count": 20,
   "metadata": {},
   "outputs": [],
   "source": [
    "eeve_agent_executor = AgentExecutor(\n",
    "    agent=eeve_agent,\n",
    "    tools=tools,\n",
    "    verbose=True,\n",
    "    handle_parsing_errors=True,\n",
    ")"
   ]
  },
  {
   "cell_type": "code",
   "execution_count": 22,
   "metadata": {},
   "outputs": [],
   "source": [
    "# 검색 결과를 요청 후 질문에 대한 답변을 출력합니다.\n",
    "response = eeve_agent_executor.invoke(\n",
    "    {\"input\": \"판교 제로원에이아이의 전화번호를 검색하여 결과를 알려주세요.\"}\n",
    ")\n",
    "print(f'답변: {response[\"output\"]}')\n",
    "# API 연결 문제로 실행 실패"
   ]
  },
  {
   "cell_type": "markdown",
   "metadata": {},
   "source": [
    "### llama 3 (JSON Agent)"
   ]
  },
  {
   "cell_type": "code",
   "execution_count": 23,
   "metadata": {},
   "outputs": [],
   "source": [
    "llama3 = ChatOpenAI(\n",
    "    base_url=\"http://sionic.chat:8001/v1\",\n",
    "    api_key=\"934c4bbc-c384-4bea-af82-1450d7f8128d\",\n",
    "    model=\"xionic-ko-llama-3-70b\",\n",
    "    temperature=0.1,\n",
    ")"
   ]
  },
  {
   "cell_type": "code",
   "execution_count": 24,
   "metadata": {},
   "outputs": [],
   "source": [
    "# Use Prompt for JSON Agent\n",
    "json_prompt = hub.pull(\"hwchase17/react-chat-json\")"
   ]
  },
  {
   "cell_type": "code",
   "execution_count": 25,
   "metadata": {},
   "outputs": [],
   "source": [
    "from langchain.agents import create_json_chat_agent\n",
    "\n",
    "llama3_agent = create_json_chat_agent(llama3, tools, json_prompt)"
   ]
  },
  {
   "cell_type": "code",
   "execution_count": 26,
   "metadata": {},
   "outputs": [],
   "source": [
    "from langchain.agents import AgentExecutor\n",
    "\n",
    "llama3_agent_executor = AgentExecutor(\n",
    "    agent=llama3_agent,\n",
    "    tools=tools,\n",
    "    verbose=True,\n",
    "    handle_parsing_errors=True,\n",
    "    return_intermediate_steps=True,\n",
    ")"
   ]
  },
  {
   "cell_type": "code",
   "execution_count": 27,
   "metadata": {},
   "outputs": [
    {
     "name": "stdout",
     "output_type": "stream",
     "text": [
      "\n",
      "\n",
      "\u001b[1m> Entering new AgentExecutor chain...\u001b[0m\n",
      "\u001b[32;1m\u001b[1;3m```\n",
      "{\n",
      "    \"action\": \"tavily_search_results_json\",\n",
      "    \"action_input\": \"판교 제로원에이아이 전화번호\"\n",
      "}\n",
      "```\u001b[0m\u001b[36;1m\u001b[1;3m[{'url': 'https://www.saramin.co.kr/zf_user/jobs/view?rec_idx=40916614', 'content': '(주)제로원에이아이에서 채용공고가 시작되면 ... ㆍ 근무지역: (13449) 경기 성남시 수정구 대왕판교로 815 판교창조경제밸리 기업지원허브 p842(시흥동) 유연근무제(탄력적근로시간제, 재량근로시간제, 보상휴가제) 및 포괄임금제 운영 ... 전화번호, 이메일 주소 ...'}, {'url': 'https://www.pangyotechnovalley.org/base/board/read?boardManagementNo=16&boardNo=674&menuLevel=2&menuNo=15', 'content': '판교 테크노밸리 ... 보안 데이터 인공지능 플랫폼 기술 선도 기업 ㈜제로원에이아이(대표 송준호)는 koren ip 백본망 트래픽 감시 및 장애 분석을 위한 ai 관제 시스템 구축 사업의 8종 기능에 대해 한국전자통신연구원(etri)의 시험 통과 인증을 획득했다고 12일 ...'}, {'url': 'https://www.pangyotechnovalley.org/base/board/read?boardManagementNo=16&boardNo=510&menuLevel=2&menuNo=13', 'content': \"판교 창업존, 제7회 스타트업 815 'd.n.a분야' ir 성료 (2021.10.29) ... '제로원에이아이'(ai 플랫폼(saas), 빅데이터 플랫폼(paas)) '스마트인사이드에이아이'(건설 현장 특화 영상 ai) '옐로나이프'(차량용 디지털 계기판 ui 커스터마이징 기술) '오터컴퍼니'(키워드 기반 맞춤 ...\"}, {'url': 'https://www.jumpit.co.kr/company/5018?company_nm=제로원에이아이', 'content': '제로원에이아이. ... 업력 6년차 (2019년 설립)대표주소 경기 성남시 수정구 창업로 43 판교글로벌비즈센터 b705.'}, {'url': 'https://www.etnews.com/20211005000250', 'content': \"보안 데이터 인공지능 (AI) 플랫폼 기술 선도 기업 제로원에이아이 (대표 송준호)는 지난 8월 30일부터 2주간 열렸던 온라인 AI 경진대회 '판교 AI 캠프 ...\"}]\u001b[0m\u001b[32;1m\u001b[1;3m```\n",
      "{\n",
      "    \"action\": \"Final Answer\",\n",
      "    \"action_input\": \"According to the search results, the phone number of 판교 제로원에이아이 is not explicitly mentioned. However, the address is mentioned as (13449) 경기 성남시 수정구 대왕판교로 815 판교창조경제밸리 기업지원허브 p842(시흥동). You may be able to contact them through their website or email.\"\n",
      "}\n",
      "```\u001b[0m\n",
      "\n",
      "\u001b[1m> Finished chain.\u001b[0m\n",
      "답변: According to the search results, the phone number of 판교 제로원에이아이 is not explicitly mentioned. However, the address is mentioned as (13449) 경기 성남시 수정구 대왕판교로 815 판교창조경제밸리 기업지원허브 p842(시흥동). You may be able to contact them through their website or email.\n"
     ]
    }
   ],
   "source": [
    "# 검색 결과를 요청 후 질문에 대한 답변을 출력합니다.\n",
    "response = llama3_agent_executor.invoke(\n",
    "    {\"input\": \"판교 제로원에이아이 전화번호를 검색하여 결과를 알려주세요.\"}\n",
    ")\n",
    "print(f'답변: {response[\"output\"]}')"
   ]
  },
  {
   "cell_type": "code",
   "execution_count": 28,
   "metadata": {},
   "outputs": [
    {
     "name": "stdout",
     "output_type": "stream",
     "text": [
      "\n",
      "\n",
      "\u001b[1m> Entering new AgentExecutor chain...\u001b[0m\n",
      "\u001b[32;1m\u001b[1;3m```\n",
      "{\n",
      "    \"action\": \"pdf_search\",\n",
      "    \"action_input\": \"사서삼경의 맹자에서 선비의 의무\"\n",
      "}\n",
      "```\u001b[0m\u001b[33;1m\u001b[1;3m328\n",
      "서 그분들의 행적에 대해서는 누구보다 많이 알고 있습니다. 그런데 \n",
      "일찍이 지금의 전하처럼 문란한 군왕은 계시지 않았습니다.”\n",
      "김처선의 입에서 그 말이 나오자 주위에 있던 신하들은 깜짝 놀랐\n",
      "다. 그것은 자기를 죽여달라고 하는 말이나 다름없었기 때문이다. 당\n",
      "연히 연산군의 분노가 터져 나왔다.\n",
      "“저 늙은이가 죽으려고 환장을 한 모양이구나! 오냐, 소원대로 \n",
      "죽여주마!”\n",
      "연산군은 거칠게 활을 찾아들고는 김처선을 향해 화살을 쏘았\n",
      "다. 김처선은 곧 옆구리에 그 화살을 맞고 쓰러졌다. 그러면서도 그\n",
      "는 입을 열어 연산군에게 간했다.\n",
      "“내시인 제 목숨은 파리 목숨이나 마찬가지여서 이 자리에서 죽\n",
      "는다 해도 여한은 없습니다. 하지만 전하께서는 용상을 오래 지키\n",
      "셔야 하는데 제 생각에는 그리될 수가 없을 듯해 그것이 두려울 뿐\n",
      "\n",
      "60\n",
      "이처럼 공자는 군자와 소인을 명확히 대비했다. 이를 통해 군자\n",
      "가 되는 길, 즉 소인이 취하는 행동을 버릴 것을 강조했다.\n",
      "\n",
      "62\n",
      "다. 그러나 서백은 이미 죽고 그의 아들인 무왕武王이 무력으로 은나\n",
      "라의 주왕紂王을 치려고 했다. 그러자 백이와 숙제는 무왕의 말고삐\n",
      "를 잡고 간곡히 말렸다.\n",
      "“부친이 돌아가셨는데 장례도 치르지 않고 바로 전쟁을 일으키\n",
      "는 것은 효孝라고 할 수 없습니다. 또한 은나라의 신하 된 자로서 군\n",
      "주를 죽이려고 한다는 것은 인仁이라고 할 수 없을 것입니다. 그러\n",
      "니 제발 말머리를 돌리십시오.”\n",
      "이를 본 무왕의 신하들은 칼을 뽑아들고 백이와 숙제의 목을 치\n",
      "려고 덤벼들었다. 그때 신하 태공망太公望이 나서서 무왕에게 간했다.\n",
      "“저들이 하는 행동은 의로운 일이니 살려 보내는 것이 옳은 줄 \n",
      "아옵니다.”\n",
      " 결국 백이와 숙제는 태공망의 덕으로 목숨을 구했지만, 무왕은 \n",
      "끝내 자기 뜻을 굽히지 않고 주왕을 거세해버렸다.\n",
      "그 후 무왕은 어지러운 은나라를 평정했으며 천하는 주 왕실을 \n",
      "종주로 섬겼다. 그러나 백이와 숙제는 무왕의 행위가 신하 된 도리\n",
      "에 어긋날 뿐만 아니라, 주나라의 백성이 되는 것은 치욕스런 일이\n",
      "라며 주나라의 양식을 먹지 않고 수양산首陽山으로 들어가 버렸다. \n",
      "그리고 두 사람은 고사리를 캐 먹으며 연명하다가 결국 굶어 죽고 \n",
      "말았다.\n",
      "두 사람은 굶주림에 허덕이며 이런 노래를 지었다.\n",
      "\n",
      "177\n",
      "소에서 고기로 바꾸실 게 분명하고, 옷과 침소도 호사스럽게 치장\n",
      "하실 것이 분명합니다. 이런 것들을 갖추시려면 엄청난 재물이 필\n",
      "요하게 되니 이는 결코 해서는 안 될 일입니다.”\n",
      "그러나 주왕은 기자의 간언을 듣지 않고 백성들에게 무거운 조\n",
      "세를 가했다. 그러고는 이에 반발하는 자들에게 중벌을 내렸다.\n",
      "그러자 백성들은 주왕에게 등을 돌렸다. 얼마 뒤 주왕의 측근으\n",
      "로 일하던 신하들조차 등을 돌려 주나라 무왕에게 도움을 청해 그\n",
      "를 살해하니, 결국 은나라는 멸망하고 말았다.\u001b[0m\u001b[32;1m\u001b[1;3m```\n",
      "{\n",
      "    \"action\": \"Final Answer\",\n",
      "    \"action_input\": \"According to the text, Mencius emphasized the importance of a gentleman's duties, and the story of Kim Cheo-seon and Yeonsangun illustrates the consequences of not fulfilling one's duties as a ruler. Additionally, the story of Baek Yi and Suk Je also highlights the importance of fulfilling one's duties as a subject.\"\n",
      "}\n",
      "```\u001b[0m\n",
      "\n",
      "\u001b[1m> Finished chain.\u001b[0m\n",
      "답변: According to the text, Mencius emphasized the importance of a gentleman's duties, and the story of Kim Cheo-seon and Yeonsangun illustrates the consequences of not fulfilling one's duties as a ruler. Additionally, the story of Baek Yi and Suk Je also highlights the importance of fulfilling one's duties as a subject.\n"
     ]
    }
   ],
   "source": [
    "# 검색 결과를 요청 후 질문에 대한 답변을 출력합니다.\n",
    "response = llama3_agent_executor.invoke(\n",
    "    {\n",
    "        \"input\": \"사서삼경의 맹자에서 선비의 의무에 대해 알려줘\"\n",
    "    }\n",
    ")\n",
    "print(f'답변: {response[\"output\"]}')"
   ]
  },
  {
   "cell_type": "markdown",
   "metadata": {},
   "source": [
    "### 한글 답변 처리"
   ]
  },
  {
   "cell_type": "code",
   "execution_count": 29,
   "metadata": {},
   "outputs": [],
   "source": [
    "prompt_ko = hub.pull(\"teddynote/react-chat-json-korean\")"
   ]
  },
  {
   "cell_type": "code",
   "execution_count": 30,
   "metadata": {},
   "outputs": [],
   "source": [
    "from langchain.agents import create_json_chat_agent\n",
    "\n",
    "llama3_agent_ko = create_json_chat_agent(llama3, tools, prompt_ko)"
   ]
  },
  {
   "cell_type": "code",
   "execution_count": 31,
   "metadata": {},
   "outputs": [],
   "source": [
    "from langchain.agents import AgentExecutor\n",
    "\n",
    "llama3_agent_executor = AgentExecutor(\n",
    "    agent=llama3_agent_ko,\n",
    "    tools=tools,\n",
    "    verbose=True,\n",
    "    handle_parsing_errors=True,\n",
    "    return_intermediate_steps=True,\n",
    ")"
   ]
  },
  {
   "cell_type": "code",
   "execution_count": 32,
   "metadata": {},
   "outputs": [
    {
     "name": "stdout",
     "output_type": "stream",
     "text": [
      "\n",
      "\n",
      "\u001b[1m> Entering new AgentExecutor chain...\u001b[0m\n",
      "\u001b[32;1m\u001b[1;3m```\n",
      "{\n",
      "    \"action\": \"tavily_search_results_json\",\n",
      "    \"action_input\": \"판교 제로원에이아이 전화번호\"\n",
      "}\n",
      "```\u001b[0m\u001b[36;1m\u001b[1;3m[{'url': 'https://www.saramin.co.kr/zf_user/jobs/view?rec_idx=40916614', 'content': '(주)제로원에이아이에서 채용공고가 시작되면 ... ㆍ 근무지역: (13449) 경기 성남시 수정구 대왕판교로 815 판교창조경제밸리 기업지원허브 p842(시흥동) 유연근무제(탄력적근로시간제, 재량근로시간제, 보상휴가제) 및 포괄임금제 운영 ... 전화번호, 이메일 주소 ...'}, {'url': 'https://www.pangyotechnovalley.org/base/board/read?boardManagementNo=16&boardNo=674&menuLevel=2&menuNo=15', 'content': '판교 테크노밸리 ... 보안 데이터 인공지능 플랫폼 기술 선도 기업 ㈜제로원에이아이(대표 송준호)는 koren ip 백본망 트래픽 감시 및 장애 분석을 위한 ai 관제 시스템 구축 사업의 8종 기능에 대해 한국전자통신연구원(etri)의 시험 통과 인증을 획득했다고 12일 ...'}, {'url': 'https://www.pangyotechnovalley.org/base/board/read?boardManagementNo=16&boardNo=510&menuLevel=2&menuNo=15', 'content': \"판교 창업존, 제7회 스타트업 815 'd.n.a분야' ir 성료 (2021.10.29) ... '제로원에이아이'(ai 플랫폼(saas), 빅데이터 플랫폼(paas)) '스마트인사이드에이아이'(건설 현장 특화 영상 ai) '옐로나이프'(차량용 디지털 계기판 ui 커스터마이징 기술) '오터컴퍼니'(키워드 기반 맞춤 ...\"}, {'url': 'https://www.jumpit.co.kr/company/5018?company_nm=제로원에이아이', 'content': '제로원에이아이. ... 업력 6년차 (2019년 설립)대표주소 경기 성남시 수정구 창업로 43 판교글로벌비즈센터 b705.'}, {'url': 'https://www.etnews.com/20211005000250', 'content': \"보안 데이터 인공지능 (AI) 플랫폼 기술 선도 기업 제로원에이아이 (대표 송준호)는 지난 8월 30일부터 2주간 열렸던 온라인 AI 경진대회 '판교 AI 캠프 ...\"}]\u001b[0m\u001b[32;1m\u001b[1;3m```\n",
      "{\n",
      "    \"action\": \"Final Answer\",\n",
      "    \"action_input\": \"판교 제로원에이아이의 전화번호는 찾을 수 없지만, 판교 제로원에이아이의 주소는 경기 성남시 수정구 대왕판교로 815 판교창조경제밸리 기업지원허브 p842(시흥동)입니다.\"\n",
      "}\n",
      "```\u001b[0m\n",
      "\n",
      "\u001b[1m> Finished chain.\u001b[0m\n",
      "답변: 판교 제로원에이아이의 전화번호는 찾을 수 없지만, 판교 제로원에이아이의 주소는 경기 성남시 수정구 대왕판교로 815 판교창조경제밸리 기업지원허브 p842(시흥동)입니다.\n"
     ]
    }
   ],
   "source": [
    "# 검색 결과를 요청 후 질문에 대한 답변을 출력합니다.\n",
    "response = llama3_agent_executor.invoke(\n",
    "    {\"input\": \"판교 제로원에이아이 전화번호를 검색하여 결과를 알려주세요.\"}\n",
    ")\n",
    "print(f'답변: {response[\"output\"]}')"
   ]
  },
  {
   "cell_type": "code",
   "execution_count": 33,
   "metadata": {},
   "outputs": [
    {
     "name": "stdout",
     "output_type": "stream",
     "text": [
      "\n",
      "\n",
      "\u001b[1m> Entering new AgentExecutor chain...\u001b[0m\n",
      "\u001b[32;1m\u001b[1;3m```\n",
      "{\n",
      "    \"action\": \"tavily_search_results_json\",\n",
      "    \"action_input\": \"중용 선비의 의무\"\n",
      "}\n",
      "```\u001b[0m\u001b[36;1m\u001b[1;3m[{'url': 'https://m.post.naver.com/viewer/postView.nhn?volumeNo=27281336&memberNo=30620779', 'content': '중용, 조선을 바꾼 한 권의 책. 저자 백승종. 출판 사우. 발매 2019.07.15. \"최고의 수양 서적\", 『중용』. 이 한 권의 책은 조선의 역사를 어떻게 바꾸었나. 중용은 조선의 왕과 선비들이 가장 사랑한 책이다. 이 책은 『중용』이라는 한 권의 책이 조선의 역사에 ...'}, {'url': 'https://ko.wikipedia.org/wiki/중용', 'content': '내용. 《중용》의 요지는 요순 임금의 천하 통치의 정신이 도통인데, 이 도통의 요체는 중용에 있으므로 이를 터득하고 실천해야 한다는 것이다. 사람은 누구에게나 인간적 욕심 과 도덕적 본성 이 함께 내재되어 있어, 가장 지혜로운 사람이라도 인간적 욕심이 ...'}, {'url': 'https://m.post.naver.com/viewer/postView.nhn?volumeNo=22259321&memberNo=30620779', 'content': '그는 『중용』에 모든 경서의 정수가 담겨 있다고 믿었다. 조선의 다른 학자들도 대체로 그렇게 생각했다. 조익은 『중용』의 주제를 여섯 가지로 파악했다. 첫째, 성품[性]을 다루었다. 둘째, 도리[道]를 말한 곳도 많다. 셋째, 극치極致를 설명했다. 넷째, 중용의 ...'}, {'url': 'https://post.naver.com/viewer/postView.nhn?volumeNo=22112761&vType=VERTICAL', 'content': '이 책은 『 중용 』 이라는 한 권의 책이 조선의 역사에 어떻게 기여했는지를 구체적으로 실례를 통해 밝히고 있다. 저자는 『 중용 』 을 오랫동안 연구해온 역사가로서 조선 500 년의 역사 속에서 『 중용 』 이 어떻게 시대의 필요에 따라 이용되었는지를 장기적인 관점에서 조망한다.'}, {'url': 'https://brunch.co.kr/@confetti0307/220', 'content': 'by 펭소아 Jul 30. 2021. 중용은 중도를 지키는 것이 아니다. 13편 자로 (子路) 제21장. 공자가 말했다. \"중용의 지혜를 실천하는 사람을 얻어 함께 하지 못한다면 반드시 미치광이나 고집쟁이와 함께 하겠다. 미치광이는 (한 우물만 파기에) 성취가 크고, 고집쟁이는 ...'}]\u001b[0m\u001b[32;1m\u001b[1;3m```\n",
      "{\n",
      "    \"action\": \"Final Answer\",\n",
      "    \"action_input\": \"중용에서 선비의 의무는 중용의 정신을 따르며, 도통의 요체를 터득하고 실천하는 것이다. 또한, 중용은 조선의 왕과 선비들이 가장 사랑한 책으로, 조선의 역사를 어떻게 바꾸었나를 보여주는 책이다.\"\n",
      "}\n",
      "```\u001b[0m\n",
      "\n",
      "\u001b[1m> Finished chain.\u001b[0m\n",
      "답변: 중용에서 선비의 의무는 중용의 정신을 따르며, 도통의 요체를 터득하고 실천하는 것이다. 또한, 중용은 조선의 왕과 선비들이 가장 사랑한 책으로, 조선의 역사를 어떻게 바꾸었나를 보여주는 책이다.\n"
     ]
    }
   ],
   "source": [
    "# 검색 결과를 요청 후 질문에 대한 답변을 출력합니다.\n",
    "response = llama3_agent_executor.invoke(\n",
    "    {\n",
    "        \"input\": \"중용에서 선비의 의무에 대해 알려줘\"\n",
    "    }\n",
    ")\n",
    "print(f'답변: {response[\"output\"]}')"
   ]
  }
 ],
 "metadata": {
  "kernelspec": {
   "display_name": "rag",
   "language": "python",
   "name": "python3"
  },
  "language_info": {
   "codemirror_mode": {
    "name": "ipython",
    "version": 3
   },
   "file_extension": ".py",
   "mimetype": "text/x-python",
   "name": "python",
   "nbconvert_exporter": "python",
   "pygments_lexer": "ipython3",
   "version": "3.10.14"
  }
 },
 "nbformat": 4,
 "nbformat_minor": 2
}
