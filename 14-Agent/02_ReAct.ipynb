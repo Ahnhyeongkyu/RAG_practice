{
 "cells": [
  {
   "cell_type": "code",
   "execution_count": 1,
   "metadata": {},
   "outputs": [
    {
     "data": {
      "text/plain": [
       "True"
      ]
     },
     "execution_count": 1,
     "metadata": {},
     "output_type": "execute_result"
    }
   ],
   "source": [
    "# API KEY를 환경변수로 관리하기 위한 설정 파일\n",
    "from dotenv import load_dotenv\n",
    "\n",
    "# API KEY 정보로드\n",
    "load_dotenv()"
   ]
  },
  {
   "cell_type": "markdown",
   "metadata": {},
   "source": [
    "### 도구(Tools)"
   ]
  },
  {
   "cell_type": "markdown",
   "metadata": {},
   "source": [
    "#### 검색: TavilySearchResults"
   ]
  },
  {
   "cell_type": "code",
   "execution_count": 2,
   "metadata": {},
   "outputs": [],
   "source": [
    "from langchain_community.tools.tavily_search import TavilySearchResults\n",
    "\n",
    "search = TavilySearchResults()\n",
    "search.max_results = 10"
   ]
  },
  {
   "cell_type": "code",
   "execution_count": 4,
   "metadata": {},
   "outputs": [
    {
     "data": {
      "text/plain": [
       "10"
      ]
     },
     "execution_count": 4,
     "metadata": {},
     "output_type": "execute_result"
    }
   ],
   "source": [
    "result = search.run(\"LangChain에 대해 알아봐줘\")\n",
    "len(result)"
   ]
  },
  {
   "cell_type": "code",
   "execution_count": 5,
   "metadata": {},
   "outputs": [
    {
     "name": "stdout",
     "output_type": "stream",
     "text": [
      "[{'url': 'https://velog.io/@skkumin/1.-LangChain-Chat-gpt를-더-강력하게', 'content': 'Langchain에 대해 자세히 알아보기전 이번 포스팅에서는 Langchain과 더불어 알아둬야 할 몇가지 개념에 대해 간략히 정리하도록 하겠습니다. LLM 우리가 자주 사용하는 Chatgpt는 GPT-3.5라는 LLM모델을 기반으로 한 대화형 어플리케이션 이라고 생각하면 될거같습니다.'}, {'url': 'https://aws.amazon.com/ko/what-is/langchain/', 'content': 'translate_output_in_target_language()\\n])\\nLangChain의 핵심 구성 요소는 무엇인가요?\\n소프트웨어 팀은 LangChain을 사용하여 다음 모듈로 컨텍스트 인식 언어 모델 시스템을 구축할 수 있습니다.\\n AWS의 다음 단계\\nAWS 프리 티어에 즉시 액세스할 수 있습니다.\\n 검색 모듈\\nLangChain을 사용하면 언어 모델 응답을 개선하는 정보를 변환하고, 저장하고, 검색하고, 가져오는 다양한 도구를 사용하여 RAG 시스템을 설계할 수 있습니다. AWS에 대해 자세히 알아보기\\nAWS 리소스\\nAWS에서의 개발자\\n도움말 LangChain에서 개발자는 원하는 결과를 생성하는 데 필요한 단계를 지정하여, 특정 비즈니스 상황에 맞게 언어 모델을 유연하게 조정할 수 있습니다.\\n'}, {'url': 'https://growupdevmind.tistory.com/66', 'content': '오늘은 핫!한 LLM 프레임워크인 Langchain에 대해서 뜯어보려고 합니다. LangChain 이란?대규모 언어 모델(LLM)을 기반으로하는 애플리케이션을 개발하기 위한 프레임워크(langchain 공식문서),LLM을 사용하여 애플리케이션 생성을 단순화하도록 설계된 프레임워크(위키백과)라고 합니다. Langchain 구성요소를 ...'}, {'url': 'https://www.developerfastlane.com/blog/what-is-langchain', 'content': '랭체인 (LangChain)은 언어 모델을 기반으로 한 애플리케이션을 개발하는 데 도움이 되는 오픈 소스 프레임워크입니다. 이는 언어 모델을 다른 데이터 소스에 연결하고, 환경과 상호 작용하며, 복잡한 애플리케이션을 구축하는 과정을 단순화하는 도구와 추상화를 ...'}, {'url': 'https://brunch.co.kr/@ywkim36/147', 'content': 'LangChain의 추상화는 언어 모델을 사용하는 데 필요한 일반적인 단계와 개념을 나타냅니다.언어 모델 (Language Model)을연결 (Chain)하여 애플리케이션을 만들 수 있으므로 복잡한 NLP 작업을 실행하는 데 필요한 코드의 양을 최소화할 수 있습니다.(Language Model + Chain ...'}, {'url': 'https://www.samsungsds.com/kr/insights/the-concept-of-langchain.html', 'content': '랭체인 (LangChain)은 언어 모델 기반의 애플리케이션을 개발하는 프레임워크입니다. 랭체인을 사용해 챗봇 또는 개인 비서를 만들고, 문서 또는 구조화된 데이터에 대한 Q&A를 요약, 분석, 생성하고, 코드를 쓰거나 이해하고, API와 상호작용하고, 생성형 AI를 ...'}, {'url': 'https://post.naver.com/viewer/postView.naver?volumeNo=37460860&vType=VERTICAL', 'content': '랭체인(LangChain)은 언어 모델 기반의 애플리케이션을 개발하는 프레임워크입니다. 랭체인을 사용해 챗봇 또는 개인 비서를 만들고, 문서 또는 구조화된 데이터에 대한 Q&A를 요약, 분석, 생성하고, 코드를 쓰거나 이해하고, API와 상호작용하고, 생성형 AI를 ...'}, {'url': 'https://m.post.naver.com/viewer/postView.naver?volumeNo=36585870&memberNo=36733075', 'content': '랭체인(LangChain)은 노출하여 대규모 언어 모델과 애플리케이션의 통합을 간소화하는 SDK이다. 대규모 언어 모델의 부상과 함께 중요성이 커지고 있다. 대규모 언어 모델에 대한 최신 트렌드를 쫓는 소프트웨어 개발자라면 연일 쏟아지는 소식이 당황스러울 수 ...'}, {'url': 'https://cheatsheet.md/ko/langchain-tutorials/langchain-llm.ko', 'content': 'LangChain을 활용하면 개발자들은 LLM API의 저수준 세부 사항에 대해 걱정할 필요 없이 빠르게 프로토타입을 만들고 LLM 기반 애플리케이션을 배포할 수 있습니다. 설치. LangChain을 사용하려면 pip를 사용하여 설치해야 합니다. 가상 환경을 먼저 생성하는 것이 좋습니다.'}, {'url': 'https://github.com/teddylee777/langchain-kr', 'content': 'teddylee777/langchain-kr\\nFolders and files\\nLatest commit\\nHistory\\n01-Basic\\n01-Basic\\n02-Prompt\\n02-Prompt\\n03-OutputParser\\n03-OutputParser\\n04-Model\\n04-Model\\n05-Memory\\n05-Memory\\n06-Chains\\n06-Chains\\n07-RAG\\n07-RAG\\n08-Agent\\n08-Agent\\n09-FastAPI\\n09-FastAPI\\n12-Use-Cases\\n12-Use-Cases\\n99-Projects\\n99-Projects\\nprompts\\nprompts\\n.env_sample\\n.env_sample\\n.gitignore\\n.gitignore\\nREADME.md\\nREADME.md\\nRepository files navigation\\n📘 LangChain 한국어 튜토리얼\\n🌟 LangChain 공식 Document, Cookbook, 그 밖의 실용 예제를 바탕으로 작성한 한국어 튜토리얼입니다.\\n Topics\\nResources\\nStars\\nWatchers\\nForks\\nReleases\\nPackages\\n0\\nLanguages\\nFooter\\nFooter navigation 🍿 유튜브\\n✏️ 블로그 글 목록\\nGeneral\\nOpenAI Python API\\nLangChain\\nLangGraph\\n👥 LangChain 밋업 2024 Q1 발표자료\\n📜 라이선스\\n본 프로젝트는 Apache License 2.0에 따라 라이선스가 부여됩니다.\\n 📚 출처\\n🌐 추가 자료\\n🚀 시작하기\\n본 튜토리얼을 시작하기 전에, LangChain과 관련된 기본적인 지식을 갖추는 것이 좋습니다. Saved searches\\nUse saved searches to filter your results more quickly\\nTo see all available qualifiers, see our documentation.\\n'}]\n"
     ]
    }
   ],
   "source": [
    "print(result)"
   ]
  },
  {
   "cell_type": "code",
   "execution_count": 6,
   "metadata": {},
   "outputs": [],
   "source": [
    "from langchain_openai import ChatOpenAI\n",
    "\n",
    "llm = ChatOpenAI(model=\"gpt-3.5-turbo\", temperature=0)"
   ]
  },
  {
   "cell_type": "code",
   "execution_count": 7,
   "metadata": {},
   "outputs": [
    {
     "data": {
      "text/plain": [
       "[SystemMessagePromptTemplate(prompt=PromptTemplate(input_variables=[], template='You are a helpful assistant')),\n",
       " MessagesPlaceholder(variable_name='chat_history', optional=True),\n",
       " HumanMessagePromptTemplate(prompt=PromptTemplate(input_variables=['input'], template='{input}')),\n",
       " MessagesPlaceholder(variable_name='agent_scratchpad')]"
      ]
     },
     "execution_count": 7,
     "metadata": {},
     "output_type": "execute_result"
    }
   ],
   "source": [
    "from langchain import hub\n",
    "\n",
    "# Get the prompt to use - you can modify this!\n",
    "prompt = hub.pull(\"hwchase17/openai-functions-agent\")\n",
    "prompt.messages"
   ]
  },
  {
   "cell_type": "code",
   "execution_count": 8,
   "metadata": {},
   "outputs": [],
   "source": [
    "from langchain.agents import create_openai_functions_agent, tool\n",
    "\n",
    "agent_tools = [TavilySearchResults()]\n",
    "agent = create_openai_functions_agent(llm, agent_tools, prompt)"
   ]
  },
  {
   "cell_type": "code",
   "execution_count": 9,
   "metadata": {},
   "outputs": [],
   "source": [
    "from langchain.agents import AgentExecutor\n",
    "\n",
    "agent_executor = AgentExecutor(agent=agent, tools=agent_tools, verbose=True)"
   ]
  },
  {
   "cell_type": "code",
   "execution_count": 10,
   "metadata": {},
   "outputs": [
    {
     "name": "stdout",
     "output_type": "stream",
     "text": [
      "\n",
      "\n",
      "\u001b[1m> Entering new AgentExecutor chain...\u001b[0m\n",
      "\u001b[32;1m\u001b[1;3mHello! How can I assist you today?\u001b[0m\n",
      "\n",
      "\u001b[1m> Finished chain.\u001b[0m\n"
     ]
    },
    {
     "data": {
      "text/plain": [
       "{'input': 'hi!', 'output': 'Hello! How can I assist you today?'}"
      ]
     },
     "execution_count": 10,
     "metadata": {},
     "output_type": "execute_result"
    }
   ],
   "source": [
    "agent_executor.invoke({\"input\": \"hi!\"})"
   ]
  },
  {
   "cell_type": "code",
   "execution_count": 11,
   "metadata": {},
   "outputs": [
    {
     "name": "stdout",
     "output_type": "stream",
     "text": [
      "\n",
      "\n",
      "\u001b[1m> Entering new AgentExecutor chain...\u001b[0m\n",
      "\u001b[32;1m\u001b[1;3m\n",
      "Invoking: `tavily_search_results_json` with `{'query': '테디노트 teddylee777 github'}`\n",
      "\n",
      "\n",
      "\u001b[0m\u001b[36;1m\u001b[1;3m[{'url': 'https://github.com/teddylee777', 'content': 'Jupyter Notebook\\n1\\n4\\nConv2d and MaxPool2d Calculator for PyTorch\\nPython\\n18\\n1\\nStreamlit 튜토리얼 😁\\nJupyter Notebook\\n13\\n12\\n주가 종목 패턴 발굴기\\nJupyter Notebook\\n14\\n12\\n586\\ncontributions\\nin the last year\\nContribution activity\\nJanuary 2024\\nSeeing something unexpected? Teddy Lee\\nteddylee777\\nAchievements\\nAchievements\\nHighlights\\nBlock or report teddylee777\\nPrevent this user from interacting with your repositories and sending you notifications.\\n Jupyter Notebook\\n58\\n16\\nForked from lovedlim/tensorflow\\n텐서플로 도서 예제 파일입니다.\\n Samsung Electronics\\n테디노트 Blog\\n테디노트 YouTube\\n@teddynote\\nLinkedIn\\n💻 (This repository is intented for helping whom are interested in machine learning study)\\nJupyter Notebook\\n2.3k\\n789\\n머신러닝/딥러닝(PyTorch, TensorFlow) 전용 도커입니다.'}, {'url': 'https://github.com/teddylee777/machine-learning', 'content': '(This repository is intented for helping whom are interested in machine learning study)\\nteddylee777/machine-learning\\nFolders and files\\nLatest commit\\nHistory\\n00-Python\\n00-Python\\n01-Kaggle\\n01-Kaggle\\n02-PyTorch\\n02-PyTorch\\n03-TensorFlow\\n03-TensorFlow\\n04-TensorFlow2.0\\n04-TensorFlow2.0\\n05-Pandas\\n05-Pandas\\n06-Visualization\\n06-Visualization\\n07-Scikit-Learn\\n07-Scikit-Learn\\n08-XAI\\n08-XAI\\n09-GAN\\n09-GAN\\n10-RL\\n10-RL\\n11-AutoML\\n11-AutoML\\n12-HuggingFace\\n12-HuggingFace\\n13-ChatGPT\\n13-ChatGPT\\n99-Misc\\n99-Misc\\n.all-contributorsrc\\n.all-contributorsrc\\n.gitignore\\n.gitignore\\nCONTRIBUTING.md\\nCONTRIBUTING.md\\nREADME.md\\nREADME.md\\nrequirements.txt\\nrequirements.txt\\nRepository files navigation\\nMachine Learning Study 혼자 해보기\\n기여자 (Contributors) ✨\\n더 많은 분들이 도움을 받으실 수 있도록, 좋은 Hello Kaggle!\\nKaggle Tutorial | PyTorch Basic\\nKaggle Tutorial | Image/Object Detection\\nKaggle Tutorial | Natural Language Processing\\nKaggle Tutorial | R Machine Learning\\nKaggle 우승 솔루션\\n강의 & 강연\\n정형데이터\\n강연\\n노트북\\n캐글 & 데이콘 대회 분류\\n입문 (For Beginners)\\n비전 (Vision)\\n시계열 (Time Series)\\n음성\\n블로그 (Blogs)\\n깃헙 저장소 (GitHub)\\n튜토리얼(Tutorial)\\n강의(Lecture)\\n자연어처리(Natural Language Processing\\nComputer Vision\\nSignal Processing\\nGAN\\n논문\\n서적 예제\\n웹사이트 (Web Sites)\\n위키독스 (Wiki Docs)\\nDive into Deep Learning\\n점프 투 파이썬\\n초보자를 위한 파이썬 300제\\nMachine Learning 강의노트\\nPyTorch로 시작하는 딥 러닝 입문\\n딥러닝을 이용한 자연어 처리 입문\\n딥 러닝을 이용한 자연어 처리 심화\\n파이썬으로 배우는 알고리즘 트레이딩\\n빅데이터 - 하둡, 하이브로 시작하기\\n빅데이터 - 스칼라(scala), 스파크(spark)로 시작하기\\n생성 AI 활용기 - 전뇌해커\\n이미지 자연어 처리 (Natural Language Processing)\\n음성인식 (Speech Recognition)\\n기타\\n최적화 & AutoML (Optimization & AutoML)\\n메타러닝 (Meta Learning)\\n액티브러닝 (Active Learning)\\n연합학습 (Federated Learning)\\n증분학습 (Incremental Learning)\\n시각화 (Visualization)\\nLLM (Large Language Model)\\n랭체인 (LangChain)\\nChatGPT\\nOpenAI\\n전자책\\n기타 (Others)\\n캐글 & 데이콘\\n캐글이 처음이라면?\\n 파이썬 (Python), 데이터분석 (Pandas, Numpy), 시각화 (Matplotlib, Seaborn, Bokeh, Folium)\\n수학 (Mathmatics) & 통계 (Statistics)\\n머신러닝 (Machine Learning) & 딥러닝 (Deep Learning)\\n빅데이터 분석 기사\\n주제별 (By Subjects)\\n수학 (Mathmatics)\\n기초\\n미분\\n유사도\\n선형대수\\n기타\\n통계 (Statistics)\\n머신러닝 (Machine Learning)\\n경사하강법 (Gradient Descent)\\n오차 역전파 (Back Propagation)\\n손실 함수 (Loss Functions)\\n (This repository is intented for helping whom are interested in machine learning study)\\nTopics\\nResources\\nStars\\nWatchers\\nForks\\nReleases\\nPackages\\n0\\nContributors\\n12\\nLanguages\\nFooter\\nFooter navigation'}, {'url': 'https://kr.linkedin.com/in/teddy-lee', 'content': '추천한 사람: Teddy Lee. 2024년 Microsoft의 MVP에 지난 해에 이어 올해도 Python 분야에서 선정되게 되었습니다. 도움 주신 많은 분들께 진심으로 감사드립니다. 올해도 다양한 활동을 하고 있습니다. 이번주 토요일에는 PyLadies Seoul에서 세미나를 진행하기도 합니다.….'}, {'url': 'https://teddylee777.github.io/lectures/', 'content': '텐서플로 개발자 자격증 취득\\n🙏 아래의 내용을 참고해 주세요 🙏\\n📌 VOD 강의 링크\\n💻 한 방으로 끝내는 판다스(Pandas) 데이터 분석 - 전자책 포함\\n🙏 아래의 내용을 참고해 주세요 🙏\\n📌 VOD 강의 링크\\n🌱 한 권으로 끝내는 파이썬(Python) 코딩 입문 - 전자책 포함\\n🙏 아래의 내용을 참고해 주세요 🙏\\n📌 VOD 강의 링크\\n🌱 깃헙 블로그(Github blog)로 차별화 된 나만의 홈페이지 만들기!\\n 🔥알림🔥\\n① 테디노트 유튜브 -\\n구경하러 가기!\\n② 서울대 X 테디노트 ChatGPT & PyTorch 강의\\n강의 커리큘럼 👀\\n강의\\n아래에 나열된 강의는 모두 제가 직접 촬영 및 진행한 내 새끼같은 강의들입니다.\\n 주제별로 강의 영상을 시리즈로 모아 놓았어요😊\\n구독, 좋아요👍 그리고 댓글 감사합니다🥰\\n📌 지금 당장 유튜브 보러가기\\n✏️ 머신러닝 스터디 혼자 해보기\\n깃헙(GitHub)에 혼자서 데이터 분석, 머신러닝, 딥러닝을 스터디 할 수 있도록 주제별로 정리해 놓았어요✌️\\n저도 혼자서 공부를 했었는데, 이해가 쏙쏙 되는 강의와 블로그 주소들을 메모해 두었다가 정리해 본 내용이에요.\\n 강의 링크\\n🌱 스트림릿(Streamlit)을 활용한 파이썬 웹앱 제작하기\\n🙏 아래의 내용을 참고해 주세요 🙏\\n스트림릿(streamlit)을 활용하여 파이썬 웹앱 대시보드를 구현해보고 싶으신 분들께 추천 드립니다🤩\\n데이터 분석/대시보드 제작 그리고 머신러닝 모델을 배포해서 서비스화 시키는 과정입니다😊\\n파이썬 기본 문법만 알고 계신다면 부담 없이 도전해 만들어 보고 싶으신 분들께 추천 드립니다🤩\\n코딩은 거의 없기 때문에 코린이도 문제 없어요😊\\n테디노트와 같은 블로그를 만들어 보고 싶으시다면 지금 바로 도전해 보세요 🥰\\n📌 VOD'}, {'url': 'https://teddylee777.github.io/about/', 'content': '코드스테이츠 X 테디노트 - 깃헙 블로그 제작하기 강의. DB FIS - 2023 데이터 분석가 과정 강의. SK그룹 - 2023년 상반기 텐서플로우 딥러닝 과정 강의. S-Oil - 파이썬 데이터 분석, 머신러닝 과정 강의. GS칼텍스 - CDS 파이썬 데이터 분석, 머신러닝, 딥러닝(PyTorch) 과정 강의.'}]\u001b[0m\u001b[32;1m\u001b[1;3m테디노트(teddylee777)의 GitHub 주소는 [여기](https://github.com/teddylee777)입니다.\u001b[0m\n",
      "\n",
      "\u001b[1m> Finished chain.\u001b[0m\n"
     ]
    }
   ],
   "source": [
    "result = agent_executor.invoke(\n",
    "    {\"input\": \"테디노트(teddylee777)의 github 주소를 알려줘\"}\n",
    ")"
   ]
  },
  {
   "cell_type": "code",
   "execution_count": 12,
   "metadata": {},
   "outputs": [
    {
     "name": "stdout",
     "output_type": "stream",
     "text": [
      "테디노트(teddylee777)의 GitHub 주소는 [여기](https://github.com/teddylee777)입니다.\n"
     ]
    }
   ],
   "source": [
    "print(result[\"output\"])"
   ]
  },
  {
   "cell_type": "code",
   "execution_count": 13,
   "metadata": {},
   "outputs": [
    {
     "name": "stdout",
     "output_type": "stream",
     "text": [
      "\n",
      "\n",
      "\u001b[1m> Entering new AgentExecutor chain...\u001b[0m\n",
      "\u001b[32;1m\u001b[1;3m\n",
      "Invoking: `tavily_search_results_json` with `{'query': '판교 몽중헌 전화번호'}`\n",
      "\n",
      "\n",
      "\u001b[0m\u001b[36;1m\u001b[1;3m[{'url': 'https://app.catchtable.co.kr/ct/shop/mongjungheon_pg?from=share&type=VISIT_RESERVATION', 'content': '중식 | 판교 몽중헌 판교점 ... - 판교 테크원 타워 건물 내 지하 주차장을 이용 부탁드리며 , 2시간 이용가능 합니다. ... 전화번호 031-601-7574. 잘못된 정보가 있나요? 수정이 필요하거나 폐점한 매장이라면 알려주세요! 저장 1,278. 예약하기 ...'}, {'url': 'https://m.blog.naver.com/shoodingstar/223282238040', 'content': '전화 | 031-601-7574. 영업시간 | 매일 11:30-22:00 (Break Time 15:00-17:30, Last Order 21:00) ... [분당/판교] 판교 테크원타워 맛집 중식당 몽중헌 CJ 라이프 스타일 스페셜 코스. 몽중헌 판교점 판교 테크원타워에 위치한 #몽중헌 판교점 분위기도 좋고 음식도 맛있어서 좋아하는 ...'}, {'url': 'https://www.siksinhot.com/P/1455887', 'content': '몽중헌 판교점입니다. 홍콩 본토의 맛을 재현한 중식레스토랑입니다. 경기, 분당-판교에 위치하고 있습니다. ... 경기 성남시 분당구 판교역로 146번 길 20 현대백화점 9층 지번 : 백현동 541 전화번호 : 050713521963 영업시간 : 10:30~ 오후 9:00 *출처 : ...'}, {'url': 'https://blog.naver.com/PostView.naver?blogId=pdi0903&logNo=222685325353&directAccess=false', 'content': \"ㅋㅋ\\n\\u200b\\n메인 메뉴판 보실게요\\n\\u200b\\n\\u200b\\n사진을 찍다가 지쳐하니까\\n앞에 일행이 메뉴판을 들어줬습니다\\nㅋㅋㅋㅋㅋ\\n민망..\\n\\u200b\\n저희 일행은\\n딤섬 4종류\\u200b\\n하교(통새우) ₩12,000\\n구채교(새우와 부추) ₩12,000\\n근채교(새우, 돼지고기, 샐러리, 칠리페퍼) ₩12,000\\n상하이소롱포(상하이식 돼지고기) ₩15,000\\n그리고\\n삼선짬뽕 ₩18,000\\n사천탕면 ₩18,000\\n게살볶음밥 ₩18,000\\n을 주문했습니다.\\n 왜 딤섬전문점인지 알겠다는 ㅎㅎ\\n\\u200b\\n이어서 나온\\n\\u200b\\n\\u200b\\n일행1의 XO소스 게살 볶음밥\\n\\u200b\\n\\u200b\\n일행2의 사천탕면\\n\\u200b\\n\\u200b\\n이건 제가 주문한 삼선짬뽕 입니다.\\n \\u200b\\n몽중헌 판교점\\n경기 성남시 분당구 분당내곡로 131, 판교테크원타워 2층\\n매장전화번호) 031-601-7574\\n영업시간) 11:30 ~ 22:00\\n(브레이크타임 15:00 ~ 17:30)\\n\\u200b\\n판교테크원타워는 판교역 1번출구로 나오면\\n바로 보이는 이곳\\n\\u200b\\n\\u200b\\n투썸플레이스가 있는 이 건물이 되겠습니다!!\\n \\u200b\\n딤섬으로 유명한 '몽중헌'은\\n판교역 바로앞에 있는\\n판교테크원타워 2층에 위치해있구요\\n몇주전부터 오픈예정 현수막을 보고\\n기대를 하고 있었습니다 ㅋㅋ\\n\\u200b\\n안녕하세요 오늘은 신규오픈한지 3일밖에 안된 따끈따끈한 신상맛집 소개해드립니다 ㅎ 이미 방송으로 유명...\\nm.blog.naver.com\\n판교테크원타워 정보는 위 포스팅 참고해주시고\\n\\u200b\\n그럼 만나러 가보겠습니다.\\n \\u200b\\n기존에 알고있던 가격에서 다 조금씩 올랐더라구요\\n(2~3천원씩)\\n\\u200b\\n\\u200b\\n기본반찬이에요\\n(짜사이와 무, 땅콩)\\n\\u200b\\n\\u200b\\n딤섬 3가지(하교, 구채교, 근채교)는\\n각 1개씩\"}, {'url': 'https://m.blog.naver.com/soh_y_/223176564604', 'content': '\\u200b\\n\\u200b\\n짜사이, 땅콩볶음, 피클 기본찬 3종과\\n고추기름이 섞인 간장이 함께 나와요.\\n\\u200b\\n주문 메뉴\\n상하이 소롱포 / 15,000\\n백채교 / 12,000\\nXO소스의 소포 / 12,000\\n돼지고기 탕수육(소) / 40,000\\n한우 일품 자장면 / 14,000\\n\\u200b\\n상하이 소롱포\\n소롱포는 깊은 수저 위에 올리고\\n젓가락으로 피를 터뜨려 뜨거운 육즙을 맛봐요.\\n돼지고기 잡내가 느껴지지 않고 감칠맛 제대로였어요.\\n 주차 가능\\n\\u200b\\n• 전화번호 / 031-601-7574\\n\\u200b\\n• 운영시간 / 월~금 11:30~22:00\\n브레이크 타임 15:00~17:30\\n라스트 오더 21:00\\n토~일 11:30~21:30\\n브레이크 타임 15:00~17:30\\n라스트 오더 20:30\\n\\u200b\\n경기도 성남시 분당구 분당내곡로 131 판교 테크원 타워 2F\\n안녕하세요.\\n 8. 7. 6:00\\n\\u200b\\n\\u200b\\n몽중헌 판교점\\n다양한 딤섬을 즐길 수 있는 분위기 좋은 중식당\\n• 주소 / 경기 성남시 분당구 분당내곡로 131\\n판교 테크원타워 2층\\n\\u200b\\n• 주차 / \\u200b\\n고급진 분위기가 좋았던 몽중헌 판교점 후기에요:)\\n\\u200b\\n외부 모습\\n\\u200b\\n몽중헌 판교점은\\n랩 오브 파리바게트 옆 에스컬레이터를 이용해\\n2층으로 올라오면 좌측에 위치해요.\\n \\u200b\\n#몽중헌 #몽중헌메뉴 #몽중헌예약 #몽중헌룸예약\\n#몽중헌회식 #몽중헌데이트 #몽중헌판교점 #테크원맛집\\n#테크원주차 #판교역맛집 #판교맛집 #판교중식당\\n#분당중식당 #판교분위기좋은 #판교데이트 #판교회식\\n#판교소개팅 #내돈내먹\\n맛집, 일상을 공유해요_.\\n'}]\u001b[0m\u001b[32;1m\u001b[1;3m판교 몽중헌의 전화번호는 031-601-7574 입니다. 영업시간은 매일 11:30-22:00이며, Break Time은 15:00-17:30이고, Last Order는 21:00입니다.\u001b[0m\n",
      "\n",
      "\u001b[1m> Finished chain.\u001b[0m\n"
     ]
    }
   ],
   "source": [
    "result = agent_executor.invoke({\"input\": \"판교 몽중헌의 전화번호를 알려줘\"})"
   ]
  },
  {
   "cell_type": "code",
   "execution_count": 14,
   "metadata": {},
   "outputs": [
    {
     "data": {
      "text/plain": [
       "'판교 몽중헌의 전화번호는 031-601-7574 입니다. 영업시간은 매일 11:30-22:00이며, Break Time은 15:00-17:30이고, Last Order는 21:00입니다.'"
      ]
     },
     "execution_count": 14,
     "metadata": {},
     "output_type": "execute_result"
    }
   ],
   "source": [
    "result[\"output\"]"
   ]
  }
 ],
 "metadata": {
  "kernelspec": {
   "display_name": "rag",
   "language": "python",
   "name": "python3"
  },
  "language_info": {
   "codemirror_mode": {
    "name": "ipython",
    "version": 3
   },
   "file_extension": ".py",
   "mimetype": "text/x-python",
   "name": "python",
   "nbconvert_exporter": "python",
   "pygments_lexer": "ipython3",
   "version": "3.10.14"
  }
 },
 "nbformat": 4,
 "nbformat_minor": 2
}
