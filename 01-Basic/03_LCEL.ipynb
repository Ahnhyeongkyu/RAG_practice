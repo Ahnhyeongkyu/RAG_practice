{
 "cells": [
  {
   "cell_type": "code",
   "execution_count": 1,
   "metadata": {},
   "outputs": [
    {
     "data": {
      "text/plain": [
       "True"
      ]
     },
     "execution_count": 1,
     "metadata": {},
     "output_type": "execute_result"
    }
   ],
   "source": [
    "# API KEY를 환경변수로 관리하기 위한 설정 파일\n",
    "from dotenv import load_dotenv\n",
    "\n",
    "# API KEY 정보로드\n",
    "load_dotenv()"
   ]
  },
  {
   "cell_type": "code",
   "execution_count": 2,
   "metadata": {},
   "outputs": [
    {
     "name": "stdout",
     "output_type": "stream",
     "text": [
      "LangSmith 추적을 시작합니다.\n",
      "[프로젝트명]\n",
      "CH01-Basic\n"
     ]
    }
   ],
   "source": [
    "# LangSmith 추적을 설정합니다. https://smith.langchain.com\n",
    "# !pip install -qU langchain-teddynote\n",
    "from langchain_teddynote import logging\n",
    "\n",
    "# 프로젝트 이름을 입력합니다.\n",
    "logging.langsmith(\"CH01-Basic\")"
   ]
  },
  {
   "cell_type": "code",
   "execution_count": 3,
   "metadata": {},
   "outputs": [],
   "source": [
    "from langchain_teddynote.messages import stream_response  # 스트리밍 출력\n",
    "from langchain_core.prompts import PromptTemplate"
   ]
  },
  {
   "cell_type": "code",
   "execution_count": 4,
   "metadata": {},
   "outputs": [
    {
     "data": {
      "text/plain": [
       "PromptTemplate(input_variables=['country'], template='{country}의 수도는 어디인가요?')"
      ]
     },
     "execution_count": 4,
     "metadata": {},
     "output_type": "execute_result"
    }
   ],
   "source": [
    "# template 정의\n",
    "template = \"{country}의 수도는 어디인가요?\"\n",
    "\n",
    "# from_template 메소드를 이용하여 PromptTemplate 객체 생성\n",
    "prompt_template = PromptTemplate.from_template(template)\n",
    "prompt_template"
   ]
  },
  {
   "cell_type": "code",
   "execution_count": 5,
   "metadata": {},
   "outputs": [
    {
     "data": {
      "text/plain": [
       "'대한민국의 수도는 어디인가요?'"
      ]
     },
     "execution_count": 5,
     "metadata": {},
     "output_type": "execute_result"
    }
   ],
   "source": [
    "# prompt 생성\n",
    "prompt = prompt_template.format(country=\"대한민국\")\n",
    "prompt"
   ]
  },
  {
   "cell_type": "code",
   "execution_count": 6,
   "metadata": {},
   "outputs": [
    {
     "data": {
      "text/plain": [
       "'미국의 수도는 어디인가요?'"
      ]
     },
     "execution_count": 6,
     "metadata": {},
     "output_type": "execute_result"
    }
   ],
   "source": [
    "# prompt 생성\n",
    "prompt = prompt_template.format(country=\"미국\")\n",
    "prompt"
   ]
  },
  {
   "cell_type": "code",
   "execution_count": 7,
   "metadata": {},
   "outputs": [],
   "source": [
    "from langchain_openai import ChatOpenAI\n",
    "\n",
    "model = ChatOpenAI(\n",
    "    model=\"gpt-3.5-turbo\",\n",
    "    max_tokens=2048,\n",
    "    temperature=0.1,\n",
    ")"
   ]
  },
  {
   "cell_type": "code",
   "execution_count": 8,
   "metadata": {},
   "outputs": [],
   "source": [
    "# prompt 를 PromptTemplate 객체로 생성합니다.\n",
    "prompt = PromptTemplate.from_template(\"{topic} 에 대해 쉽게 설명해주세요.\")\n",
    "\n",
    "model = ChatOpenAI()\n",
    "\n",
    "chain = prompt | model"
   ]
  },
  {
   "cell_type": "code",
   "execution_count": 9,
   "metadata": {},
   "outputs": [],
   "source": [
    "# input 딕셔너리에 주제를 '인공지능 모델의 학습 원리'으로 설정합니다.\n",
    "input = {\"topic\": \"인공지능 모델의 학습 원리\"}"
   ]
  },
  {
   "cell_type": "code",
   "execution_count": 10,
   "metadata": {},
   "outputs": [
    {
     "data": {
      "text/plain": [
       "AIMessage(content='인공지능 모델의 학습 원리는 데이터를 이용하여 모델이 패턴이나 규칙을 학습하는 과정을 말합니다. 모델은 입력 데이터를 받아들이고, 이 데이터를 분석하여 출력을 생성합니다. 학습 과정에서 모델은 정해진 손실 함수를 통해 출력과 실제 정답 사이의 차이를 계산하고, 이 차이를 줄이기 위해 가중치와 편향을 조정합니다.\\n\\n이러한 학습 과정은 반복적으로 이루어지며, 모델은 점차 데이터의 패턴을 파악하고 정확한 예측을 할 수 있도록 학습됩니다. 이렇게 학습된 모델은 새로운 데이터에 대해 예측을 수행할 수 있게 됩니다.', response_metadata={'token_usage': {'completion_tokens': 240, 'prompt_tokens': 33, 'total_tokens': 273}, 'model_name': 'gpt-3.5-turbo-0125', 'system_fingerprint': None, 'finish_reason': 'stop', 'logprobs': None}, id='run-1bb3d110-9c39-49ac-919f-37ce9116ce82-0', usage_metadata={'input_tokens': 33, 'output_tokens': 240, 'total_tokens': 273})"
      ]
     },
     "execution_count": 10,
     "metadata": {},
     "output_type": "execute_result"
    }
   ],
   "source": [
    "# prompt 객체와 model 객체를 파이프(|) 연산자로 연결하고 invoke 메서드를 사용하여 input을 전달합니다.\n",
    "# 이를 통해 AI 모델이 생성한 메시지를 반환합니다.\n",
    "chain.invoke(input)"
   ]
  },
  {
   "cell_type": "code",
   "execution_count": 11,
   "metadata": {},
   "outputs": [
    {
     "name": "stdout",
     "output_type": "stream",
     "text": [
      "인공지능 모델의 학습 원리는 데이터를 이용하여 모델이 패턴을 학습하는 과정을 말합니다. 먼저 모델은 초기에는 랜덤한 가중치와 편향을 가지고 있습니다. 그 다음, 모델은 입력 데이터를 받아들이고 출력을 예측합니다. 이 예측값과 실제 정답 사이의 차이를 계산하여 이 오차를 최소화하는 방향으로 가중치와 편향을 업데이트 합니다. 이 과정을 반복하면서 모델은 점차 데이터의 패턴을 학습하고 정확한 예측을 할 수 있도록 개선됩니다. 이러한 학습 원리를 통해 인공지능 모델은 데이터를 기반으로 문제를 해결하고 새로운 데이터에 대한 예측을 수행할 수 있습니다."
     ]
    }
   ],
   "source": [
    "# 스트리밍 출력을 위한 요청\n",
    "answer = chain.stream(input)\n",
    "# 스트리밍 출력\n",
    "stream_response(answer)"
   ]
  },
  {
   "cell_type": "code",
   "execution_count": 12,
   "metadata": {},
   "outputs": [],
   "source": [
    "from langchain_core.output_parsers import StrOutputParser\n",
    "\n",
    "output_parser = StrOutputParser()"
   ]
  },
  {
   "cell_type": "code",
   "execution_count": 13,
   "metadata": {},
   "outputs": [],
   "source": [
    "# 프롬프트, 모델, 출력 파서를 연결하여 처리 체인을 구성합니다.\n",
    "chain = prompt | model | output_parser"
   ]
  },
  {
   "cell_type": "code",
   "execution_count": 14,
   "metadata": {},
   "outputs": [
    {
     "data": {
      "text/plain": [
       "'인공지능 모델의 학습 원리는 데이터를 입력으로 받아 내부적으로 학습을 진행하는 과정을 말합니다. 이 과정은 크게 입력층, 은닉층, 출력층으로 구성된 인공신경망을 통해 이루어집니다. \\n\\n먼저, 모델은 입력층으로부터 데이터를 받아들입니다. 이 데이터는 숫자나 이미지 등 다양한 형태일 수 있습니다. 다음으로, 입력된 데이터는 은닉층을 거쳐 가중치와 편향을 조절하면서 계산이 이루어집니다. 이때, 모델은 입력된 데이터와 실제 결과간의 오차를 최소화하기 위해 학습을 진행합니다. \\n\\n마지막으로, 학습된 모델은 출력층을 통해 예측 결과를 출력합니다. 이때, 모델이 얼마나 정확하게 예측을 수행했는지를 평가하고, 필요에 따라 다시 학습을 반복하게 됩니다. 이러한 과정을 통해 모델은 점차적으로 데이터의 패턴을 학습하고, 새로운 데이터에 대한 예측을 수행할 수 있게 됩니다.'"
      ]
     },
     "execution_count": 14,
     "metadata": {},
     "output_type": "execute_result"
    }
   ],
   "source": [
    "# chain 객체의 invoke 메서드를 사용하여 input을 전달합니다.\n",
    "input = {\"topic\": \"인공지능 모델의 학습 원리\"}\n",
    "chain.invoke(input)"
   ]
  },
  {
   "cell_type": "code",
   "execution_count": 15,
   "metadata": {},
   "outputs": [
    {
     "name": "stdout",
     "output_type": "stream",
     "text": [
      "인공지능 모델의 학습 원리는 데이터를 이용하여 패턴을 학습하는 과정입니다. 먼저, 모델은 입력 데이터를 받아들이고 이를 처리하여 출력을 내놓습니다. 이때, 모델은 출력이 정확한지를 평가하기 위해 손실 함수를 사용합니다. 손실 함수는 모델의 출력과 실제 정답과의 차이를 계산하여 모델을 조정하는데 사용됩니다.\n",
      "\n",
      "모델은 손실 함수를 최소화하는 방향으로 가중치와 편향을 조정하면서 학습을 진행합니다. 이 과정을 반복하여 모델은 데이터의 패턴을 학습하게 되고, 새로운 데이터에 대해 정확한 예측을 할 수 있게 됩니다. 이러한 과정을 통해 인공지능 모델은 데이터를 기반으로 문제를 해결하는 능력을 향상시킬 수 있습니다."
     ]
    }
   ],
   "source": [
    "# 스트리밍 출력을 위한 요청\n",
    "answer = chain.stream(input)\n",
    "# 스트리밍 출력\n",
    "stream_response(answer)"
   ]
  },
  {
   "cell_type": "code",
   "execution_count": 16,
   "metadata": {},
   "outputs": [],
   "source": [
    "template = \"\"\"\n",
    "당신은 영어를 가르치는 10년차 영어 선생님입니다. 주어진 상황에 맞는 영어 회화를 작성해 주세요.\n",
    "양식은 [FORMAT]을 참고하여 작성해 주세요.\n",
    "\n",
    "#상황:\n",
    "{question}\n",
    "\n",
    "#FORMAT:\n",
    "- 영어 회화:\n",
    "- 한글 해석:\n",
    "\"\"\"\n",
    "\n",
    "# 프롬프트 템플릿을 이용하여 프롬프트를 생성합니다.\n",
    "prompt = PromptTemplate.from_template(template)\n",
    "\n",
    "# ChatOpenAI 챗모델을 초기화합니다.\n",
    "model = ChatOpenAI(model_name=\"gpt-4-turbo\")\n",
    "\n",
    "# 문자열 출력 파서를 초기화합니다.\n",
    "output_parser = StrOutputParser()"
   ]
  },
  {
   "cell_type": "code",
   "execution_count": 17,
   "metadata": {},
   "outputs": [],
   "source": [
    "# 체인을 구성합니다.\n",
    "chain = prompt | model | output_parser"
   ]
  },
  {
   "cell_type": "code",
   "execution_count": 18,
   "metadata": {},
   "outputs": [
    {
     "name": "stdout",
     "output_type": "stream",
     "text": [
      "- 영어 회화:\n",
      "  A: Hello! Could I see the menu, please?\n",
      "  B: Of course, here you go.\n",
      "  A: Thank you. I’d like to order the grilled salmon and a side of mashed potatoes.\n",
      "  B: Would you like anything to drink?\n",
      "  A: Yes, I'll have a glass of white wine, please.\n",
      "  B: Great choice! I'll get your order right in.\n",
      "\n",
      "- 한글 해석:\n",
      "  A: 안녕하세요! 메뉴판 좀 볼 수 있을까요?\n",
      "  B: 물론이죠, 여기 있습니다.\n",
      "  A: 감사합니다. 그릴 연어와 마시드 포테이토를 주문하겠습니다.\n",
      "  B: 음료는 필요하신가요?\n",
      "  A: 네, 화이트 와인 한 잔 주세요.\n",
      "  B: 좋은 선택이네요! 주문 바로 받을게요.\n"
     ]
    }
   ],
   "source": [
    "# 완성된 Chain을 실행하여 답변을 얻습니다.\n",
    "print(chain.invoke({\"question\": \"저는 식당에 가서 음식을 주문하고 싶어요\"}))"
   ]
  },
  {
   "cell_type": "code",
   "execution_count": 19,
   "metadata": {},
   "outputs": [
    {
     "name": "stdout",
     "output_type": "stream",
     "text": [
      "- 영어 회화:\n",
      "  A: Hello, I'd like to have a table for one, please.\n",
      "  B: Of course! Right this way. Here's the menu. What would you like to order?\n",
      "  A: Could I have the grilled salmon with vegetables, please?\n",
      "  B: Sure, would you like anything to drink?\n",
      "  A: Yes, I'll have a glass of white wine.\n",
      "  B: Perfect. I'll have your order right up. Enjoy your meal!\n",
      "\n",
      "- 한글 해석:\n",
      "  A: 안녕하세요, 혼자 식사할 테이블 부탁드립니다.\n",
      "  B: 물론이죠! 이쪽으로 오세요. 여기 메뉴입니다. 무엇을 주문하시겠어요?\n",
      "  A: 구운 연어와 야채를 주문할게요.\n",
      "  B: 네, 음료는 드시겠어요?\n",
      "  A: 네, 화이트 와인 한 잔 주세요.\n",
      "  B: 좋습니다. 곧 주문을 준비해 드리겠습니다. 식사 맛있게 하세요!"
     ]
    }
   ],
   "source": [
    "# 완성된 Chain을 실행하여 답변을 얻습니다.\n",
    "# 스트리밍 출력을 위한 요청\n",
    "answer = chain.stream({\"question\": \"저는 식당에 가서 음식을 주문하고 싶어요\"})\n",
    "# 스트리밍 출력\n",
    "stream_response(answer)"
   ]
  },
  {
   "cell_type": "code",
   "execution_count": 20,
   "metadata": {},
   "outputs": [
    {
     "name": "stdout",
     "output_type": "stream",
     "text": [
      "#상황:\n",
      "미국에서 피자 주문\n",
      "\n",
      "#FORMAT:\n",
      "- 영어 회화:\n",
      "  - Caller: Hi, I’d like to place an order for delivery.\n",
      "  - Pizzeria: Sure, can I have your address, please?\n",
      "  - Caller: Yes, it’s 452 Park Avenue, Apartment 21B.\n",
      "  - Pizzeria: Great, what can I get for you today?\n",
      "  - Caller: I’d like one large pepperoni pizza and a medium vegetarian pizza.\n",
      "  - Pizzeria: Would you like to add any sides or drinks to your order?\n",
      "  - Caller: Yes, let’s add an order of garlic bread and two cans of Coke.\n",
      "  - Pizzeria: Alright, that’s one large pepperoni pizza, a medium vegetarian pizza, garlic bread, and two cans of Coke. Will that be all?\n",
      "  - Caller: Yes, that’s it. How long will the delivery take?\n",
      "  - Pizzeria: It should take about 30 to 45 minutes. The total is $32.50. How would you like to pay?\n",
      "  - Caller: I’ll pay with a credit card.\n",
      "  - Pizzeria: Can you please provide your card details?\n",
      "  - Caller: Sure, it's a Visa, card number 1234 5678 9101 1121, expiration date 12/25, and the security code is 321.\n",
      "  - Pizzeria: Thank you, your order has been placed. You should receive a confirmation text shortly.\n",
      "  - Caller: Thank you! Have a great day!\n",
      "\n",
      "- 한글 해석:\n",
      "  - 전화 건 사람: 안녕하세요, 배달 주문 하고 싶어요.\n",
      "  - 피자 가게: 네, 주소 알려주시겠어요?\n",
      "  - 전화 건 사람: 네, 452 파크 애비뉴, 아파트 21B입니다.\n",
      "  - 피자 가게: 좋습니다, 오늘 뭐 드릴까요?\n",
      "  - 전화 건 사람: 라지 사이즈 페퍼로니 피자 하나랑 미디엄 사이즈 베지테리언 피자 주세요.\n",
      "  - 피자 가게: 사이드 메뉴나 음료 추가하시겠어요?\n",
      "  - 전화 건 사람: 네, 갈릭 브레드 하나랑 콜라 두 캔 추가해주세요.\n",
      "  - 피자 가게: 알겠습니다. 라지 사이즈 페퍼로니 피자, 미디엄 사이즈 베지테리언 피자, 갈릭 브레드, 콜라 두 캔이요. 이게 다 맞나요?\n",
      "  - 전화 건 사람: 네, 맞아요. 배달은 얼마나 걸리나요?\n",
      "  - 피자 가게: 대략 30분에서 45분 정도 걸릴 거예요. 총 금액은 $32.50입니다. 어떻게 결제하시겠어요?\n",
      "  - 전화 건 사람: 신용카드로 결제할게요.\n",
      "  - 피자 가게: 카드 정보 좀 알려주시겠어요?\n",
      "  - 전화 건 사람: 네, 비자 카드이고, 카드 번호는 1234 5678 9101 1121, 만료일은 12/25이고, 보안 코드는 321입니다.\n",
      "  - 피자 가게: 감사합니다, 주문이 완료되었습니다. 곧 확인 문자를 받으실 거예요.\n",
      "  - 전화 건 사람: 감사합니다! 좋은 하루 되세요!"
     ]
    }
   ],
   "source": [
    "# 이번에는 question 을 '미국에서 피자 주문'으로 설정하여 실행합니다.\n",
    "# 스트리밍 출력을 위한 요청\n",
    "answer = chain.stream({\"question\": \"미국에서 피자 주문\"})\n",
    "# 스트리밍 출력\n",
    "stream_response(answer)"
   ]
  },
  {
   "cell_type": "code",
   "execution_count": null,
   "metadata": {},
   "outputs": [],
   "source": []
  }
 ],
 "metadata": {
  "kernelspec": {
   "display_name": "rag",
   "language": "python",
   "name": "python3"
  },
  "language_info": {
   "codemirror_mode": {
    "name": "ipython",
    "version": 3
   },
   "file_extension": ".py",
   "mimetype": "text/x-python",
   "name": "python",
   "nbconvert_exporter": "python",
   "pygments_lexer": "ipython3",
   "version": "3.10.14"
  }
 },
 "nbformat": 4,
 "nbformat_minor": 2
}
