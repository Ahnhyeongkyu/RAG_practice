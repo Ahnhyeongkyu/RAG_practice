{
 "cells": [
  {
   "cell_type": "code",
   "execution_count": 1,
   "metadata": {},
   "outputs": [
    {
     "data": {
      "text/plain": [
       "True"
      ]
     },
     "execution_count": 1,
     "metadata": {},
     "output_type": "execute_result"
    }
   ],
   "source": [
    "# API 키를 환경변수로 관리하기 위한 설정 파일\n",
    "from dotenv import load_dotenv\n",
    "\n",
    "# API 키 정보 로드\n",
    "load_dotenv()"
   ]
  },
  {
   "cell_type": "markdown",
   "metadata": {},
   "source": [
    "### ConversationChain"
   ]
  },
  {
   "cell_type": "code",
   "execution_count": 2,
   "metadata": {},
   "outputs": [],
   "source": [
    "from langchain.chains import ConversationChain\n",
    "from langchain_openai import ChatOpenAI\n",
    "from langchain.memory import ConversationBufferMemory"
   ]
  },
  {
   "cell_type": "code",
   "execution_count": 3,
   "metadata": {},
   "outputs": [
    {
     "name": "stderr",
     "output_type": "stream",
     "text": [
      "c:\\Users\\UserK\\miniforge3\\envs\\rag\\lib\\site-packages\\langchain_core\\_api\\deprecation.py:139: LangChainDeprecationWarning: The class `ConversationChain` was deprecated in LangChain 0.2.7 and will be removed in 1.0. Use RunnableWithMessageHistory: https://api.python.langchain.com/en/latest/runnables/langchain_core.runnables.history.RunnableWithMessageHistory.html instead.\n",
      "  warn_deprecated(\n"
     ]
    }
   ],
   "source": [
    "# ChatOpenAI 객체를 생성합니다.\n",
    "llm = ChatOpenAI(model=\"gpt-4-turbo-preview\")\n",
    "\n",
    "# ConversationChain 인스턴스를 생성합니다.\n",
    "# llm: 모델을 지정합니다.\n",
    "# verbose: 상세한 로깅을 비활성화합니다.\n",
    "# memory: 대화 내용을 저장하는 메모리 버퍼를 지정합니다.\n",
    "conversation = ConversationChain(\n",
    "    llm=llm,\n",
    "    verbose=False,\n",
    "    memory=ConversationBufferMemory(memory_key=\"history\"),\n",
    ")"
   ]
  },
  {
   "cell_type": "code",
   "execution_count": 4,
   "metadata": {},
   "outputs": [
    {
     "data": {
      "text/plain": [
       "{'input': '양자역학에 대해 설명해줘.',\n",
       " 'history': '',\n",
       " 'response': '양자역학은 물리학의 한 분야로, 원자와 원자보다 작은 입자들의 행동을 연구합니다. 전통적인 뉴턴 역학이 매크로 수준의 객체들의 운동을 설명하는 데 반해, 양자역학은 매우 작은 입자들의 운동과 상호작용을 다룹니다. 이 이론은 20세기 초에 발전하기 시작했으며, 막스 플랑크, 알베르트 아인슈타인, 닐스 보어, 베르너 하이젠베르크, 에르빈 슈뢰딩거 등 여러 과학자들의 기여로 이루어졌습니다.\\n\\n양자역학의 가장 특이한 점 중 하나는 파동-입자 이중성입니다. 이는 빛과 물질이 특정 상황에서는 파동처럼, 다른 상황에서는 입자처럼 행동할 수 있다는 개념입니다. 또한, 양자역학에서는 양자 중첩이라는 개념을 통해 하나의 입자가 동시에 여러 상태에 있을 수 있음을 설명합니다.\\n\\n또 다른 중요한 특징은 불확정성 원리입니다. 베르너 하이젠베르크가 제시한 이 원리에 따르면, 입자의 정확한 위치와 운동량을 동시에 알 수 없습니다. 이는 관측이 대상의 상태에 영향을 미친다는 의미로, 양자역학의 예측은 확률적입니다.\\n\\n양자얽힘도 양자역학의 핵심 개념 중 하나입니다. 두 입자가 얽혀 있으면, 하나의 입자의 상태를 측정하면 즉시 다른 입자의 상태도 알 수 있게 되는데, 이는 두 입자가 얼마나 멀리 떨어져 있든 관계없이 적용됩니다. 이 현상은 아인슈타인이 \"유령 같은 원격 작용\"이라고 부른 바 있습니다.\\n\\n양자역학은 현대 과학과 기술에 광범위하게 적용되고 있습니다. 예를 들어, 반도체 기술, 레이저, 양자 컴퓨팅 등이 양자역학의 원리를 기반으로 합니다. 양자역학의 이론은 여전히 발전 중이며, 그 경계를 넓혀가고 있는 매우 흥미로운 분야입니다.'}"
      ]
     },
     "execution_count": 4,
     "metadata": {},
     "output_type": "execute_result"
    }
   ],
   "source": [
    "conversation.invoke({\"input\": \"양자역학에 대해 설명해줘.\"})"
   ]
  },
  {
   "cell_type": "code",
   "execution_count": 5,
   "metadata": {},
   "outputs": [
    {
     "data": {
      "text/plain": [
       "'Human: 양자역학에 대해 설명해줘.\\nAI: 양자역학은 물리학의 한 분야로, 원자와 원자보다 작은 입자들의 행동을 연구합니다. 전통적인 뉴턴 역학이 매크로 수준의 객체들의 운동을 설명하는 데 반해, 양자역학은 매우 작은 입자들의 운동과 상호작용을 다룹니다. 이 이론은 20세기 초에 발전하기 시작했으며, 막스 플랑크, 알베르트 아인슈타인, 닐스 보어, 베르너 하이젠베르크, 에르빈 슈뢰딩거 등 여러 과학자들의 기여로 이루어졌습니다.\\n\\n양자역학의 가장 특이한 점 중 하나는 파동-입자 이중성입니다. 이는 빛과 물질이 특정 상황에서는 파동처럼, 다른 상황에서는 입자처럼 행동할 수 있다는 개념입니다. 또한, 양자역학에서는 양자 중첩이라는 개념을 통해 하나의 입자가 동시에 여러 상태에 있을 수 있음을 설명합니다.\\n\\n또 다른 중요한 특징은 불확정성 원리입니다. 베르너 하이젠베르크가 제시한 이 원리에 따르면, 입자의 정확한 위치와 운동량을 동시에 알 수 없습니다. 이는 관측이 대상의 상태에 영향을 미친다는 의미로, 양자역학의 예측은 확률적입니다.\\n\\n양자얽힘도 양자역학의 핵심 개념 중 하나입니다. 두 입자가 얽혀 있으면, 하나의 입자의 상태를 측정하면 즉시 다른 입자의 상태도 알 수 있게 되는데, 이는 두 입자가 얼마나 멀리 떨어져 있든 관계없이 적용됩니다. 이 현상은 아인슈타인이 \"유령 같은 원격 작용\"이라고 부른 바 있습니다.\\n\\n양자역학은 현대 과학과 기술에 광범위하게 적용되고 있습니다. 예를 들어, 반도체 기술, 레이저, 양자 컴퓨팅 등이 양자역학의 원리를 기반으로 합니다. 양자역학의 이론은 여전히 발전 중이며, 그 경계를 넓혀가고 있는 매우 흥미로운 분야입니다.'"
      ]
     },
     "execution_count": 5,
     "metadata": {},
     "output_type": "execute_result"
    }
   ],
   "source": [
    "conversation.memory.load_memory_variables({})[\"history\"]"
   ]
  },
  {
   "cell_type": "code",
   "execution_count": 6,
   "metadata": {},
   "outputs": [],
   "source": [
    "conversation.memory.save_context(inputs={\"human\": \"hi\"}, outputs={\"ai\": \"안녕\"})"
   ]
  },
  {
   "cell_type": "code",
   "execution_count": 7,
   "metadata": {},
   "outputs": [
    {
     "data": {
      "text/plain": [
       "'Human: 양자역학에 대해 설명해줘.\\nAI: 양자역학은 물리학의 한 분야로, 원자와 원자보다 작은 입자들의 행동을 연구합니다. 전통적인 뉴턴 역학이 매크로 수준의 객체들의 운동을 설명하는 데 반해, 양자역학은 매우 작은 입자들의 운동과 상호작용을 다룹니다. 이 이론은 20세기 초에 발전하기 시작했으며, 막스 플랑크, 알베르트 아인슈타인, 닐스 보어, 베르너 하이젠베르크, 에르빈 슈뢰딩거 등 여러 과학자들의 기여로 이루어졌습니다.\\n\\n양자역학의 가장 특이한 점 중 하나는 파동-입자 이중성입니다. 이는 빛과 물질이 특정 상황에서는 파동처럼, 다른 상황에서는 입자처럼 행동할 수 있다는 개념입니다. 또한, 양자역학에서는 양자 중첩이라는 개념을 통해 하나의 입자가 동시에 여러 상태에 있을 수 있음을 설명합니다.\\n\\n또 다른 중요한 특징은 불확정성 원리입니다. 베르너 하이젠베르크가 제시한 이 원리에 따르면, 입자의 정확한 위치와 운동량을 동시에 알 수 없습니다. 이는 관측이 대상의 상태에 영향을 미친다는 의미로, 양자역학의 예측은 확률적입니다.\\n\\n양자얽힘도 양자역학의 핵심 개념 중 하나입니다. 두 입자가 얽혀 있으면, 하나의 입자의 상태를 측정하면 즉시 다른 입자의 상태도 알 수 있게 되는데, 이는 두 입자가 얼마나 멀리 떨어져 있든 관계없이 적용됩니다. 이 현상은 아인슈타인이 \"유령 같은 원격 작용\"이라고 부른 바 있습니다.\\n\\n양자역학은 현대 과학과 기술에 광범위하게 적용되고 있습니다. 예를 들어, 반도체 기술, 레이저, 양자 컴퓨팅 등이 양자역학의 원리를 기반으로 합니다. 양자역학의 이론은 여전히 발전 중이며, 그 경계를 넓혀가고 있는 매우 흥미로운 분야입니다.\\nHuman: hi\\nAI: 안녕'"
      ]
     },
     "execution_count": 7,
     "metadata": {},
     "output_type": "execute_result"
    }
   ],
   "source": [
    "conversation.memory.load_memory_variables({})[\"history\"]"
   ]
  },
  {
   "cell_type": "code",
   "execution_count": 8,
   "metadata": {},
   "outputs": [
    {
     "name": "stdout",
     "output_type": "stream",
     "text": [
      "{'input': '불렛포인트 형식으로 작성해줘. emoji 추가해줘.', 'history': 'Human: 양자역학에 대해 설명해줘.\\nAI: 양자역학은 물리학의 한 분야로, 원자와 원자보다 작은 입자들의 행동을 연구합니다. 전통적인 뉴턴 역학이 매크로 수준의 객체들의 운동을 설명하는 데 반해, 양자역학은 매우 작은 입자들의 운동과 상호작용을 다룹니다. 이 이론은 20세기 초에 발전하기 시작했으며, 막스 플랑크, 알베르트 아인슈타인, 닐스 보어, 베르너 하이젠베르크, 에르빈 슈뢰딩거 등 여러 과학자들의 기여로 이루어졌습니다.\\n\\n양자역학의 가장 특이한 점 중 하나는 파동-입자 이중성입니다. 이는 빛과 물질이 특정 상황에서는 파동처럼, 다른 상황에서는 입자처럼 행동할 수 있다는 개념입니다. 또한, 양자역학에서는 양자 중첩이라는 개념을 통해 하나의 입자가 동시에 여러 상태에 있을 수 있음을 설명합니다.\\n\\n또 다른 중요한 특징은 불확정성 원리입니다. 베르너 하이젠베르크가 제시한 이 원리에 따르면, 입자의 정확한 위치와 운동량을 동시에 알 수 없습니다. 이는 관측이 대상의 상태에 영향을 미친다는 의미로, 양자역학의 예측은 확률적입니다.\\n\\n양자얽힘도 양자역학의 핵심 개념 중 하나입니다. 두 입자가 얽혀 있으면, 하나의 입자의 상태를 측정하면 즉시 다른 입자의 상태도 알 수 있게 되는데, 이는 두 입자가 얼마나 멀리 떨어져 있든 관계없이 적용됩니다. 이 현상은 아인슈타인이 \"유령 같은 원격 작용\"이라고 부른 바 있습니다.\\n\\n양자역학은 현대 과학과 기술에 광범위하게 적용되고 있습니다. 예를 들어, 반도체 기술, 레이저, 양자 컴퓨팅 등이 양자역학의 원리를 기반으로 합니다. 양자역학의 이론은 여전히 발전 중이며, 그 경계를 넓혀가고 있는 매우 흥미로운 분야입니다.\\nHuman: hi\\nAI: 안녕', 'response': '양자역학의 핵심 포인트들입니다: 😊\\n\\n- **파동-입자 이중성**🌊🔵: 빛과 물질은 파동처럼 혹은 입자처럼 행동할 수 있음.\\n- **양자 중첩**🔀: 하나의 입자가 동시에 여러 상태에 있을 수 있음.\\n- **불확정성 원리**❓: 입자의 위치와 운동량을 동시에 정확히 알 수 없음.\\n- **양자얽힘**🔗: 하나의 입자 상태를 측정하면 즉시 다른 입자의 상태도 알 수 있음, 거리에 관계없이.\\n- **응용 분야**💡: 반도체 기술, 레이저, 양자 컴퓨팅 등 다양한 분야에서 활용됨.\\n\\n양자역학은 현대 과학의 매우 중요한 분야로, 계속해서 새로운 발견과 기술의 발전을 이끌고 있습니다! 🚀'}\n"
     ]
    }
   ],
   "source": [
    "print(conversation.invoke({\"input\": \"불렛포인트 형식으로 작성해줘. emoji 추가해줘.\"}))"
   ]
  },
  {
   "cell_type": "markdown",
   "metadata": {},
   "source": [
    "### streaming: 실시간 출력"
   ]
  },
  {
   "cell_type": "code",
   "execution_count": 9,
   "metadata": {},
   "outputs": [],
   "source": [
    "from langchain.callbacks.base import BaseCallbackHandler\n",
    "from langchain_openai import ChatOpenAI\n",
    "\n",
    "\n",
    "class MyCustomHandler(BaseCallbackHandler):\n",
    "    def on_llm_new_token(self, token: str, **kwargs) -> None:\n",
    "        print(f\"{token}\", end=\"\", flush=True)\n",
    "\n",
    "\n",
    "# 스트리밍을 활성화하기 위해, ChatModel 생성자에 `streaming=True`를 전달합니다.\n",
    "# 추가적으로, 사용자 정의 핸들러 리스트를 전달합니다.\n",
    "stream_llm = ChatOpenAI(\n",
    "    model=\"gpt-4-turbo-preview\", streaming=True, callbacks=[MyCustomHandler()]\n",
    ")\n",
    "\n",
    "conversation = ConversationChain(\n",
    "    llm=stream_llm,\n",
    "    verbose=False,\n",
    "    memory=ConversationBufferMemory(),\n",
    ")"
   ]
  },
  {
   "cell_type": "code",
   "execution_count": 10,
   "metadata": {},
   "outputs": [
    {
     "name": "stdout",
     "output_type": "stream",
     "text": [
      "양자역학은 물리학의 한 분야로, 원자와 소립자의 세계에서 일어나는 현상을 설명하는 이론입니다. 전통적인 뉴턴 역학이 매크로한 세계의 물체들의 움직임을 잘 설명해 주지만, 아주 작은 입자들의 세계에서는 적용되지 않는 경우가 많습니다. 이 때문에, 20세기 초에 양자역학이라는 새로운 물리학의 이론이 개발되었습니다.\n",
      "\n",
      "양자역학의 핵심 개념 중 하나는 '불확정성 원리'입니다. 하이젠베르크에 의해 제안된 이 원리는 한 입자의 위치와 운동량을 동시에 정확하게 측정할 수 없다고 말합니다. 즉, 한 입자의 위치를 더 정확하게 알게 되면 그 입자의 운동량에 대한 정보는 더 불확실해지고, 반대도 마찬가지입니다. 이는 양자세계의 본질적인 불확실성을 나타냅니다.\n",
      "\n",
      "또 다른 중요한 개념은 '양자 중첩'입니다. 이는 한 입자가 여러 상태의 '중첩'으로 존재할 수 있다는 것을 의미합니다. 예를 들어, 전자는 동시에 여러 위치에 있을 수 있으며, 이는 관측되기 전까지는 확정되지 않습니다. 관측이 이루어지면, 전자는 가능한 위치 중 하나로 '붕괴'합니다. 이러한 현상은 슈뢰딩거의 고양이 실험으로 유명해졀습니다.\n",
      "\n",
      "양자역학은 또한 '얽힘'이라는 현상을 설명합니다. 얽힘된 입자들은 서로 물리적으로 떨어져 있어도 그들의 상태가 서로에게 즉시 영향을 미칩니다. 이는 아인슈타인이 '유령 같은 원거리 작용'이라고 불렀던 현상으로, 양자역학의 놀라운 예측 중 하나입니다.\n",
      "\n",
      "양자역학의 개념과 원리는 초전도체, 양자컴퓨터, 레이저, MRI 등 현대 기술의 많은 발전에 근간을 이루고 있습니다. 이처럼 양자역학은 우리가 살고 있는 세계를 이해하는 데 있어 근본적인 중요성을 가지며, 여전히 활발히 연구되고 있는 분야입니다."
     ]
    }
   ],
   "source": [
    "output = conversation.predict(input=\"양자역학에 대해 설명해줘\")"
   ]
  },
  {
   "cell_type": "code",
   "execution_count": 11,
   "metadata": {},
   "outputs": [
    {
     "name": "stdout",
     "output_type": "stream",
     "text": [
      "- 양자역학: 원자와 소립자의 세계를 설명하는 물리학 분야 🌌\n",
      "- 불확정성 원리: 하이젠베르크 제안, 입자의 위치와 운동량을 동시에 정확히 알 수 없음 🔍\n",
      "- 양자 중첩: 입자가 여러 상태에 동시에 존재할 수 있음, 관측 시 하나의 상태로 붕괴 📉\n",
      "- 슈뢰딩거의 고양이: 양자 중첩의 대표적 실험 🐱\n",
      "- 얽힘: 입자들이 물리적으로 떨어져 있어도 상태가 서로에게 즉시 영향을 미침 🧬\n",
      "- 양자역학의 응용: 초전도체, 양자컴퓨터, 레이저, MRI 등에 근간 🖥️💡\n",
      "- 중요성: 현대 기술 발전과 세계 이해에 근본적인 역할 🌍"
     ]
    }
   ],
   "source": [
    "output = conversation.predict(\n",
    "    input=\"이전의 내용을 불렛포인트로 요약해줘. emoji 추가해줘.\"\n",
    ")"
   ]
  },
  {
   "cell_type": "markdown",
   "metadata": {},
   "source": [
    "### Prompt 튜닝"
   ]
  },
  {
   "cell_type": "code",
   "execution_count": 12,
   "metadata": {},
   "outputs": [],
   "source": [
    "from langchain.prompts import PromptTemplate\n",
    "\n",
    "template = \"\"\"\n",
    "당신은 10년차 엑셀 전문가 입니다. 아래 대화내용을 보고 질문에 대한 적절한 답변을 해주세요\n",
    "\n",
    "#대화내용\n",
    "{chat_history}\n",
    "----\n",
    "사용자: {question}\n",
    "엑셀전문가:\"\"\"\n",
    "\n",
    "prompt = PromptTemplate.from_template(template)"
   ]
  },
  {
   "cell_type": "code",
   "execution_count": 13,
   "metadata": {},
   "outputs": [
    {
     "data": {
      "text/plain": [
       "PromptTemplate(input_variables=['question'], partial_variables={'chat_history': '엑셀에서 데이터를 필터링하는 방법에 대해 알려주세요.'}, template='\\n당신은 10년차 엑셀 전문가 입니다. 아래 대화내용을 보고 질문에 대한 적절한 답변을 해주세요\\n\\n#대화내용\\n{chat_history}\\n----\\n사용자: {question}\\n엑셀전문가:')"
      ]
     },
     "execution_count": 13,
     "metadata": {},
     "output_type": "execute_result"
    }
   ],
   "source": [
    "prompt.partial(chat_history=\"엑셀에서 데이터를 필터링하는 방법에 대해 알려주세요.\")"
   ]
  },
  {
   "cell_type": "code",
   "execution_count": 14,
   "metadata": {},
   "outputs": [],
   "source": [
    "conversation = ConversationChain(\n",
    "    llm=stream_llm,\n",
    "    prompt=prompt,\n",
    "    memory=ConversationBufferMemory(memory_key=\"chat_history\"),\n",
    "    input_key=\"question\",\n",
    ")"
   ]
  },
  {
   "cell_type": "code",
   "execution_count": 15,
   "metadata": {},
   "outputs": [
    {
     "name": "stdout",
     "output_type": "stream",
     "text": [
      "VLOOKUP 함수는 엑셀에서 수직으로 데이터를 검색하는 데 사용됩니다. 특정 키 값을 기준으로 하나의 열에서 값을 찾고, 그에 해당하는 행에서 다른 열의 값을 반환합니다. 예를 들어, 사원 목록에서 사원 번호를 통해 사원의 이름을 찾는 경우에 사용할 수 있습니다. 함수의 구조는 `VLOOKUP(찾을 값, 범위, 열 번호, 근사/정확 일치)`로 이루어져 있으며, 이를 통해 원하는 데이터를 쉽게 찾을 수 있습니다."
     ]
    }
   ],
   "source": [
    "answer = conversation.predict(\n",
    "    question=\"엑셀에서 VLOOKUP 함수는 무엇인가요? 간단하게 설명해주세요\"\n",
    ")"
   ]
  },
  {
   "cell_type": "code",
   "execution_count": 16,
   "metadata": {},
   "outputs": [
    {
     "name": "stdout",
     "output_type": "stream",
     "text": [
      "물론입니다. 예를 들어, 우리가 다음과 같은 사원 목록이 있는 엑셀 시트를 가지고 있다고 가정해 봅시다:\n",
      "\n",
      "| A      | B          |\n",
      "|--------|------------|\n",
      "| 사원번호 | 사원이름     |\n",
      "| 001    | 김철수      |\n",
      "| 002    | 박영희      |\n",
      "| 003    | 이민준      |\n",
      "\n",
      "여기서 사원 번호 '002'를 가진 사원의 이름을 찾고 싶다면, 다음과 같은 VLOOKUP 함수를 사용할 수 있습니다:\n",
      "\n",
      "```\n",
      "=VLOOKUP(\"002\", A:B, 2, FALSE)\n",
      "```\n",
      "\n",
      "이 함수의 구성요소는 다음과 같습니다:\n",
      "- `\"002\"`는 찾고자 하는 값입니다, 즉 사원 번호입니다.\n",
      "- `A:B`는 검색 범위입니다. 여기서는 A열(사원번호)과 B열(사원이름) 전체가 검색 범위에 포함됩니다.\n",
      "- `2`는 반환하고 싶은 값이 있는 열의 번호입니다. A열이 1번, B열이 2번이므로 사원 이름을 얻기 위해 '2'를 사용합니다.\n",
      "- `FALSE`는 정확한 일치를 찾기를 원함을 의미합니다. 즉, '002'와 정홀히 일치하는 사원 번호를 가진 행에서만 이름을 가져옵니다.\n",
      "\n",
      "이 함수를 실행하면, \"박영희\"라는 결과를 얻게 됩니다. 이는 사원 번호 '002'에 해당하는 사원의 이름이기 때문입니다."
     ]
    }
   ],
   "source": [
    "answer = conversation.predict(question=\"예제를 보여주세요\")"
   ]
  },
  {
   "cell_type": "markdown",
   "metadata": {},
   "source": [
    "### Human Prefix & AI Prefix 변경"
   ]
  },
  {
   "cell_type": "code",
   "execution_count": 17,
   "metadata": {},
   "outputs": [],
   "source": [
    "template = \"\"\"\n",
    "당신은 10년차 엑셀 전문가 입니다. 아래 대화내용을 보고 질문에 대한 적절한 답변을 해주세요\n",
    "\n",
    "#대화내용\n",
    "{context}\n",
    "----\n",
    "🌱고객: {question}\n",
    "🤖전문가:\"\"\"\n",
    "\n",
    "prompt = PromptTemplate.from_template(template)"
   ]
  },
  {
   "cell_type": "code",
   "execution_count": 18,
   "metadata": {},
   "outputs": [],
   "source": [
    "memory = ConversationBufferMemory(\n",
    "    memory_key=\"context\",  # 대화의 맥락을 저장하는 키\n",
    "    human_prefix=\"🌱고객\",  # 사람이 말하는 부분에 붙는 접두사\n",
    "    ai_prefix=\"🤖전문가\",  # AI가 말하는 부분에 붙는 접두사\n",
    ")"
   ]
  },
  {
   "cell_type": "code",
   "execution_count": 19,
   "metadata": {},
   "outputs": [],
   "source": [
    "conversation = ConversationChain(\n",
    "    llm=stream_llm,\n",
    "    prompt=prompt,\n",
    "    memory=memory,\n",
    "    input_key=\"question\",\n",
    "    verbose=False,\n",
    ")"
   ]
  },
  {
   "cell_type": "code",
   "execution_count": 20,
   "metadata": {},
   "outputs": [
    {
     "name": "stdout",
     "output_type": "stream",
     "text": [
      "VLOOKUP 함수는 엑셀에서 수직으로 데이터를 검색하는 데 사용되는 함수입니다. 특정 키 값에 해당하는 데이터를 테이블의 다른 열에서 찾아 반환하는 기능을 합니다. 예를 들어, 사원의 ID를 사용해 그 사원의 이름이나 급여 정보를 찾아낼 때 유용합니다. 사용 방법은 `=VLOOKUP(검색값, 테이블_배열, 열_인덱스_번호, [범위_찾기])`와 같이, 검색하려는 값을 첫 번째 파라미터로, 검색 범위가 되는 테이블을 두 번째 파라미터로, 반환하고자 하는 값이 있는 열의 인덱스 번호를 세 번째 파라미터로 지정합니다. 마지막으로, 범위 찾기는 정확한 일치를 원하면 FALSE, 근사치 검색을 원하면 TRUE를 사용합니다."
     ]
    }
   ],
   "source": [
    "answer = conversation.predict(\n",
    "    question=\"엑셀에서 VLOOKUP 함수는 무엇인가요? 간단하게 설명해주세요\"\n",
    ")"
   ]
  },
  {
   "cell_type": "code",
   "execution_count": 21,
   "metadata": {},
   "outputs": [
    {
     "name": "stdout",
     "output_type": "stream",
     "text": [
      "물론입니다. 예를 들어, 우리가 다음과 같은 간단한 데이터 테이블을 가지고 있다고 가정해 보겠습니다.\n",
      "\n",
      "```\n",
      "A       B        C\n",
      "1  사원ID   이름     급여\n",
      "2  001    홍길동   3000\n",
      "3  002    이순신   4000\n",
      "4  003    강감찬   5000\n",
      "```\n",
      "\n",
      "여기에서 사원ID '002'의 급여를 찾고 싶다면, VLOOKUP 함수를 다음과 같이 사용할 수 있습니다.\n",
      "\n",
      "```\n",
      "=VLOOKUP(\"002\", A1:C4, 3, FALSE)\n",
      "```\n",
      "\n",
      "이 함수는 \"002\"라는 검색값을 A열에서 찾습니다. 그리고 일치하는 행에서 세 번째 열(C열)의 값을 반환합니다. 따라서 이 예제의 결과는 '4000'이 됩니다. 여기서 `FALSE`는 정확한 값을 찾으라는 의미로, \"002\"와 정확히 일치하는 사원ID를 찾으라는 지시입니다.\n",
      "\n",
      "이러한 방식으로 VLOOKUP 함수를 사용하여 테이블에서 필요한 정보를 수직으로 검색하고 찾아낼 수 있습니다."
     ]
    }
   ],
   "source": [
    "\n",
    "answer = conversation.predict(question=\"쉬운 예제를 보여줄 수 있나요?\")"
   ]
  },
  {
   "cell_type": "code",
   "execution_count": 22,
   "metadata": {},
   "outputs": [
    {
     "name": "stdout",
     "output_type": "stream",
     "text": [
      "🌱고객: 엑셀에서 VLOOKUP 함수는 무엇인가요? 간단하게 설명해주세요\n",
      "🤖전문가: VLOOKUP 함수는 엑셀에서 수직으로 데이터를 검색하는 데 사용되는 함수입니다. 특정 키 값에 해당하는 데이터를 테이블의 다른 열에서 찾아 반환하는 기능을 합니다. 예를 들어, 사원의 ID를 사용해 그 사원의 이름이나 급여 정보를 찾아낼 때 유용합니다. 사용 방법은 `=VLOOKUP(검색값, 테이블_배열, 열_인덱스_번호, [범위_찾기])`와 같이, 검색하려는 값을 첫 번째 파라미터로, 검색 범위가 되는 테이블을 두 번째 파라미터로, 반환하고자 하는 값이 있는 열의 인덱스 번호를 세 번째 파라미터로 지정합니다. 마지막으로, 범위 찾기는 정확한 일치를 원하면 FALSE, 근사치 검색을 원하면 TRUE를 사용합니다.\n",
      "🌱고객: 쉬운 예제를 보여줄 수 있나요?\n",
      "🤖전문가: 물론입니다. 예를 들어, 우리가 다음과 같은 간단한 데이터 테이블을 가지고 있다고 가정해 보겠습니다.\n",
      "\n",
      "```\n",
      "A       B        C\n",
      "1  사원ID   이름     급여\n",
      "2  001    홍길동   3000\n",
      "3  002    이순신   4000\n",
      "4  003    강감찬   5000\n",
      "```\n",
      "\n",
      "여기에서 사원ID '002'의 급여를 찾고 싶다면, VLOOKUP 함수를 다음과 같이 사용할 수 있습니다.\n",
      "\n",
      "```\n",
      "=VLOOKUP(\"002\", A1:C4, 3, FALSE)\n",
      "```\n",
      "\n",
      "이 함수는 \"002\"라는 검색값을 A열에서 찾습니다. 그리고 일치하는 행에서 세 번째 열(C열)의 값을 반환합니다. 따라서 이 예제의 결과는 '4000'이 됩니다. 여기서 `FALSE`는 정확한 값을 찾으라는 의미로, \"002\"와 정확히 일치하는 사원ID를 찾으라는 지시입니다.\n",
      "\n",
      "이러한 방식으로 VLOOKUP 함수를 사용하여 테이블에서 필요한 정보를 수직으로 검색하고 찾아낼 수 있습니다.\n"
     ]
    }
   ],
   "source": [
    "print(\n",
    "    memory.load_memory_variables({})[\"context\"]\n",
    ")  # 빈 딕셔너리를 인자로 받아 메모리 변수를 로드하고, 'context' 키에 해당하는 값을 출력합니다."
   ]
  },
  {
   "cell_type": "code",
   "execution_count": null,
   "metadata": {},
   "outputs": [],
   "source": []
  }
 ],
 "metadata": {
  "kernelspec": {
   "display_name": "Python 3",
   "language": "python",
   "name": "python3"
  },
  "language_info": {
   "codemirror_mode": {
    "name": "ipython",
    "version": 3
   },
   "file_extension": ".py",
   "mimetype": "text/x-python",
   "name": "python",
   "nbconvert_exporter": "python",
   "pygments_lexer": "ipython3",
   "version": "3.10.14"
  }
 },
 "nbformat": 4,
 "nbformat_minor": 2
}
