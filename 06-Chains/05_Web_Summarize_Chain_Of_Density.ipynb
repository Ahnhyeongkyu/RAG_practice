{
 "cells": [
  {
   "cell_type": "code",
   "execution_count": 1,
   "metadata": {},
   "outputs": [
    {
     "data": {
      "text/plain": [
       "True"
      ]
     },
     "execution_count": 1,
     "metadata": {},
     "output_type": "execute_result"
    }
   ],
   "source": [
    "# API 키를 환경변수로 관리하기 위한 설정 파일\n",
    "from dotenv import load_dotenv\n",
    "\n",
    "# API 키 정보 로드\n",
    "load_dotenv()"
   ]
  },
  {
   "cell_type": "code",
   "execution_count": 7,
   "metadata": {},
   "outputs": [
    {
     "name": "stdout",
     "output_type": "stream",
     "text": [
      "Missing Entities: \n",
      "이 기사는 데이터사이언스, 머신러닝, 인공지능의 개념과 차이점을 설명합니다; 박정현 서울대 EPM 연구원이 작성; 데이터사이언스가 가장 넓은 범위를 가지며, 충분한 데이터 없이는 기술이 제대로 작동하기 어렵다고 언급; 인공지능은 '튜링테스트'를 통해 정의할 수 있으며, 약한 인공지능과 강한 인공지능으로 분류됨; 머신러닝은 지도학습과 비지도 학습으로 구분되며, 실생활에 활발하게 적용되고 있음\n",
      "\n",
      "Denser_Summary:\n",
      "이 기사에서는 데이터사이언스, 머신러닝, 인공지능의 개념과 차이점에 대해 설명하고 있습니다. 박정현 서울대 EPM 연구원이 작성한 이 글은 데이터사이언스가 가장 넓은 범위를 가지며, 충분한 데이터 없이는 이 기술들이 제대로 작동하기 어렵다고 언급합니다. 인공지능에 대해서는 '튜링테스트'를 통해 정의할 수 있으며, 약한 인공지능과 강한 인공지능으로 분류됩니다. 머신러닝은 지도학습과 비지도 학습으로 구분되며, 이는 실생활에 활발하게 적용되고 있음을 보여줍니다. 이 글은 이러한 기술들이 어떻게 서로 관련되어 있는지, 그리고 이 분야에서 일하려면 어떻게 준비해야 하는지에 대한 궁금증을 해결해주고자 합니다.Unexpected error: Invalid json output: Missing Entities: \n",
      "이 기사는 데이터사이언스, 머신러닝, 인공지능의 개념과 차이점을 설명합니다; 박정현 서울대 EPM 연구원이 작성; 데이터사이언스가 가장 넓은 범위를 가지며, 충분한 데이터 없이는 기술이 제대로 작동하기 어렵다고 언급; 인공지능은 '튜링테스트'를 통해 정의할 수 있으며, 약한 인공지능과 강한 인공지능으로 분류됨; 머신러닝은 지도학습과 비지도 학습으로 구분되며, 실생활에 활발하게 적용되고 있음\n",
      "\n",
      "Denser_Summary:\n",
      "이 기사에서는 데이터사이언스, 머신러닝, 인공지능의 개념과 차이점에 대해 설명하고 있습니다. 박정현 서울대 EPM 연구원이 작성한 이 글은 데이터사이언스가 가장 넓은 범위를 가지며, 충분한 데이터 없이는 이 기술들이 제대로 작동하기 어렵다고 언급합니다. 인공지능에 대해서는 '튜링테스트'를 통해 정의할 수 있으며, 약한 인공지능과 강한 인공지능으로 분류됩니다. 머신러닝은 지도학습과 비지도 학습으로 구분되며, 이는 실생활에 활발하게 적용되고 있음을 보여줍니다. 이 글은 이러한 기술들이 어떻게 서로 관련되어 있는지, 그리고 이 분야에서 일하려면 어떻게 준비해야 하는지에 대한 궁금증을 해결해주고자 합니다.\n"
     ]
    }
   ],
   "source": [
    "from langchain import hub\n",
    "from langchain_openai import ChatOpenAI\n",
    "from langchain_core.output_parsers import JsonOutputParser\n",
    "from langchain.document_loaders import WebBaseLoader\n",
    "from langchain.callbacks.base import BaseCallbackHandler\n",
    "import json\n",
    "\n",
    "\n",
    "# Load some data to summarize\n",
    "loader = WebBaseLoader(\"https://www.aitimes.com/news/articleView.html?idxno=131777\")\n",
    "docs = loader.load()\n",
    "content = docs[0].page_content\n",
    "\n",
    "\n",
    "class StreamCallback(BaseCallbackHandler):\n",
    "    def on_llm_new_token(self, token, **kwargs):\n",
    "        print(token, end=\"\", flush=True)\n",
    "\n",
    "\n",
    "prompt = hub.pull(\"teddynote/chain-of-density-korean\")\n",
    "\n",
    "# Create the chain, including\n",
    "chain = (\n",
    "    prompt\n",
    "    | ChatOpenAI(\n",
    "        temperature=0,\n",
    "        model=\"gpt-4-turbo-preview\",\n",
    "        streaming=True,\n",
    "        callbacks=[StreamCallback()],\n",
    "    )\n",
    "    | JsonOutputParser()\n",
    "    | (lambda x: x[-1][\"Denser_Summary\"])\n",
    ")\n",
    "\n",
    "# Invoke the chain\n",
    "try:\n",
    "    result = chain.invoke({\"question\": content})\n",
    "    print(result)\n",
    "except json.JSONDecodeError as e:\n",
    "    print(f\"JSONDecodeError: {e}\")\n",
    "except KeyError as e:\n",
    "    print(f\"KeyError: {e}\")\n",
    "except Exception as e:\n",
    "    print(f\"Unexpected error: {e}\")\n",
    "\n",
    "# Invoke the chain\n",
    "# result = chain.invoke({\"question\": content})\n",
    "# print(result)"
   ]
  },
  {
   "cell_type": "code",
   "execution_count": null,
   "metadata": {},
   "outputs": [],
   "source": []
  }
 ],
 "metadata": {
  "kernelspec": {
   "display_name": "Python 3",
   "language": "python",
   "name": "python3"
  },
  "language_info": {
   "codemirror_mode": {
    "name": "ipython",
    "version": 3
   },
   "file_extension": ".py",
   "mimetype": "text/x-python",
   "name": "python",
   "nbconvert_exporter": "python",
   "pygments_lexer": "ipython3",
   "version": "3.10.14"
  }
 },
 "nbformat": 4,
 "nbformat_minor": 2
}
