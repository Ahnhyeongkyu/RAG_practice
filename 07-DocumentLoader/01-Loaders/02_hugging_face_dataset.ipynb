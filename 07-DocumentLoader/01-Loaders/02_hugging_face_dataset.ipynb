{
 "cells": [
  {
   "cell_type": "markdown",
   "metadata": {},
   "source": [
    "## HuggingFace 데이터셋"
   ]
  },
  {
   "cell_type": "markdown",
   "metadata": {},
   "source": [
    "- HuggingFaceDatasetLoader를 사용하여 Hugging Face 데이터셋을 로드합니다.\n",
    "- 로드된 데이터셋은 LangChain에서 사용할 수 있는 문서 형식으로 변환됩니다.\n",
    "- 이를 통해 Hugging Face 데이터셋을 LangChain의 다양한 기능과 함께 활용할 수 있습니다."
   ]
  },
  {
   "cell_type": "code",
   "execution_count": 1,
   "metadata": {},
   "outputs": [],
   "source": [
    "from langchain_community.document_loaders import HuggingFaceDatasetLoader"
   ]
  },
  {
   "cell_type": "code",
   "execution_count": 2,
   "metadata": {},
   "outputs": [],
   "source": [
    "dataset_name = \"imdb\"  # 데이터셋 이름을 \"imdb\"로 설정합니다.\n",
    "page_content_column = \"text\"  # 페이지 내용이 포함된 열의 이름을 \"text\"로 설정합니다.\n",
    "\n",
    "# HuggingFaceDatasetLoader를 사용하여 데이터셋을 로드합니다.\n",
    "# 데이터셋 이름과 페이지 내용 열 이름을 전달합니다.\n",
    "loader = HuggingFaceDatasetLoader(dataset_name, page_content_column)"
   ]
  },
  {
   "cell_type": "code",
   "execution_count": 4,
   "metadata": {},
   "outputs": [
    {
     "name": "stdout",
     "output_type": "stream",
     "text": [
      "Collecting datasets\n",
      "  Downloading datasets-2.20.0-py3-none-any.whl.metadata (19 kB)\n",
      "Requirement already satisfied: filelock in c:\\users\\anhye\\anaconda3\\envs\\rag\\lib\\site-packages (from datasets) (3.15.4)\n",
      "Requirement already satisfied: numpy>=1.17 in c:\\users\\anhye\\anaconda3\\envs\\rag\\lib\\site-packages (from datasets) (1.26.4)\n",
      "Collecting pyarrow>=15.0.0 (from datasets)\n",
      "  Downloading pyarrow-17.0.0-cp310-cp310-win_amd64.whl.metadata (3.4 kB)\n",
      "Collecting pyarrow-hotfix (from datasets)\n",
      "  Downloading pyarrow_hotfix-0.6-py3-none-any.whl.metadata (3.6 kB)\n",
      "Collecting dill<0.3.9,>=0.3.0 (from datasets)\n",
      "  Downloading dill-0.3.8-py3-none-any.whl.metadata (10 kB)\n",
      "Requirement already satisfied: pandas in c:\\users\\anhye\\anaconda3\\envs\\rag\\lib\\site-packages (from datasets) (2.2.2)\n",
      "Requirement already satisfied: requests>=2.32.2 in c:\\users\\anhye\\anaconda3\\envs\\rag\\lib\\site-packages (from datasets) (2.32.3)\n",
      "Requirement already satisfied: tqdm>=4.66.3 in c:\\users\\anhye\\anaconda3\\envs\\rag\\lib\\site-packages (from datasets) (4.66.4)\n",
      "Collecting xxhash (from datasets)\n",
      "  Downloading xxhash-3.4.1-cp310-cp310-win_amd64.whl.metadata (12 kB)\n",
      "Collecting multiprocess (from datasets)\n",
      "  Downloading multiprocess-0.70.16-py310-none-any.whl.metadata (7.2 kB)\n",
      "Collecting fsspec<=2024.5.0,>=2023.1.0 (from fsspec[http]<=2024.5.0,>=2023.1.0->datasets)\n",
      "  Downloading fsspec-2024.5.0-py3-none-any.whl.metadata (11 kB)\n",
      "Requirement already satisfied: aiohttp in c:\\users\\anhye\\anaconda3\\envs\\rag\\lib\\site-packages (from datasets) (3.9.5)\n",
      "Requirement already satisfied: huggingface-hub>=0.21.2 in c:\\users\\anhye\\anaconda3\\envs\\rag\\lib\\site-packages (from datasets) (0.24.0)\n",
      "Requirement already satisfied: packaging in c:\\users\\anhye\\anaconda3\\envs\\rag\\lib\\site-packages (from datasets) (24.1)\n",
      "Requirement already satisfied: pyyaml>=5.1 in c:\\users\\anhye\\anaconda3\\envs\\rag\\lib\\site-packages (from datasets) (6.0.1)\n",
      "Requirement already satisfied: aiosignal>=1.1.2 in c:\\users\\anhye\\anaconda3\\envs\\rag\\lib\\site-packages (from aiohttp->datasets) (1.3.1)\n",
      "Requirement already satisfied: attrs>=17.3.0 in c:\\users\\anhye\\anaconda3\\envs\\rag\\lib\\site-packages (from aiohttp->datasets) (23.2.0)\n",
      "Requirement already satisfied: frozenlist>=1.1.1 in c:\\users\\anhye\\anaconda3\\envs\\rag\\lib\\site-packages (from aiohttp->datasets) (1.4.1)\n",
      "Requirement already satisfied: multidict<7.0,>=4.5 in c:\\users\\anhye\\anaconda3\\envs\\rag\\lib\\site-packages (from aiohttp->datasets) (6.0.5)\n",
      "Requirement already satisfied: yarl<2.0,>=1.0 in c:\\users\\anhye\\anaconda3\\envs\\rag\\lib\\site-packages (from aiohttp->datasets) (1.9.4)\n",
      "Requirement already satisfied: async-timeout<5.0,>=4.0 in c:\\users\\anhye\\anaconda3\\envs\\rag\\lib\\site-packages (from aiohttp->datasets) (4.0.3)\n",
      "Requirement already satisfied: typing-extensions>=3.7.4.3 in c:\\users\\anhye\\anaconda3\\envs\\rag\\lib\\site-packages (from huggingface-hub>=0.21.2->datasets) (4.12.2)\n",
      "Requirement already satisfied: charset-normalizer<4,>=2 in c:\\users\\anhye\\anaconda3\\envs\\rag\\lib\\site-packages (from requests>=2.32.2->datasets) (3.3.2)\n",
      "Requirement already satisfied: idna<4,>=2.5 in c:\\users\\anhye\\anaconda3\\envs\\rag\\lib\\site-packages (from requests>=2.32.2->datasets) (3.7)\n",
      "Requirement already satisfied: urllib3<3,>=1.21.1 in c:\\users\\anhye\\anaconda3\\envs\\rag\\lib\\site-packages (from requests>=2.32.2->datasets) (2.2.2)\n",
      "Requirement already satisfied: certifi>=2017.4.17 in c:\\users\\anhye\\anaconda3\\envs\\rag\\lib\\site-packages (from requests>=2.32.2->datasets) (2024.7.4)\n",
      "Requirement already satisfied: colorama in c:\\users\\anhye\\anaconda3\\envs\\rag\\lib\\site-packages (from tqdm>=4.66.3->datasets) (0.4.6)\n",
      "Requirement already satisfied: python-dateutil>=2.8.2 in c:\\users\\anhye\\anaconda3\\envs\\rag\\lib\\site-packages (from pandas->datasets) (2.9.0)\n",
      "Requirement already satisfied: pytz>=2020.1 in c:\\users\\anhye\\anaconda3\\envs\\rag\\lib\\site-packages (from pandas->datasets) (2024.1)\n",
      "Requirement already satisfied: tzdata>=2022.7 in c:\\users\\anhye\\anaconda3\\envs\\rag\\lib\\site-packages (from pandas->datasets) (2024.1)\n",
      "Requirement already satisfied: six>=1.5 in c:\\users\\anhye\\anaconda3\\envs\\rag\\lib\\site-packages (from python-dateutil>=2.8.2->pandas->datasets) (1.16.0)\n",
      "Downloading datasets-2.20.0-py3-none-any.whl (547 kB)\n",
      "   ---------------------------------------- 0.0/547.8 kB ? eta -:--:--\n",
      "   -------------------------------- ------- 450.6/547.8 kB 9.4 MB/s eta 0:00:01\n",
      "   ---------------------------------------- 547.8/547.8 kB 8.5 MB/s eta 0:00:00\n",
      "Downloading dill-0.3.8-py3-none-any.whl (116 kB)\n",
      "   ---------------------------------------- 0.0/116.3 kB ? eta -:--:--\n",
      "   ---------------------------------------- 116.3/116.3 kB 6.6 MB/s eta 0:00:00\n",
      "Downloading fsspec-2024.5.0-py3-none-any.whl (316 kB)\n",
      "   ---------------------------------------- 0.0/316.1 kB ? eta -:--:--\n",
      "   ------------------------------------- - 307.2/316.1 kB 18.6 MB/s eta 0:00:01\n",
      "   ---------------------------------------- 316.1/316.1 kB 9.6 MB/s eta 0:00:00\n",
      "Downloading pyarrow-17.0.0-cp310-cp310-win_amd64.whl (25.1 MB)\n",
      "   ---------------------------------------- 0.0/25.1 MB ? eta -:--:--\n",
      "    --------------------------------------- 0.5/25.1 MB 14.4 MB/s eta 0:00:02\n",
      "   - -------------------------------------- 0.9/25.1 MB 11.6 MB/s eta 0:00:03\n",
      "   -- ------------------------------------- 1.4/25.1 MB 10.9 MB/s eta 0:00:03\n",
      "   -- ------------------------------------- 1.8/25.1 MB 10.5 MB/s eta 0:00:03\n",
      "   --- ------------------------------------ 2.3/25.1 MB 10.3 MB/s eta 0:00:03\n",
      "   ---- ----------------------------------- 2.7/25.1 MB 10.2 MB/s eta 0:00:03\n",
      "   ----- ---------------------------------- 3.1/25.1 MB 10.0 MB/s eta 0:00:03\n",
      "   ----- ---------------------------------- 3.6/25.1 MB 10.0 MB/s eta 0:00:03\n",
      "   ------ --------------------------------- 4.0/25.1 MB 9.9 MB/s eta 0:00:03\n",
      "   ------- -------------------------------- 4.5/25.1 MB 10.2 MB/s eta 0:00:03\n",
      "   ------- -------------------------------- 5.0/25.1 MB 10.2 MB/s eta 0:00:02\n",
      "   -------- ------------------------------- 5.4/25.1 MB 10.1 MB/s eta 0:00:02\n",
      "   --------- ------------------------------ 5.9/25.1 MB 10.1 MB/s eta 0:00:02\n",
      "   ---------- ----------------------------- 6.3/25.1 MB 10.1 MB/s eta 0:00:02\n",
      "   ---------- ----------------------------- 6.7/25.1 MB 10.0 MB/s eta 0:00:02\n",
      "   ----------- ---------------------------- 7.2/25.1 MB 10.0 MB/s eta 0:00:02\n",
      "   ------------ --------------------------- 7.6/25.1 MB 10.0 MB/s eta 0:00:02\n",
      "   ------------ --------------------------- 8.1/25.1 MB 9.9 MB/s eta 0:00:02\n",
      "   ------------- -------------------------- 8.6/25.1 MB 10.1 MB/s eta 0:00:02\n",
      "   -------------- ------------------------- 9.0/25.1 MB 10.1 MB/s eta 0:00:02\n",
      "   --------------- ------------------------ 9.5/25.1 MB 10.1 MB/s eta 0:00:02\n",
      "   --------------- ------------------------ 9.9/25.1 MB 10.1 MB/s eta 0:00:02\n",
      "   ---------------- ----------------------- 10.3/25.1 MB 9.9 MB/s eta 0:00:02\n",
      "   ----------------- ---------------------- 10.8/25.1 MB 9.9 MB/s eta 0:00:02\n",
      "   ----------------- ---------------------- 11.2/25.1 MB 9.9 MB/s eta 0:00:02\n",
      "   ------------------ --------------------- 11.7/25.1 MB 9.9 MB/s eta 0:00:02\n",
      "   ------------------- -------------------- 12.1/25.1 MB 9.9 MB/s eta 0:00:02\n",
      "   -------------------- ------------------- 12.6/25.1 MB 10.1 MB/s eta 0:00:02\n",
      "   -------------------- ------------------- 13.0/25.1 MB 9.9 MB/s eta 0:00:02\n",
      "   --------------------- ------------------ 13.5/25.1 MB 10.1 MB/s eta 0:00:02\n",
      "   ---------------------- ----------------- 13.9/25.1 MB 9.9 MB/s eta 0:00:02\n",
      "   ---------------------- ----------------- 14.4/25.1 MB 9.9 MB/s eta 0:00:02\n",
      "   ----------------------- ---------------- 14.8/25.1 MB 9.9 MB/s eta 0:00:02\n",
      "   ------------------------ --------------- 15.3/25.1 MB 9.9 MB/s eta 0:00:01\n",
      "   ------------------------- -------------- 15.7/25.1 MB 9.9 MB/s eta 0:00:01\n",
      "   ------------------------- -------------- 16.2/25.1 MB 9.9 MB/s eta 0:00:01\n",
      "   -------------------------- ------------- 16.6/25.1 MB 9.9 MB/s eta 0:00:01\n",
      "   --------------------------- ------------ 17.1/25.1 MB 10.1 MB/s eta 0:00:01\n",
      "   --------------------------- ------------ 17.5/25.1 MB 10.1 MB/s eta 0:00:01\n",
      "   ---------------------------- ----------- 18.0/25.1 MB 9.9 MB/s eta 0:00:01\n",
      "   ----------------------------- ---------- 18.4/25.1 MB 9.9 MB/s eta 0:00:01\n",
      "   ------------------------------ --------- 18.9/25.1 MB 9.9 MB/s eta 0:00:01\n",
      "   ------------------------------ --------- 19.3/25.1 MB 9.9 MB/s eta 0:00:01\n",
      "   ------------------------------- -------- 19.8/25.1 MB 9.9 MB/s eta 0:00:01\n",
      "   -------------------------------- ------- 20.2/25.1 MB 9.9 MB/s eta 0:00:01\n",
      "   -------------------------------- ------- 20.7/25.1 MB 9.9 MB/s eta 0:00:01\n",
      "   --------------------------------- ------ 21.1/25.1 MB 10.1 MB/s eta 0:00:01\n",
      "   ---------------------------------- ----- 21.6/25.1 MB 9.9 MB/s eta 0:00:01\n",
      "   ----------------------------------- ---- 22.0/25.1 MB 9.9 MB/s eta 0:00:01\n",
      "   ----------------------------------- ---- 22.5/25.1 MB 9.9 MB/s eta 0:00:01\n",
      "   ------------------------------------ --- 22.9/25.1 MB 9.9 MB/s eta 0:00:01\n",
      "   ------------------------------------- -- 23.4/25.1 MB 9.9 MB/s eta 0:00:01\n",
      "   ------------------------------------- -- 23.8/25.1 MB 9.9 MB/s eta 0:00:01\n",
      "   -------------------------------------- - 24.2/25.1 MB 9.9 MB/s eta 0:00:01\n",
      "   ---------------------------------------  24.7/25.1 MB 9.9 MB/s eta 0:00:01\n",
      "   ---------------------------------------  25.1/25.1 MB 9.9 MB/s eta 0:00:01\n",
      "   ---------------------------------------- 25.1/25.1 MB 9.8 MB/s eta 0:00:00\n",
      "Downloading multiprocess-0.70.16-py310-none-any.whl (134 kB)\n",
      "   ---------------------------------------- 0.0/134.8 kB ? eta -:--:--\n",
      "   ---------------------------------------- 134.8/134.8 kB 8.3 MB/s eta 0:00:00\n",
      "Downloading pyarrow_hotfix-0.6-py3-none-any.whl (7.9 kB)\n",
      "Downloading xxhash-3.4.1-cp310-cp310-win_amd64.whl (29 kB)\n",
      "Installing collected packages: xxhash, pyarrow-hotfix, pyarrow, fsspec, dill, multiprocess, datasets\n",
      "  Attempting uninstall: fsspec\n",
      "    Found existing installation: fsspec 2024.6.1\n",
      "    Uninstalling fsspec-2024.6.1:\n",
      "      Successfully uninstalled fsspec-2024.6.1\n",
      "Successfully installed datasets-2.20.0 dill-0.3.8 fsspec-2024.5.0 multiprocess-0.70.16 pyarrow-17.0.0 pyarrow-hotfix-0.6 xxhash-3.4.1\n"
     ]
    }
   ],
   "source": [
    "# !pip install datasets"
   ]
  },
  {
   "cell_type": "code",
   "execution_count": 5,
   "metadata": {},
   "outputs": [
    {
     "name": "stderr",
     "output_type": "stream",
     "text": [
      "c:\\Users\\anHye\\anaconda3\\envs\\rag\\lib\\site-packages\\tqdm\\auto.py:21: TqdmWarning: IProgress not found. Please update jupyter and ipywidgets. See https://ipywidgets.readthedocs.io/en/stable/user_install.html\n",
      "  from .autonotebook import tqdm as notebook_tqdm\n",
      "c:\\Users\\anHye\\anaconda3\\envs\\rag\\lib\\site-packages\\datasets\\load.py:2554: FutureWarning: 'use_auth_token' was deprecated in favor of 'token' in version 2.14.0 and will be removed in 3.0.0.\n",
      "You can remove this warning by passing 'token=<use_auth_token>' instead.\n",
      "  warnings.warn(\n",
      "Downloading readme: 100%|██████████| 7.81k/7.81k [00:00<00:00, 7.81MB/s]\n",
      "Downloading data: 100%|██████████| 21.0M/21.0M [00:02<00:00, 8.21MB/s]\n",
      "Downloading data: 100%|██████████| 20.5M/20.5M [00:02<00:00, 8.35MB/s]\n",
      "Downloading data: 100%|██████████| 42.0M/42.0M [00:04<00:00, 8.77MB/s]\n",
      "Generating train split: 100%|██████████| 25000/25000 [00:00<00:00, 375576.58 examples/s]\n",
      "Generating test split: 100%|██████████| 25000/25000 [00:00<00:00, 438197.52 examples/s]\n",
      "Generating unsupervised split: 100%|██████████| 50000/50000 [00:00<00:00, 452048.40 examples/s]\n"
     ]
    }
   ],
   "source": [
    "data = loader.load()  # 로더를 사용하여 데이터를 불러옵니다."
   ]
  },
  {
   "cell_type": "code",
   "execution_count": 6,
   "metadata": {},
   "outputs": [
    {
     "data": {
      "text/plain": [
       "[Document(metadata={'label': 0}, page_content='\"I rented I AM CURIOUS-YELLOW from my video store because of all the controversy that surrounded it when it was first released in 1967. I also heard that at first it was seized by U.S. customs if it ever tried to enter this country, therefore being a fan of films considered \\\\\"controversial\\\\\" I really had to see this for myself.<br /><br />The plot is centered around a young Swedish drama student named Lena who wants to learn everything she can about life. In particular she wants to focus her attentions to making some sort of documentary on what the average Swede thought about certain political issues such as the Vietnam War and race issues in the United States. In between asking politicians and ordinary denizens of Stockholm about their opinions on politics, she has sex with her drama teacher, classmates, and married men.<br /><br />What kills me about I AM CURIOUS-YELLOW is that 40 years ago, this was considered pornographic. Really, the sex and nudity scenes are few and far between, even then it\\'s not shot like some cheaply made porno. While my countrymen mind find it shocking, in reality sex and nudity are a major staple in Swedish cinema. Even Ingmar Bergman, arguably their answer to good old boy John Ford, had sex scenes in his films.<br /><br />I do commend the filmmakers for the fact that any sex shown in the film is shown for artistic purposes rather than just to shock people and make money to be shown in pornographic theaters in America. I AM CURIOUS-YELLOW is a good film for anyone wanting to study the meat and potatoes (no pun intended) of Swedish cinema. But really, this film doesn\\'t have much of a plot.\"'),\n",
       " Document(metadata={'label': 0}, page_content='\"\\\\\"I Am Curious: Yellow\\\\\" is a risible and pretentious steaming pile. It doesn\\'t matter what one\\'s political views are because this film can hardly be taken seriously on any level. As for the claim that frontal male nudity is an automatic NC-17, that isn\\'t true. I\\'ve seen R-rated films with male nudity. Granted, they only offer some fleeting views, but where are the R-rated films with gaping vulvas and flapping labia? Nowhere, because they don\\'t exist. The same goes for those crappy cable shows: schlongs swinging in the breeze but not a clitoris in sight. And those pretentious indie movies like The Brown Bunny, in which we\\'re treated to the site of Vincent Gallo\\'s throbbing johnson, but not a trace of pink visible on Chloe Sevigny. Before crying (or implying) \\\\\"double-standard\\\\\" in matters of nudity, the mentally obtuse should take into account one unavoidably obvious anatomical difference between men and women: there are no genitals on display when actresses appears nude, and the same cannot be said for a man. In fact, you generally won\\'t see female genitals in an American film in anything short of porn or explicit erotica. This alleged double-standard is less a double standard than an admittedly depressing ability to come to terms culturally with the insides of women\\'s bodies.\"'),\n",
       " Document(metadata={'label': 0}, page_content='\"If only to avoid making this type of film in the future. This film is interesting as an experiment but tells no cogent story.<br /><br />One might feel virtuous for sitting thru it because it touches on so many IMPORTANT issues but it does so without any discernable motive. The viewer comes away with no new perspectives (unless one comes up with one while one\\'s mind wanders, as it will invariably do during this pointless film).<br /><br />One might better spend one\\'s time staring out a window at a tree growing.<br /><br />\"')]"
      ]
     },
     "execution_count": 6,
     "metadata": {},
     "output_type": "execute_result"
    }
   ],
   "source": [
    "# 데이터의 처음 3개 요소를 선택합니다.\n",
    "data[:3]"
   ]
  },
  {
   "cell_type": "code",
   "execution_count": 7,
   "metadata": {},
   "outputs": [],
   "source": [
    "from langchain.indexes import VectorstoreIndexCreator\n",
    "from langchain_community.document_loaders.hugging_face_dataset import (\n",
    "    HuggingFaceDatasetLoader,\n",
    ")"
   ]
  },
  {
   "cell_type": "code",
   "execution_count": 8,
   "metadata": {},
   "outputs": [],
   "source": [
    "dataset_name = \"tweet_eval\"  # 데이터셋 이름을 \"tweet_eval\"로 설정합니다.\n",
    "page_content_column = \"text\"  # 페이지 내용이 포함된 열의 이름을 \"text\"로 설정합니다.\n",
    "name = \"stance_climate\"  # 데이터셋의 특정 부분을 식별하는 이름을 \"stance_climate\"로 설정합니다.\n",
    "\n",
    "# HuggingFaceDatasetLoader를 사용하여 데이터셋을 로드합니다.\n",
    "loader = HuggingFaceDatasetLoader(dataset_name, page_content_column, name)"
   ]
  },
  {
   "cell_type": "markdown",
   "metadata": {},
   "source": [
    "VectorstoreIndexCreator 클래스를 사용하여 로더(loader)에서 벡터 저장소 인덱스를 생성합니다.\n",
    "\n",
    "- VectorstoreIndexCreator 클래스의 인스턴스를 생성합니다.\n",
    "- from_loaders 메서드를 호출하여 로더 리스트를 전달합니다.\n",
    "- 로더에서 추출된 데이터를 기반으로 벡터 저장소 인덱스가 생성됩니다.\n",
    "- 생성된 인덱스는 index 변수에 할당됩니다."
   ]
  },
  {
   "cell_type": "code",
   "execution_count": 12,
   "metadata": {},
   "outputs": [
    {
     "data": {
      "text/plain": [
       "True"
      ]
     },
     "execution_count": 12,
     "metadata": {},
     "output_type": "execute_result"
    }
   ],
   "source": [
    "# API 키를 환경변수로 관리하기 위한 설정 파일\n",
    "from dotenv import load_dotenv\n",
    "\n",
    "# API 키 정보 로드\n",
    "load_dotenv()"
   ]
  },
  {
   "cell_type": "code",
   "execution_count": 22,
   "metadata": {},
   "outputs": [],
   "source": [
    "from langchain_openai import OpenAIEmbeddings, OpenAI, ChatOpenAI"
   ]
  },
  {
   "cell_type": "code",
   "execution_count": 14,
   "metadata": {},
   "outputs": [],
   "source": [
    "embeddings = OpenAIEmbeddings()"
   ]
  },
  {
   "cell_type": "code",
   "execution_count": 15,
   "metadata": {},
   "outputs": [
    {
     "name": "stderr",
     "output_type": "stream",
     "text": [
      "c:\\Users\\anHye\\anaconda3\\envs\\rag\\lib\\site-packages\\datasets\\load.py:2554: FutureWarning: 'use_auth_token' was deprecated in favor of 'token' in version 2.14.0 and will be removed in 3.0.0.\n",
      "You can remove this warning by passing 'token=<use_auth_token>' instead.\n",
      "  warnings.warn(\n",
      "Downloading readme: 100%|██████████| 23.9k/23.9k [00:00<?, ?B/s]\n",
      "Downloading data: 100%|██████████| 28.1k/28.1k [00:00<00:00, 68.4kB/s]\n",
      "Downloading data: 100%|██████████| 14.9k/14.9k [00:00<00:00, 36.8kB/s]\n",
      "Downloading data: 100%|██████████| 5.47k/5.47k [00:00<00:00, 14.1kB/s]\n",
      "Generating train split: 100%|██████████| 355/355 [00:00<00:00, 177322.61 examples/s]\n",
      "Generating test split: 100%|██████████| 169/169 [00:00<00:00, 56261.40 examples/s]\n",
      "Generating validation split: 100%|██████████| 40/40 [00:00<00:00, 19970.50 examples/s]\n"
     ]
    }
   ],
   "source": [
    "# 로더에서 벡터 저장소 인덱스를 생성합니다.\n",
    "index = VectorstoreIndexCreator(embedding=embeddings).from_loaders([loader])"
   ]
  },
  {
   "cell_type": "code",
   "execution_count": 23,
   "metadata": {},
   "outputs": [],
   "source": [
    "llm = ChatOpenAI(model_name=\"gpt-3.5-turbo\", temperature=0)"
   ]
  },
  {
   "cell_type": "code",
   "execution_count": 24,
   "metadata": {},
   "outputs": [],
   "source": [
    "query = \"What are the most used hashtag?\"  # 가장 많이 사용되는 해시태그는 무엇인가요?\n",
    "result = index.query(query, llm=llm)  # 질의를 수행하여 결과를 얻습니다."
   ]
  },
  {
   "cell_type": "code",
   "execution_count": 25,
   "metadata": {},
   "outputs": [
    {
     "data": {
      "text/plain": [
       "'The most used hashtags mentioned in the provided context are #SemST, #LoveWins, and #ThanksObama.'"
      ]
     },
     "execution_count": 25,
     "metadata": {},
     "output_type": "execute_result"
    }
   ],
   "source": [
    "result"
   ]
  },
  {
   "cell_type": "code",
   "execution_count": null,
   "metadata": {},
   "outputs": [],
   "source": []
  }
 ],
 "metadata": {
  "kernelspec": {
   "display_name": "rag",
   "language": "python",
   "name": "python3"
  },
  "language_info": {
   "codemirror_mode": {
    "name": "ipython",
    "version": 3
   },
   "file_extension": ".py",
   "mimetype": "text/x-python",
   "name": "python",
   "nbconvert_exporter": "python",
   "pygments_lexer": "ipython3",
   "version": "3.10.14"
  }
 },
 "nbformat": 4,
 "nbformat_minor": 2
}
