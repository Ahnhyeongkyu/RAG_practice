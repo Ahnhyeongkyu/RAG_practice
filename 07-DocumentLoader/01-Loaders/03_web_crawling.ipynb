{
 "cells": [
  {
   "cell_type": "markdown",
   "metadata": {},
   "source": [
    "## Async Chromium"
   ]
  },
  {
   "cell_type": "markdown",
   "metadata": {},
   "source": [
    "- Playwright와 BeautifulSoup4 라이브러리를 최신 버전으로 업그레이드하고 조용히(quiet) 설치합니다.\n",
    "- Playwright 브라우저 엔진을 설치합니다"
   ]
  },
  {
   "cell_type": "code",
   "execution_count": 1,
   "metadata": {},
   "outputs": [],
   "source": [
    "# !pip install -qU  playwright beautifulsoup4"
   ]
  },
  {
   "cell_type": "code",
   "execution_count": 2,
   "metadata": {},
   "outputs": [],
   "source": [
    "# !pip install -qU nest-asyncio"
   ]
  },
  {
   "cell_type": "code",
   "execution_count": 13,
   "metadata": {},
   "outputs": [],
   "source": [
    "import requests\n",
    "from bs4 import BeautifulSoup\n",
    "from langchain_core.documents import Document\n",
    "\n",
    "class SyncChromiumLoader:\n",
    "    def __init__(self, urls):\n",
    "        self.urls = urls\n",
    "\n",
    "    def load(self):\n",
    "        documents = []\n",
    "        for url in self.urls:\n",
    "            response = requests.get(url)\n",
    "            response.raise_for_status()\n",
    "            html_content = response.text\n",
    "            soup = BeautifulSoup(html_content, 'html.parser')\n",
    "            page_content = soup.get_text()\n",
    "            metadata = {\"source\": url}\n",
    "            documents.append(Document(page_content=page_content, metadata=metadata))\n",
    "        return documents\n",
    "\n",
    "# URLs 설정\n",
    "urls = [\"https://news.naver.com\"]\n",
    "loader = SyncChromiumLoader(urls)\n",
    "\n"
   ]
  },
  {
   "cell_type": "markdown",
   "metadata": {},
   "source": [
    "AsyncChromiumLoader를 사용하여 웹 페이지의 콘텐츠를 비동기적으로 로드합니다.\n",
    "\n",
    "- urls 리스트에 로드할 웹 페이지의 URL을 지정합니다.\n",
    "- AsyncChromiumLoader 객체를 생성하고 urls를 전달합니다.\n",
    "- load() 메서드를 호출하여 웹 페이지의 콘텐츠를 로드하고 Document 객체의 리스트를 반환합니다."
   ]
  },
  {
   "cell_type": "code",
   "execution_count": 14,
   "metadata": {},
   "outputs": [
    {
     "name": "stdout",
     "output_type": "stream",
     "text": [
      "Loaded 1 documents.\n",
      "\n",
      "\n",
      "\n",
      "\n",
      "네이버 뉴스\n",
      "\n",
      "\n",
      "\n",
      "\n",
      "\n",
      "\n",
      "\n",
      "\n",
      "\n",
      "\n",
      "\n",
      "\n",
      "\n",
      "\n",
      "\n",
      "\n",
      "\n",
      "\n",
      "\n",
      "\n",
      "\n",
      "\n",
      "\n",
      "\n",
      "\n",
      "\n",
      "본문 바로가기\n",
      "\n",
      "\n",
      "\n",
      "\n",
      "\n",
      "\n",
      "\n",
      "NAVER\n",
      "\n",
      "뉴스\n",
      "\n",
      "\n",
      "연예\n",
      "\n",
      "\n",
      "\n",
      "\n",
      "스포츠\n",
      "\n",
      "\n",
      "\n",
      "\n",
      "날씨\n",
      "\n",
      "\n",
      "\n",
      "\n",
      "프리미엄\n",
      "\n",
      "\n",
      "\n",
      "\n",
      "\n",
      "\n",
      "\n",
      "\n",
      "\n",
      "\n",
      "검색\n",
      "\n",
      "\n",
      "\n",
      "\n",
      "\n",
      "\n",
      "\n",
      "\n",
      "\n",
      "\n",
      "\n",
      "\n",
      "언론사별\n",
      "정치\n",
      "경제\n",
      "사회\n",
      "생활/문화\n",
      "IT/과학\n",
      "세계\n",
      "랭킹\n",
      "신문보기\n",
      "오피니언\n",
      "TV\n",
      "팩트체크\n",
      "알고리즘 안내\n",
      "정정보도 모음\n",
      "\n",
      "\n",
      "\n",
      "\n",
      "\n",
      "\n",
      "\n",
      "\n",
      "\n",
      "\n",
      "\n",
      "\n",
      "\n",
      "콘텐츠\n",
      "\n",
      "\n",
      "7.29(월)\n",
      "\n",
      "\n",
      "전체 언론사\n",
      "뉴스스탠드\n",
      "라이브러리\n",
      "\n",
      "\n",
      "\n",
      "\n",
      "\n",
      "\n",
      "\n",
      "\n",
      "\n",
      "\n",
      "언론사편집\n",
      "\n",
      "기자\n",
      "                        \n",
      "                    \n",
      "\n",
      "\n",
      "연재\n",
      "                        \n",
      "                    \n",
      "\n",
      "\n",
      "\n",
      "                구독설정\n",
      "                \n",
      "                \n",
      "\n",
      "\n",
      "\n",
      "\n",
      "\n",
      "\n",
      "\n",
      "\n",
      "\n",
      "\n",
      "\n",
      "\n",
      "\n",
      "아이뉴스2407월 29일 22:50\n",
      "\n",
      "\n",
      "\n",
      "구독\n",
      "\n",
      "\n",
      "\n",
      "\n",
      "\n",
      "\n",
      "\n",
      "\n",
      "국정원 \"김정은, 새로운 약제 찾는 중…김주애 유력 후계자 수업 진행\"\n",
      "국가정보위원회는 29일 \"김정은이 기존 약제가 아닌 다른 약제를 찾고 있는 동향이 포착됐다\"며 \"김주애를 유력한 후계자로 암시하며 후계자 수업을 진행 중\"이라고 밝혔다. 국회 정보위원회는 이날 오후 서울 여의도 국회\n",
      "\n",
      "\n",
      "\n",
      "\n",
      "\n",
      "\n",
      "\n",
      "\n",
      "\n",
      "블로터07월 29일 20:43\n",
      "\n",
      "\n",
      "\n",
      "구독\n",
      "\n",
      "\n",
      "\n",
      "\n",
      "\n",
      "\n",
      "\n",
      "\n",
      "[티몬·위메프 사태] 큐텐, 왜 '적자·자본잠식 기업' 줄줄이 샀나 [넘버스]\n",
      "글로벌 이커머스 플랫폼 큐텐이 그동안 인수한 회사에는 공통점이 있다. 한국 이커머스 시장의 경쟁심화로 적자경영을 이어왔고, 출혈 누적으로 재무가 악화된 기업이라는 것이다. 큐텐은 적자투성이인 이커머스 기업들에 어떤 \n",
      "\n",
      "\n",
      "\n",
      "\n",
      "\n",
      "\n",
      "\n",
      "\n",
      "\n",
      "조선비즈07월 29일 22:37\n",
      "\n",
      "\n",
      "\n",
      "구독\n",
      "\n",
      "\n",
      "\n",
      "\n",
      "\n",
      "\n",
      "\n",
      "\n",
      "남자양궁, 日 누르고 단체전 4강 진출\n",
      "한국 남자양궁 대표팀이 일본을 누르고 2024 파리 올림픽 남자 단체전 준결승에 진출했다. 김우진(청주시청), 김제덕(예천군청), 이우석(코오롱)으로 이뤄진 남자 대표팀은 29일 프랑스 파리의 레젱발리드에서 열린 \n"
     ]
    }
   ],
   "source": [
    "# 문서 로드\n",
    "docs = loader.load()\n",
    "\n",
    "# 결과 확인\n",
    "print(f\"Loaded {len(docs)} documents.\")\n",
    "print(docs[0].page_content[:1000])  # 첫 번째 문서의 처음 1000자 출력\n",
    "\n"
   ]
  },
  {
   "cell_type": "code",
   "execution_count": 15,
   "metadata": {},
   "outputs": [],
   "source": [
    "# !pip install -qU html2text"
   ]
  },
  {
   "cell_type": "code",
   "execution_count": 16,
   "metadata": {},
   "outputs": [],
   "source": [
    "from langchain_community.document_transformers import Html2TextTransformer\n",
    "\n",
    "html2text = Html2TextTransformer()  # HTML을 텍스트로 변환하는 객체를 생성합니다.\n",
    "docs_transformed = html2text.transform_documents(\n",
    "    docs\n",
    ")  # HTML 문서를 텍스트로 변환합니다."
   ]
  },
  {
   "cell_type": "code",
   "execution_count": 17,
   "metadata": {},
   "outputs": [
    {
     "name": "stdout",
     "output_type": "stream",
     "text": [
      "여행·숙박 관련 피해 최다 정부가 티몬·위메프의 판매대금 미정 새로보기 비즈워치07월 29일 21:58 구독 '20억 한방' 래미안\n",
      "원펜타스 청약 스타트…단지 가보니 올 하반기 분양시장 최대어 중 하나인 서울 서초구 반포동 '래미안 원펜타스'가 오늘(29일) 특별공급을\n",
      "시작으로 본격적인 분양에 나선다. 한국부동산원 청약홈에 따르면 래미안 원펜타스는 이날 특별공급 접수를 시작으로, 아시아경제07월 29일\n",
      "22:52 구독 양재웅, 병원 입원 환자 사망에 \"유가족에 사죄…수사 협조\" 정신건강의학과 전문의 양재웅(42)이 자신의 병원에서 발생한\n",
      "환자 사망 사건에 대해 사과했다. 양 씨는 29일 소속사 미스틱 스토리를 통해 \"입원 과정 중 발생한 사건과 관련해 본인과 전 의료진들은\n",
      "참담한 심정을 감 SBS Biz07월 29일 21:10 구독 동영상 재생시간01:57 '최소 10억 돈방석'에 청약홈 먹통…결국 접수 연장\n",
      "'로또 청약'으로 불리는 분양가 상한제 아파트 청약이 같은 날 동시 진행되\n"
     ]
    }
   ],
   "source": [
    "# 변환된 문서를 출력합니다.\n",
    "print(docs_transformed[0].page_content[2000:2500])"
   ]
  },
  {
   "cell_type": "markdown",
   "metadata": {},
   "source": [
    "### Beautiful Soup"
   ]
  },
  {
   "cell_type": "code",
   "execution_count": 19,
   "metadata": {},
   "outputs": [],
   "source": [
    "import requests\n",
    "from bs4 import BeautifulSoup\n",
    "from langchain_core.documents import Document\n",
    "\n",
    "class SyncChromiumLoader:\n",
    "    def __init__(self, urls):\n",
    "        self.urls = urls\n",
    "\n",
    "    def load(self):\n",
    "        documents = []\n",
    "        for url in self.urls:\n",
    "            response = requests.get(url)\n",
    "            response.raise_for_status()\n",
    "            html_content = response.text\n",
    "            soup = BeautifulSoup(html_content, 'html.parser')\n",
    "            page_content = soup.get_text()\n",
    "            metadata = {\"source\": url}\n",
    "            documents.append(Document(page_content=page_content, metadata=metadata))\n",
    "        return documents\n",
    "\n",
    "# URLs 설정\n",
    "urls = [\"https://news.naver.com\"]\n",
    "loader = SyncChromiumLoader(urls)"
   ]
  },
  {
   "cell_type": "code",
   "execution_count": 20,
   "metadata": {},
   "outputs": [],
   "source": [
    "from langchain_community.document_transformers import BeautifulSoupTransformer\n",
    "\n",
    "# 변환 작업\n",
    "bs_transformer = BeautifulSoupTransformer()\n",
    "# HTML 문서를 변환합니다. p, li, div, a 태그의 내용을 추출합니다.\n",
    "docs_transformed = bs_transformer.transform_documents(\n",
    "    docs,\n",
    "    # tags_to_extract=[\"p\", \"li\", \"div\", \"a\"]\n",
    "    tags_to_extract=[\"a\"],\n",
    ")"
   ]
  },
  {
   "cell_type": "code",
   "execution_count": 21,
   "metadata": {},
   "outputs": [
    {
     "name": "stdout",
     "output_type": "stream",
     "text": [
      "\n"
     ]
    }
   ],
   "source": [
    "# a 태그의 내용을 출력합니다.\n",
    "print(docs_transformed[0].page_content[:1000])"
   ]
  },
  {
   "cell_type": "markdown",
   "metadata": {},
   "source": [
    "### WebBaseLoader"
   ]
  },
  {
   "cell_type": "code",
   "execution_count": 22,
   "metadata": {},
   "outputs": [
    {
     "name": "stderr",
     "output_type": "stream",
     "text": [
      "USER_AGENT environment variable not set, consider setting it to identify your requests.\n"
     ]
    }
   ],
   "source": [
    "from langchain_community.document_loaders import WebBaseLoader\n",
    "\n",
    "# 웹 페이지 \"https://news.naver.com/\"에서 데이터를 로드하는 WebBaseLoader 객체를 생성합니다.\n",
    "loader = WebBaseLoader(\"https://news.naver.com/\")\n",
    "\n",
    "# 한글이 깨져서 로드되는 경우 아래와 같이 인코딩을 지정합니다.\n",
    "# loader = WebBaseLoader(\"https://news.naver.com/\", encoding=\"utf-8\")"
   ]
  },
  {
   "cell_type": "code",
   "execution_count": 23,
   "metadata": {},
   "outputs": [],
   "source": [
    "# SSL 인증서 오류 우회\n",
    "loader.requests_kwargs = {\"verify\": False}"
   ]
  },
  {
   "cell_type": "code",
   "execution_count": 24,
   "metadata": {},
   "outputs": [
    {
     "name": "stderr",
     "output_type": "stream",
     "text": [
      "c:\\Users\\anHye\\anaconda3\\envs\\rag\\lib\\site-packages\\urllib3\\connectionpool.py:1099: InsecureRequestWarning: Unverified HTTPS request is being made to host 'news.naver.com'. Adding certificate verification is strongly advised. See: https://urllib3.readthedocs.io/en/latest/advanced-usage.html#tls-warnings\n",
      "  warnings.warn(\n"
     ]
    },
    {
     "name": "stdout",
     "output_type": "stream",
     "text": [
      "증=발목 안쪽의 복숭아뼈 바로 아래 오목하게 들어가는 '조해혈(더팩트07월 29일 22:27구독'티메프 사태' 검경·법원의 시간…출국금지 등 본격 수사검찰 반부패부 중심 전담수사팀 구성 경찰 피해자 고소 접수해 강남서 수사 서울회생법원 기업회생 신청 심사 절차 '티몬·위메프 사태'를 맞아 검경이 본격 수사에 착수하고 법원도 기업회생 신청을 심사하는 등 수사기관과 kbc광주방송07월 29일 22:18구독[파리올림픽]유도 57㎏급 허미미, 몽골 선수에 절반승..준결승 진출▲ 2024 파리올림픽 유도 여자 57kg급에 출전한 허미미 [연합뉴스] 한국 유도 허미미가 2024 파리 올림픽 준결승에 진출했습니다.세계랭킹 3위 허미미는 29일(현지시간) 프랑스 파리 샹드마르스 경기장에서 열린 대회 여자 57㎏급 8강전에서 몽골 국적 랭킹 13위 엥흐릴렌 라그바토구에게 절반승을 거뒀습니다.라그바토구...\n"
     ]
    }
   ],
   "source": [
    "# 로더를 사용하여 데이터를 불러옵니다.\n",
    "web_data = loader.load()\n",
    "# 불러온 데이터를 출력합니다.\n",
    "print(web_data[0].page_content[2000:2500].replace(\"\\n\", \"\"))"
   ]
  },
  {
   "cell_type": "code",
   "execution_count": 25,
   "metadata": {},
   "outputs": [],
   "source": [
    "import requests\n",
    "from bs4 import BeautifulSoup\n",
    "\n",
    "html_doc = requests.get(\"https://news.naver.com/\")\n",
    "soup = BeautifulSoup(html_doc.text, \"html.parser\")\n",
    "\n",
    "# 예제 코드\n",
    "# soup.select_one(\"td[class='scrtext']\").text"
   ]
  },
  {
   "cell_type": "code",
   "execution_count": 26,
   "metadata": {},
   "outputs": [
    {
     "name": "stdout",
     "output_type": "stream",
     "text": [
      "본문 바로가기NAVER뉴스연예스포츠날씨프리미엄검색언론사별정치경제사회생활/문화IT/과학세계랭킹신문보기오피니언TV팩트체크알고리즘 안내정정보도 모음콘텐츠7.29(월)전체 언론사뉴스스탠드라이브러리언론사편집기자                                            연재                                                            구독설정                                여성신문07월 29일 18:39구독“페미니스트, 임신중지 합법화…” 프랑스 여성 위인 기린 파리 올림픽\"루이즈 미셸은 교사이자 작가, 페미니스트 운동가입니다.\" \"알리스 기, 프랑스 영화의 선구자입니다. 세계 최초의 여성 영화감독이죠. 그의 '양배추 요정'이라는 작품은 세계 최초의 극영화입니다.\" \"시몬 베유, 정치노컷뉴스07월 29일 23:00구독\"한국 침몰하고 있다\"[어텐션 뉴스]온라인 핫 뉴스만 콕콕…[어텐션 뉴스] 방송 : CBS 라디오 '박지환의 뉴스톡' ■ 채널 : 표준FM 98.1 (17:30~18:00) ■ 진행 : 박지환 앵커 [앵커] 오늘 하루 온라인에서 가장 주목 받은 뉴스만더스쿠프07월 29일 18:14구독환불 받지 못한 머지 피해자들, 위메프‧티몬 '같은 길 무서운 길'# 위메프‧티몬 사태는 '완전한 해결'이 가능할까. 정부가 분쟁조정 절차 개시, 셀러(seller)를 위한 대규모 자금 지원 등의 방안을 내놓았지만 피해자의 우려는 수그러들지 않고 있다. 위메프와 티몬의 뉴스107월 29일 22:32구독'3연패 도전' 남자양궁, 8강서 일본 완파하고 4강 진출[올림픽]2024 파리올림픽 대한민국 양궁대표팀 김우진(왼쪽부터), 이우석, 김제덕이 단체전 4강에 진출했다. /뉴스1 DB ⓒ News1 이동해 기자(파리=뉴스1) 권혁준 기자 = 올림픽 단체전 3연패에 도전하는 남자 양궁 대표팀이 '한일전'으로 치러진 토너먼트 첫판을 승리로 장식하고 4강에 올랐다.김우진(32·청주시청), 김제...경기\n"
     ]
    }
   ],
   "source": [
    "# body 태그의 내용을 출력합니다.\n",
    "print(soup.select_one(\"body\").text.replace(\"\\n\", \"\")[:1000])"
   ]
  },
  {
   "cell_type": "markdown",
   "metadata": {},
   "source": [
    "### 여러 페이지 로드"
   ]
  },
  {
   "cell_type": "code",
   "execution_count": 27,
   "metadata": {},
   "outputs": [
    {
     "name": "stdout",
     "output_type": "stream",
     "text": [
      "Naver\n",
      "                        구독설정                                코메디닷컴07월 29일 22:37구독\"배에 고름 차더니 10cm 구멍 뚫려\"...뱃살 없애려고 주사 맞았다가, 무슨 일?지방용해주사를 맞고 뱃살을 빼려다 부작용으로 배 구멍이 생긴 여성의 사연이 전해졌다. 복부가 찢어지듯 생긴 구멍만도 깊이 6.985cm, 폭 10.16cm 달했다. 최근 미국 일간 뉴욕포스트 등의 보도에 따르면 영국MBN07월 29일 22:41구독'삐약이' 신유빈, 여자 단식 산뜻한 출발…오늘 밤 중국과 4강전29일(현지 시각) 프랑스 파리 사우스파리 아레나에서 열린 2024 파리올림픽 탁구 여자 단식 64강전에 출전한 신유빈이 호주의 멜리사 태퍼를 상대로 경기를 펼치고 있다. / 사진=연합뉴스 한국 탁구 간판 ‘삐약이’ 신유빈(20·대한항공)이 파리 올림픽 여자 단식 32강에 가볍게 올랐습니다. 세계랭킹 8위 신유빈은 29일...아이뉴스2407월 29일 22:50구독국정원 \"김정은, 새로운 약제 찾는 중…김주애 유력 후계자 수업 진행\"국가정보위원회는 29일 \"김정은이 기존 약제가 아닌 다른 약제를 찾고 있는 동향이 포착됐다\"며 \"김주애를 유력한 후계자로 암시하며 후계자 수업을 진행 중\"이라고 밝혔다. 국회 정보위원회는 이날 오후 서울 여의도 국회국민일보07월 29일 21:39구독100번째 金 반효진 “하늘이 준 기회…이름 남기려 독하게 쐈다”‘여고생 사수’ 반효진(16·대구체고)이 한국에 하계올림픽 100번째 금메달을 안겼다. 생애 첫 올림픽 무대서 연이틀 올림픽 신기록을 갈아치우는 \n",
      "============================================================\n",
      "Daum\n",
      "다음뉴스 | 홈본문 바로가기메뉴 바로가기뉴스관련 서비스연예스포츠날씨 뉴스 메인메뉴홈사회정치경제국제문화IT연재포토팩트체크홈이슈 기사 목록지디넷코리아IT/과학                                    \"수수료 규제, 플랫폼 성장·발전 저해할 수도\"                                한겨레사회                                    [단독] DJ 동교동 사저, 7월 초 팔렸다                                코메디닷컴생활                                    \"약 없어도 혈압 낮출 수 있다\"... '이런 습관' 길들이면 혈압 뚝                                헬스조선속보                                    불면증·두통·땀… 여름에 겪는 증상, 발 마사지로 해결하는 법                                지디넷코리아속보                                    탄력받은 비트코인, 6만9천 달러 육박…상승 원동력은?                                뉴시스정치                                    [단독]이훈기 의원 \"유상임 자녀 '강남8학군' 진학 위해 위장전입 의혹\"                                뉴시스정치                                    여 \"갑질·모욕주기 청문회\" vs 야 \"지명 철회 안하면 탄핵\"…이진숙 거취 공방                                채널A사회                                    어린 모까지 갉아먹는 ‘천덕꾸러기’ 왕우렁이                                중앙일보정치                                    한동훈 강성 지지층 신조어 '가딸' '한딸'\n"
     ]
    }
   ],
   "source": [
    "# 웹 페이지 URL 목록을 사용하여 WebBaseLoader 객체를 생성합니다.\n",
    "loader = WebBaseLoader([\"https://news.naver.com/\", \"https://news.daum.net\"])\n",
    "docs = loader.load()  # 지정된 웹 페이지에서 문서를 로드합니다.\n",
    "# 로드된 문서를 출력합니다.\n",
    "print(\"Naver\")\n",
    "print(docs[0].page_content.replace(\"\\n\", \"\")[200:1000])\n",
    "print(\"===\" * 20)\n",
    "print(\"Daum\")\n",
    "print(docs[1].page_content.replace(\"\\n\", \"\")[:1000])"
   ]
  },
  {
   "cell_type": "markdown",
   "metadata": {},
   "source": [
    "### 여러 URL을 동시에 로드"
   ]
  },
  {
   "cell_type": "code",
   "execution_count": 28,
   "metadata": {},
   "outputs": [
    {
     "name": "stderr",
     "output_type": "stream",
     "text": [
      "Fetching pages: 100%|##########| 2/2 [00:00<00:00,  3.56it/s]\n"
     ]
    },
    {
     "name": "stdout",
     "output_type": "stream",
     "text": [
      "Naver\n",
      "                        구독설정                                오마이뉴스07월 29일 21:27구독지리산엔 '재즈 복지'가 있습니다여기저기 재즈가 풍년이다. 유튜브에도 스탠다드 재즈부터 K-pop을 편곡한 재즈 플레이리스트가 넘쳐나고, 노동요가 필요한 많은 노동자들은 귀가 피로해지는 음악을 잠깐 내려놓고 재즈를 찾기 시작했다. 지난해부터 이곳,연합뉴스TV07월 29일 22:53구독동영상재생시간02:13중국, 태풍 '개미' 여파 계속…폭우에 산사태·제방 붕괴제3호 태풍 '개미'가 소멸됐지만 중국은 여전히 개미의 영향을 받고 있습니다. 중부 내륙과 동북 3성 지역은 많은 비가 내리면서 홍수 피해가 잇따르고 있는데요. 시진핑 주석은 인명 피해 최소화를 지시했습니다. 베이징농민신문07월 29일 21:03구독“잦은 비가 야속해”…단감 주산지, 이른 탄저병과 ‘사투’“하루에 흘리는 땀을 통에 모으면 한 말은 될 듯합니다.” 경남 김해시 한림면에서 단감을 재배하는 심재균씨(59)는 장마가 주춤해진 요즘 과수원에서 탄저병을 방제하느라 온몸에 진이 다 빠진다. 3만9669㎡(1만20동아일보07월 29일 22:50구독올림픽 시상대서 “찰칵”…갤럭시Z 플립6, 영광의 순간 담는다27일(현지시간) 프랑스 파리 그랑 팔레에서 열린 2024 파리올림픽 펜싱 남자 사브르 결승전에서 파레스 페르자니(튀니지)를 꺾고 우승을 차지한 오상욱이 시상대에 올라 삼성 Z 플립6로 기념촬영을 하고 있다. 2024.7.282024.7.27. 파리=올림픽사진공동취재단2024 파리 올림픽에서 메달을 따낸 선수들\n",
      "============================================================\n",
      "Daum\n",
      "다음뉴스 | 홈본문 바로가기메뉴 바로가기뉴스관련 서비스연예스포츠날씨 뉴스 메인메뉴홈사회정치경제국제문화IT연재포토팩트체크홈이슈 기사 목록지디넷코리아IT/과학                                    \"수수료 규제, 플랫폼 성장·발전 저해할 수도\"                                한겨레사회                                    [단독] DJ 동교동 사저, 7월 초 팔렸다                                코메디닷컴생활                                    \"약 없어도 혈압 낮출 수 있다\"... '이런 습관' 길들이면 혈압 뚝                                헬스조선속보                                    불면증·두통·땀… 여름에 겪는 증상, 발 마사지로 해결하는 법                                지디넷코리아속보                                    탄력받은 비트코인, 6만9천 달러 육박…상승 원동력은?                                뉴시스정치                                    [단독]이훈기 의원 \"유상임 자녀 '강남8학군' 진학 위해 위장전입 의혹\"                                뉴시스정치                                    여 \"갑질·모욕주기 청문회\" vs 야 \"지명 철회 안하면 탄핵\"…이진숙 거취 공방                                채널A사회                                    어린 모까지 갉아먹는 ‘천덕꾸러기’ 왕우렁이                                중앙일보정치                                    한동훈 강성 지지층 신조어 '가딸' '한딸'\n"
     ]
    }
   ],
   "source": [
    "# 웹 페이지 URL 목록을 사용하여 WebBaseLoader 객체를 생성합니다.\n",
    "loader = WebBaseLoader([\"https://news.naver.com/\", \"https://news.daum.net\"])\n",
    "loader.requests_per_second = 1  # 초당 요청 수를 1로 설정합니다.\n",
    "docs = loader.aload()  # 지정된 웹 페이지에서 문서를 로드합니다.\n",
    "# 로드된 문서를 출력합니다.\n",
    "print(\"Naver\")\n",
    "print(docs[0].page_content.replace(\"\\n\", \"\")[200:1000])\n",
    "print(\"===\" * 20)\n",
    "print(\"Daum\")\n",
    "print(docs[1].page_content.replace(\"\\n\", \"\")[:1000])"
   ]
  },
  {
   "cell_type": "markdown",
   "metadata": {},
   "source": [
    "### XML 파일 로드"
   ]
  },
  {
   "cell_type": "code",
   "execution_count": 29,
   "metadata": {},
   "outputs": [
    {
     "name": "stdout",
     "output_type": "stream",
     "text": [
      "10Energy32018-01-012018-01-01falseUniform test method for the measurement of energy efficiency of commercial packaged boilers.Â§ 431.86Section Â§ 431.86EnergyDEPARTMENT OF ENERGYENERGY CONSERVATIONENERGY EFFICIENCY PROGRAM FOR CERTAIN COMMERCIAL AND INDUSTRIAL EQUIPMENTCommercial Packaged BoilersTest Procedures§ 431.86Uniform test method for the measurement of energy efficiency of commercial packaged boilers.(a) Scope. This section provides test procedures, pursuant to the Energy Policy and Conservation Act (EPCA), as amended, which must be followed for measuring the combustion efficiency and/or thermal efficiency of a gas- or oil-fired commercial packaged boiler.(b) Testing and Calculations. Determine the thermal efficiency or combustion efficiency of commercial packaged boilers by conducting the appropriate test procedure(s) indicated in Table 1 of this section.Table 1—Test Requirements for Commercial Packaged Boiler Equipment ClassesEquipment categorySu\n"
     ]
    }
   ],
   "source": [
    "loader = WebBaseLoader(\n",
    "    # 웹 기반 로더를 사용하여 XML 문서를 로드합니다.\n",
    "    \"https://www.govinfo.gov/content/pkg/CFR-2018-title10-vol3/xml/CFR-2018-title10-vol3-sec431-86.xml\"\n",
    ")\n",
    "loader.default_parser = \"xml\"  # 기본 파서를 XML로 설정합니다.\n",
    "docs = loader.load()  # 문서를 로드합니다.\n",
    "\n",
    "# 로드된 문서를 출력합니다.\n",
    "print(docs[0].page_content[:1000].replace(\"\\n\", \"\"))"
   ]
  },
  {
   "cell_type": "code",
   "execution_count": null,
   "metadata": {},
   "outputs": [],
   "source": []
  }
 ],
 "metadata": {
  "kernelspec": {
   "display_name": "rag",
   "language": "python",
   "name": "python3"
  },
  "language_info": {
   "codemirror_mode": {
    "name": "ipython",
    "version": 3
   },
   "file_extension": ".py",
   "mimetype": "text/x-python",
   "name": "python",
   "nbconvert_exporter": "python",
   "pygments_lexer": "ipython3",
   "version": "3.10.14"
  }
 },
 "nbformat": 4,
 "nbformat_minor": 2
}
